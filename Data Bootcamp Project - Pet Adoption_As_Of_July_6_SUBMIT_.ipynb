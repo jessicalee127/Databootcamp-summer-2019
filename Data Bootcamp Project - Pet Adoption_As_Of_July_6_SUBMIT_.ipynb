{
 "cells": [
  {
   "cell_type": "markdown",
   "metadata": {},
   "source": [
    "<center><b><font size='5' color='blue'>DATA BOOTCAMP PROJECT - PET ADOPTION</font></b></center>\n",
    "<br><br>"
   ]
  },
  {
   "cell_type": "markdown",
   "metadata": {},
   "source": [
    "<center><b><font size='5'color='red'>OVERVIEW</font></b></center>\n",
    "<br><br>"
   ]
  },
  {
   "cell_type": "markdown",
   "metadata": {},
   "source": [
    "Data Scientists for this project: Shimeng Cao (sc6755@stern.nyu.edu), Jiarong Li (jl9175@stern.nyu.edu), and Evan Okin (eo919@stern.nyu.edu)"
   ]
  },
  {
   "cell_type": "markdown",
   "metadata": {},
   "source": [
    "For our project, we analyzed pet adoption data for cats and dogs. We scoured data science competitions on Kaggle.com to look for a dataset that we were passionate about. We found a competition called \"Pet Adoption Speed Prediction\" which provides roughly 15,000 rows data for cats and dogs. As people who have adopted pets in the past, we decided that this would be a fun project. In a best case scenario, we might even find enough insights to share with a pet adoption agency to improve the likelihood of pets being adopted. \n",
    "\n",
    "To help readers better follow our project, we structured our analysis in below flow：\n",
    "- Data Exploration and Cleaning\n",
    "- Regression Analysis\n",
    "- Machine Learning Algorithms:\n",
    "1) ML for the regression problem\n",
    "2) ML for the classification problem"
   ]
  },
  {
   "cell_type": "markdown",
   "metadata": {},
   "source": [
    "<center><b><font size='5'color='red'>IMPORT PACKAGES</font></b></center>\n",
    "<br><br>"
   ]
  },
  {
   "cell_type": "markdown",
   "metadata": {},
   "source": [
    "We start by importing necessary packages and libraries. This will allow us to read in our data, perform operations more fluently on dataframes, and create some beautiful visualizations. Additionally, we will be able to perform regressions and create prediction models using machine learning algorithms."
   ]
  },
  {
   "cell_type": "code",
   "execution_count": 68,
   "metadata": {},
   "outputs": [],
   "source": [
    "#Working With DataFrames\n",
    "import pandas as pd\n",
    "import numpy as np\n",
    "#Data Visualizations\n",
    "import matplotlib.pyplot as plt\n",
    "%matplotlib inline\n",
    "import seaborn as sns\n",
    "#Regressions and Machine Learning\n",
    "import statsmodels.formula.api as smf\n",
    "import patsy\n",
    "from sklearn.model_selection import cross_val_score\n",
    "from sklearn.linear_model import LinearRegression as reg\n",
    "from sklearn.linear_model import LogisticRegression as logistic\n",
    "from sklearn.neighbors import KNeighborsRegressor as knn\n",
    "from sklearn.ensemble import RandomForestRegressor as rf\n",
    "from sklearn.neighbors import KNeighborsClassifier as knnc\n",
    "from sklearn.ensemble import RandomForestClassifier as rfc\n",
    "from sklearn.model_selection import train_test_split"
   ]
  },
  {
   "cell_type": "markdown",
   "metadata": {},
   "source": [
    "We saved the data from Kaggle.com Competiton (Pet Adoption Speed Prediction) to our desktops (where we set our working directory to be via terminal, where our jupyter notebook is also set up). Next, we read in the dataset, which we saved as a csv (this is the convention file type for large datasets)."
   ]
  },
  {
   "cell_type": "code",
   "execution_count": 4,
   "metadata": {},
   "outputs": [],
   "source": [
    "df=pd.read_csv('/Users/jessica.li/Desktop/dataset_final_project.csv')"
   ]
  },
  {
   "cell_type": "markdown",
   "metadata": {},
   "source": [
    "<center><b><font size='5'color='red'>DATA EXPLORATION AND CLEANING</font></b></center>\n",
    "<br><br>"
   ]
  },
  {
   "cell_type": "markdown",
   "metadata": {},
   "source": [
    "The following are the data fields corresponding to our project, which we obtained on Kaggle.com:\n",
    "\n",
    "PetID - Unique hash ID of pet profile <br>\n",
    "AdoptionSpeed - Categorical speed of adoption. Lower is faster. This is the value to predict. See below section for more info.<br>\n",
    "Type - Type of animal (1 = Dog, 2 = Cat)<br>\n",
    "Name - Name of pet (Empty if not named)<br>\n",
    "Age - Age of pet when listed, in months<br>\n",
    "Breed1 - Primary breed of pet (Refer to BreedLabels dictionary)<br>\n",
    "Breed2 - Secondary breed of pet, if pet is of mixed breed (Refer to BreedLabels dictionary)<br>\n",
    "Gender - Gender of pet (1 = Male, 2 = Female, 3 = Mixed, if profile represents group of pets)<br>\n",
    "Color1 - Color 1 of pet (Refer to ColorLabels dictionary)<br>\n",
    "Color2 - Color 2 of pet (Refer to ColorLabels dictionary)<br>\n",
    "Color3 - Color 3 of pet (Refer to ColorLabels dictionary)<br>\n",
    "MaturitySize - Size at maturity (1 = Small, 2 = Medium, 3 = Large, 4 = Extra Large, 0 = Not Specified)<br>\n",
    "FurLength - Fur length (1 = Short, 2 = Medium, 3 = Long, 0 = Not Specified)<br>\n",
    "Vaccinated - Pet has been vaccinated (1 = Yes, 2 = No, 3 = Not Sure)<br>\n",
    "Dewormed - Pet has been dewormed (1 = Yes, 2 = No, 3 = Not Sure)<br>\n",
    "Sterilized - Pet has been spayed / neutered (1 = Yes, 2 = No, 3 = Not Sure)<br>\n",
    "Health - Health Condition (1 = Healthy, 2 = Minor Injury, 3 = Serious Injury, 0 = Not Specified)<br>\n",
    "Quantity - Number of pets represented in profile<br>\n",
    "Fee - Adoption fee (0 = Free)<br>\n",
    "State - State location in Malaysia (Refer to StateLabels dictionary)<br>\n",
    "RescuerID - Unique hash ID of rescuer<br>\n",
    "VideoAmt - Total uploaded videos for this pet<br>\n",
    "PhotoAmt - Total uploaded photos for this pet<br>\n",
    "Description - Profile write-up for this pet. The primary language used is English, with some in Malay or Chinese."
   ]
  },
  {
   "cell_type": "markdown",
   "metadata": {},
   "source": [
    "We wanted to explore the data. Ultimately, we wanted to figure out the predictive nature of these variables in determining whether or not we could predict (one way or another) whether a pet would be adopted. At first glance, we saw a variable PetID, which we believed should have no predictive value. On the other hand, the variable Vaccinated is likely to be predictive (before analyzing the data, we believed that a pet that is vaccinated would be more likely to be adopted than a pet that is not vaccinated)."
   ]
  },
  {
   "cell_type": "markdown",
   "metadata": {},
   "source": [
    "We looked at the first three rows of the dataframe, to make sure that it loaded into python properly."
   ]
  },
  {
   "cell_type": "code",
   "execution_count": 5,
   "metadata": {},
   "outputs": [
    {
     "data": {
      "text/html": [
       "<div>\n",
       "<style scoped>\n",
       "    .dataframe tbody tr th:only-of-type {\n",
       "        vertical-align: middle;\n",
       "    }\n",
       "\n",
       "    .dataframe tbody tr th {\n",
       "        vertical-align: top;\n",
       "    }\n",
       "\n",
       "    .dataframe thead th {\n",
       "        text-align: right;\n",
       "    }\n",
       "</style>\n",
       "<table border=\"1\" class=\"dataframe\">\n",
       "  <thead>\n",
       "    <tr style=\"text-align: right;\">\n",
       "      <th></th>\n",
       "      <th>Type</th>\n",
       "      <th>Name</th>\n",
       "      <th>Age</th>\n",
       "      <th>Breed1</th>\n",
       "      <th>Breed2</th>\n",
       "      <th>Gender</th>\n",
       "      <th>Color1</th>\n",
       "      <th>Color2</th>\n",
       "      <th>Color3</th>\n",
       "      <th>MaturitySize</th>\n",
       "      <th>...</th>\n",
       "      <th>Health</th>\n",
       "      <th>Quantity</th>\n",
       "      <th>Fee</th>\n",
       "      <th>State</th>\n",
       "      <th>RescuerID</th>\n",
       "      <th>VideoAmt</th>\n",
       "      <th>Description</th>\n",
       "      <th>PetID</th>\n",
       "      <th>PhotoAmt</th>\n",
       "      <th>AdoptionSpeed</th>\n",
       "    </tr>\n",
       "  </thead>\n",
       "  <tbody>\n",
       "    <tr>\n",
       "      <th>0</th>\n",
       "      <td>2.0</td>\n",
       "      <td>Nibble</td>\n",
       "      <td>3</td>\n",
       "      <td>299</td>\n",
       "      <td>0</td>\n",
       "      <td>1.0</td>\n",
       "      <td>1</td>\n",
       "      <td>7</td>\n",
       "      <td>0</td>\n",
       "      <td>1</td>\n",
       "      <td>...</td>\n",
       "      <td>1</td>\n",
       "      <td>1</td>\n",
       "      <td>100.0</td>\n",
       "      <td>41326</td>\n",
       "      <td>8480853f516546f6cf33aa88cd76c379</td>\n",
       "      <td>0</td>\n",
       "      <td>Nibble is a 3+ month old ball of cuteness. He ...</td>\n",
       "      <td>86e1089a3</td>\n",
       "      <td>1</td>\n",
       "      <td>2</td>\n",
       "    </tr>\n",
       "    <tr>\n",
       "      <th>1</th>\n",
       "      <td>2.0</td>\n",
       "      <td>No Name Yet</td>\n",
       "      <td>1</td>\n",
       "      <td>265</td>\n",
       "      <td>0</td>\n",
       "      <td>1.0</td>\n",
       "      <td>1</td>\n",
       "      <td>2</td>\n",
       "      <td>0</td>\n",
       "      <td>2</td>\n",
       "      <td>...</td>\n",
       "      <td>1</td>\n",
       "      <td>1</td>\n",
       "      <td>0.0</td>\n",
       "      <td>41401</td>\n",
       "      <td>3082c7125d8fb66f7dd4bff4192c8b14</td>\n",
       "      <td>0</td>\n",
       "      <td>I just found it alone yesterday near my apartm...</td>\n",
       "      <td>6296e909a</td>\n",
       "      <td>2</td>\n",
       "      <td>0</td>\n",
       "    </tr>\n",
       "    <tr>\n",
       "      <th>2</th>\n",
       "      <td>1.0</td>\n",
       "      <td>Brisco</td>\n",
       "      <td>1</td>\n",
       "      <td>307</td>\n",
       "      <td>0</td>\n",
       "      <td>1.0</td>\n",
       "      <td>2</td>\n",
       "      <td>7</td>\n",
       "      <td>0</td>\n",
       "      <td>2</td>\n",
       "      <td>...</td>\n",
       "      <td>1</td>\n",
       "      <td>1</td>\n",
       "      <td>0.0</td>\n",
       "      <td>41326</td>\n",
       "      <td>fa90fa5b1ee11c86938398b60abc32cb</td>\n",
       "      <td>0</td>\n",
       "      <td>Their pregnant mother was dumped by her irresp...</td>\n",
       "      <td>3422e4906</td>\n",
       "      <td>7</td>\n",
       "      <td>3</td>\n",
       "    </tr>\n",
       "  </tbody>\n",
       "</table>\n",
       "<p>3 rows × 24 columns</p>\n",
       "</div>"
      ],
      "text/plain": [
       "   Type         Name  Age  Breed1  Breed2  Gender  Color1  Color2  Color3  \\\n",
       "0   2.0       Nibble    3     299       0     1.0       1       7       0   \n",
       "1   2.0  No Name Yet    1     265       0     1.0       1       2       0   \n",
       "2   1.0       Brisco    1     307       0     1.0       2       7       0   \n",
       "\n",
       "   MaturitySize  ...  Health  Quantity    Fee  State  \\\n",
       "0             1  ...       1         1  100.0  41326   \n",
       "1             2  ...       1         1    0.0  41401   \n",
       "2             2  ...       1         1    0.0  41326   \n",
       "\n",
       "                          RescuerID  VideoAmt  \\\n",
       "0  8480853f516546f6cf33aa88cd76c379         0   \n",
       "1  3082c7125d8fb66f7dd4bff4192c8b14         0   \n",
       "2  fa90fa5b1ee11c86938398b60abc32cb         0   \n",
       "\n",
       "                                         Description      PetID PhotoAmt  \\\n",
       "0  Nibble is a 3+ month old ball of cuteness. He ...  86e1089a3        1   \n",
       "1  I just found it alone yesterday near my apartm...  6296e909a        2   \n",
       "2  Their pregnant mother was dumped by her irresp...  3422e4906        7   \n",
       "\n",
       "   AdoptionSpeed  \n",
       "0              2  \n",
       "1              0  \n",
       "2              3  \n",
       "\n",
       "[3 rows x 24 columns]"
      ]
     },
     "execution_count": 5,
     "metadata": {},
     "output_type": "execute_result"
    }
   ],
   "source": [
    "df.head(3)"
   ]
  },
  {
   "cell_type": "markdown",
   "metadata": {},
   "source": [
    "We wanted to see how many rows and columns the dataset has."
   ]
  },
  {
   "cell_type": "code",
   "execution_count": 6,
   "metadata": {},
   "outputs": [
    {
     "data": {
      "text/plain": [
       "(14993, 24)"
      ]
     },
     "execution_count": 6,
     "metadata": {},
     "output_type": "execute_result"
    }
   ],
   "source": [
    "df.shape"
   ]
  },
  {
   "cell_type": "markdown",
   "metadata": {},
   "source": [
    "The dataset has 14,993 rows and 24 columns. With 24 columns, we have a lot of potential variables to aid in our prediction models."
   ]
  },
  {
   "cell_type": "markdown",
   "metadata": {},
   "source": [
    "We wanted to explore the variables."
   ]
  },
  {
   "cell_type": "code",
   "execution_count": 7,
   "metadata": {},
   "outputs": [
    {
     "data": {
      "text/html": [
       "<div>\n",
       "<style scoped>\n",
       "    .dataframe tbody tr th:only-of-type {\n",
       "        vertical-align: middle;\n",
       "    }\n",
       "\n",
       "    .dataframe tbody tr th {\n",
       "        vertical-align: top;\n",
       "    }\n",
       "\n",
       "    .dataframe thead th {\n",
       "        text-align: right;\n",
       "    }\n",
       "</style>\n",
       "<table border=\"1\" class=\"dataframe\">\n",
       "  <thead>\n",
       "    <tr style=\"text-align: right;\">\n",
       "      <th></th>\n",
       "      <th>Type</th>\n",
       "      <th>Age</th>\n",
       "      <th>Breed1</th>\n",
       "      <th>Breed2</th>\n",
       "      <th>Gender</th>\n",
       "      <th>Color1</th>\n",
       "      <th>Color2</th>\n",
       "      <th>Color3</th>\n",
       "      <th>MaturitySize</th>\n",
       "      <th>FurLength</th>\n",
       "      <th>Vaccinated</th>\n",
       "      <th>Dewormed</th>\n",
       "      <th>Sterilized</th>\n",
       "      <th>Health</th>\n",
       "      <th>Quantity</th>\n",
       "      <th>Fee</th>\n",
       "      <th>State</th>\n",
       "      <th>VideoAmt</th>\n",
       "      <th>PhotoAmt</th>\n",
       "      <th>AdoptionSpeed</th>\n",
       "    </tr>\n",
       "  </thead>\n",
       "  <tbody>\n",
       "    <tr>\n",
       "      <th>count</th>\n",
       "      <td>14991.000000</td>\n",
       "      <td>14993.000000</td>\n",
       "      <td>14993.000000</td>\n",
       "      <td>14993.000000</td>\n",
       "      <td>14991.000000</td>\n",
       "      <td>14993.000000</td>\n",
       "      <td>14993.000000</td>\n",
       "      <td>14993.000000</td>\n",
       "      <td>14993.000000</td>\n",
       "      <td>14993.000000</td>\n",
       "      <td>14993.000000</td>\n",
       "      <td>14993.000000</td>\n",
       "      <td>14993.000000</td>\n",
       "      <td>14993.000000</td>\n",
       "      <td>14993.000000</td>\n",
       "      <td>14992.000000</td>\n",
       "      <td>14993.000000</td>\n",
       "      <td>14993.000000</td>\n",
       "      <td>14993.000000</td>\n",
       "      <td>14993.000000</td>\n",
       "    </tr>\n",
       "    <tr>\n",
       "      <th>mean</th>\n",
       "      <td>1.457608</td>\n",
       "      <td>10.452078</td>\n",
       "      <td>265.272594</td>\n",
       "      <td>74.009738</td>\n",
       "      <td>1.776132</td>\n",
       "      <td>2.234176</td>\n",
       "      <td>3.222837</td>\n",
       "      <td>1.882012</td>\n",
       "      <td>1.862002</td>\n",
       "      <td>1.467485</td>\n",
       "      <td>1.731208</td>\n",
       "      <td>1.558727</td>\n",
       "      <td>1.914227</td>\n",
       "      <td>1.036617</td>\n",
       "      <td>1.576069</td>\n",
       "      <td>21.259405</td>\n",
       "      <td>41346.028347</td>\n",
       "      <td>0.056760</td>\n",
       "      <td>3.889215</td>\n",
       "      <td>2.516441</td>\n",
       "    </tr>\n",
       "    <tr>\n",
       "      <th>std</th>\n",
       "      <td>0.498216</td>\n",
       "      <td>18.155790</td>\n",
       "      <td>60.056818</td>\n",
       "      <td>123.011575</td>\n",
       "      <td>0.681535</td>\n",
       "      <td>1.745225</td>\n",
       "      <td>2.742562</td>\n",
       "      <td>2.984086</td>\n",
       "      <td>0.547959</td>\n",
       "      <td>0.599070</td>\n",
       "      <td>0.667649</td>\n",
       "      <td>0.695817</td>\n",
       "      <td>0.566172</td>\n",
       "      <td>0.199535</td>\n",
       "      <td>1.472477</td>\n",
       "      <td>78.417131</td>\n",
       "      <td>32.444153</td>\n",
       "      <td>0.346185</td>\n",
       "      <td>3.487810</td>\n",
       "      <td>1.177265</td>\n",
       "    </tr>\n",
       "    <tr>\n",
       "      <th>min</th>\n",
       "      <td>1.000000</td>\n",
       "      <td>0.000000</td>\n",
       "      <td>0.000000</td>\n",
       "      <td>0.000000</td>\n",
       "      <td>1.000000</td>\n",
       "      <td>1.000000</td>\n",
       "      <td>0.000000</td>\n",
       "      <td>0.000000</td>\n",
       "      <td>1.000000</td>\n",
       "      <td>1.000000</td>\n",
       "      <td>1.000000</td>\n",
       "      <td>1.000000</td>\n",
       "      <td>1.000000</td>\n",
       "      <td>1.000000</td>\n",
       "      <td>1.000000</td>\n",
       "      <td>0.000000</td>\n",
       "      <td>41324.000000</td>\n",
       "      <td>0.000000</td>\n",
       "      <td>0.000000</td>\n",
       "      <td>0.000000</td>\n",
       "    </tr>\n",
       "    <tr>\n",
       "      <th>25%</th>\n",
       "      <td>1.000000</td>\n",
       "      <td>2.000000</td>\n",
       "      <td>265.000000</td>\n",
       "      <td>0.000000</td>\n",
       "      <td>1.000000</td>\n",
       "      <td>1.000000</td>\n",
       "      <td>0.000000</td>\n",
       "      <td>0.000000</td>\n",
       "      <td>2.000000</td>\n",
       "      <td>1.000000</td>\n",
       "      <td>1.000000</td>\n",
       "      <td>1.000000</td>\n",
       "      <td>2.000000</td>\n",
       "      <td>1.000000</td>\n",
       "      <td>1.000000</td>\n",
       "      <td>0.000000</td>\n",
       "      <td>41326.000000</td>\n",
       "      <td>0.000000</td>\n",
       "      <td>2.000000</td>\n",
       "      <td>2.000000</td>\n",
       "    </tr>\n",
       "    <tr>\n",
       "      <th>50%</th>\n",
       "      <td>1.000000</td>\n",
       "      <td>3.000000</td>\n",
       "      <td>266.000000</td>\n",
       "      <td>0.000000</td>\n",
       "      <td>2.000000</td>\n",
       "      <td>2.000000</td>\n",
       "      <td>2.000000</td>\n",
       "      <td>0.000000</td>\n",
       "      <td>2.000000</td>\n",
       "      <td>1.000000</td>\n",
       "      <td>2.000000</td>\n",
       "      <td>1.000000</td>\n",
       "      <td>2.000000</td>\n",
       "      <td>1.000000</td>\n",
       "      <td>1.000000</td>\n",
       "      <td>0.000000</td>\n",
       "      <td>41326.000000</td>\n",
       "      <td>0.000000</td>\n",
       "      <td>3.000000</td>\n",
       "      <td>2.000000</td>\n",
       "    </tr>\n",
       "    <tr>\n",
       "      <th>75%</th>\n",
       "      <td>2.000000</td>\n",
       "      <td>12.000000</td>\n",
       "      <td>307.000000</td>\n",
       "      <td>179.000000</td>\n",
       "      <td>2.000000</td>\n",
       "      <td>3.000000</td>\n",
       "      <td>6.000000</td>\n",
       "      <td>5.000000</td>\n",
       "      <td>2.000000</td>\n",
       "      <td>2.000000</td>\n",
       "      <td>2.000000</td>\n",
       "      <td>2.000000</td>\n",
       "      <td>2.000000</td>\n",
       "      <td>1.000000</td>\n",
       "      <td>1.000000</td>\n",
       "      <td>0.000000</td>\n",
       "      <td>41401.000000</td>\n",
       "      <td>0.000000</td>\n",
       "      <td>5.000000</td>\n",
       "      <td>4.000000</td>\n",
       "    </tr>\n",
       "    <tr>\n",
       "      <th>max</th>\n",
       "      <td>2.000000</td>\n",
       "      <td>255.000000</td>\n",
       "      <td>307.000000</td>\n",
       "      <td>307.000000</td>\n",
       "      <td>3.000000</td>\n",
       "      <td>7.000000</td>\n",
       "      <td>7.000000</td>\n",
       "      <td>7.000000</td>\n",
       "      <td>4.000000</td>\n",
       "      <td>3.000000</td>\n",
       "      <td>3.000000</td>\n",
       "      <td>3.000000</td>\n",
       "      <td>3.000000</td>\n",
       "      <td>3.000000</td>\n",
       "      <td>20.000000</td>\n",
       "      <td>3000.000000</td>\n",
       "      <td>41415.000000</td>\n",
       "      <td>8.000000</td>\n",
       "      <td>30.000000</td>\n",
       "      <td>4.000000</td>\n",
       "    </tr>\n",
       "  </tbody>\n",
       "</table>\n",
       "</div>"
      ],
      "text/plain": [
       "               Type           Age        Breed1        Breed2        Gender  \\\n",
       "count  14991.000000  14993.000000  14993.000000  14993.000000  14991.000000   \n",
       "mean       1.457608     10.452078    265.272594     74.009738      1.776132   \n",
       "std        0.498216     18.155790     60.056818    123.011575      0.681535   \n",
       "min        1.000000      0.000000      0.000000      0.000000      1.000000   \n",
       "25%        1.000000      2.000000    265.000000      0.000000      1.000000   \n",
       "50%        1.000000      3.000000    266.000000      0.000000      2.000000   \n",
       "75%        2.000000     12.000000    307.000000    179.000000      2.000000   \n",
       "max        2.000000    255.000000    307.000000    307.000000      3.000000   \n",
       "\n",
       "             Color1        Color2        Color3  MaturitySize     FurLength  \\\n",
       "count  14993.000000  14993.000000  14993.000000  14993.000000  14993.000000   \n",
       "mean       2.234176      3.222837      1.882012      1.862002      1.467485   \n",
       "std        1.745225      2.742562      2.984086      0.547959      0.599070   \n",
       "min        1.000000      0.000000      0.000000      1.000000      1.000000   \n",
       "25%        1.000000      0.000000      0.000000      2.000000      1.000000   \n",
       "50%        2.000000      2.000000      0.000000      2.000000      1.000000   \n",
       "75%        3.000000      6.000000      5.000000      2.000000      2.000000   \n",
       "max        7.000000      7.000000      7.000000      4.000000      3.000000   \n",
       "\n",
       "         Vaccinated      Dewormed    Sterilized        Health      Quantity  \\\n",
       "count  14993.000000  14993.000000  14993.000000  14993.000000  14993.000000   \n",
       "mean       1.731208      1.558727      1.914227      1.036617      1.576069   \n",
       "std        0.667649      0.695817      0.566172      0.199535      1.472477   \n",
       "min        1.000000      1.000000      1.000000      1.000000      1.000000   \n",
       "25%        1.000000      1.000000      2.000000      1.000000      1.000000   \n",
       "50%        2.000000      1.000000      2.000000      1.000000      1.000000   \n",
       "75%        2.000000      2.000000      2.000000      1.000000      1.000000   \n",
       "max        3.000000      3.000000      3.000000      3.000000     20.000000   \n",
       "\n",
       "                Fee         State      VideoAmt      PhotoAmt  AdoptionSpeed  \n",
       "count  14992.000000  14993.000000  14993.000000  14993.000000   14993.000000  \n",
       "mean      21.259405  41346.028347      0.056760      3.889215       2.516441  \n",
       "std       78.417131     32.444153      0.346185      3.487810       1.177265  \n",
       "min        0.000000  41324.000000      0.000000      0.000000       0.000000  \n",
       "25%        0.000000  41326.000000      0.000000      2.000000       2.000000  \n",
       "50%        0.000000  41326.000000      0.000000      3.000000       2.000000  \n",
       "75%        0.000000  41401.000000      0.000000      5.000000       4.000000  \n",
       "max     3000.000000  41415.000000      8.000000     30.000000       4.000000  "
      ]
     },
     "execution_count": 7,
     "metadata": {},
     "output_type": "execute_result"
    }
   ],
   "source": [
    "df.describe()"
   ]
  },
  {
   "cell_type": "markdown",
   "metadata": {},
   "source": [
    "In class, we learned that convention is to use lower-case for columns in a dataframe. We clean up the column names per convention before diving into deeper analysis. Consistent headers will make it easier to run regressions as well."
   ]
  },
  {
   "cell_type": "code",
   "execution_count": 8,
   "metadata": {},
   "outputs": [],
   "source": [
    "df.columns=[i.lower() for i in df.columns]"
   ]
  },
  {
   "cell_type": "markdown",
   "metadata": {},
   "source": [
    "Next, we found the amount of null values by column. Null values of a column could be a bad thing - if we find a null value for a column that we care about, we might have to throw out the entire row/datapoint. On the other hand, if the null value is for a variable that is not predictive, it might not matter. In some cases, it will be fine to fill in the data with key statistics such as the mean or mode. Either way, it's important to have a clean dataset."
   ]
  },
  {
   "cell_type": "code",
   "execution_count": 9,
   "metadata": {},
   "outputs": [
    {
     "data": {
      "text/plain": [
       "type                2\n",
       "name             1257\n",
       "age                 0\n",
       "breed1              0\n",
       "breed2              0\n",
       "gender              2\n",
       "color1              0\n",
       "color2              0\n",
       "color3              0\n",
       "maturitysize        0\n",
       "furlength           0\n",
       "vaccinated          0\n",
       "dewormed            0\n",
       "sterilized          0\n",
       "health              0\n",
       "quantity            0\n",
       "fee                 1\n",
       "state               0\n",
       "rescuerid           0\n",
       "videoamt            0\n",
       "description        12\n",
       "petid               0\n",
       "photoamt            0\n",
       "adoptionspeed       0\n",
       "dtype: int64"
      ]
     },
     "execution_count": 9,
     "metadata": {},
     "output_type": "execute_result"
    }
   ],
   "source": [
    "df.isna().sum()"
   ]
  },
  {
   "cell_type": "markdown",
   "metadata": {},
   "source": [
    "First, we dealt with \"type.\" This variable tells us if the pet is a dog or a cat. With missing type, we don't know if the data point is a dog or a cat, and therefor we dropped the entire row."
   ]
  },
  {
   "cell_type": "code",
   "execution_count": 10,
   "metadata": {},
   "outputs": [],
   "source": [
    "df = df.dropna(subset=['type'])"
   ]
  },
  {
   "cell_type": "code",
   "execution_count": 11,
   "metadata": {},
   "outputs": [
    {
     "data": {
      "text/plain": [
       "type                0\n",
       "name             1257\n",
       "age                 0\n",
       "breed1              0\n",
       "breed2              0\n",
       "gender              2\n",
       "color1              0\n",
       "color2              0\n",
       "color3              0\n",
       "maturitysize        0\n",
       "furlength           0\n",
       "vaccinated          0\n",
       "dewormed            0\n",
       "sterilized          0\n",
       "health              0\n",
       "quantity            0\n",
       "fee                 1\n",
       "state               0\n",
       "rescuerid           0\n",
       "videoamt            0\n",
       "description        12\n",
       "petid               0\n",
       "photoamt            0\n",
       "adoptionspeed       0\n",
       "dtype: int64"
      ]
     },
     "execution_count": 11,
     "metadata": {},
     "output_type": "execute_result"
    }
   ],
   "source": [
    "df.isna().sum()"
   ]
  },
  {
   "cell_type": "markdown",
   "metadata": {},
   "source": [
    "Next we dealt with the null value for \"fee.\" We looked at the distribution:"
   ]
  },
  {
   "cell_type": "code",
   "execution_count": 12,
   "metadata": {},
   "outputs": [
    {
     "data": {
      "text/plain": [
       "0.0      0.844573\n",
       "50.0     0.031219\n",
       "100.0    0.027216\n",
       "200.0    0.014609\n",
       "150.0    0.010806\n",
       "Name: fee, dtype: float64"
      ]
     },
     "execution_count": 12,
     "metadata": {},
     "output_type": "execute_result"
    }
   ],
   "source": [
    "df['fee'].value_counts().head(5)/len(df['fee'])"
   ]
  },
  {
   "cell_type": "markdown",
   "metadata": {},
   "source": [
    "Nearly 85% of the fee values are 0, so we decided to replace null values with the (overwhelmingly popular) mode."
   ]
  },
  {
   "cell_type": "code",
   "execution_count": 13,
   "metadata": {},
   "outputs": [],
   "source": [
    "df['fee'].fillna(0,inplace=True)"
   ]
  },
  {
   "cell_type": "code",
   "execution_count": 14,
   "metadata": {},
   "outputs": [
    {
     "data": {
      "text/plain": [
       "type                0\n",
       "name             1257\n",
       "age                 0\n",
       "breed1              0\n",
       "breed2              0\n",
       "gender              2\n",
       "color1              0\n",
       "color2              0\n",
       "color3              0\n",
       "maturitysize        0\n",
       "furlength           0\n",
       "vaccinated          0\n",
       "dewormed            0\n",
       "sterilized          0\n",
       "health              0\n",
       "quantity            0\n",
       "fee                 0\n",
       "state               0\n",
       "rescuerid           0\n",
       "videoamt            0\n",
       "description        12\n",
       "petid               0\n",
       "photoamt            0\n",
       "adoptionspeed       0\n",
       "dtype: int64"
      ]
     },
     "execution_count": 14,
     "metadata": {},
     "output_type": "execute_result"
    }
   ],
   "source": [
    "df.isna().sum()"
   ]
  },
  {
   "cell_type": "markdown",
   "metadata": {},
   "source": [
    "We decided to remove the variable \"name\" since it likely has no predictive power and the column has a lot of missing values."
   ]
  },
  {
   "cell_type": "code",
   "execution_count": 15,
   "metadata": {},
   "outputs": [
    {
     "data": {
      "text/plain": [
       "(14977, 23)"
      ]
     },
     "execution_count": 15,
     "metadata": {},
     "output_type": "execute_result"
    }
   ],
   "source": [
    "df = df.drop('name',axis=1).dropna()\n",
    "df.shape"
   ]
  },
  {
   "cell_type": "code",
   "execution_count": 16,
   "metadata": {},
   "outputs": [
    {
     "data": {
      "text/plain": [
       "type             0\n",
       "age              0\n",
       "breed1           0\n",
       "breed2           0\n",
       "gender           0\n",
       "color1           0\n",
       "color2           0\n",
       "color3           0\n",
       "maturitysize     0\n",
       "furlength        0\n",
       "vaccinated       0\n",
       "dewormed         0\n",
       "sterilized       0\n",
       "health           0\n",
       "quantity         0\n",
       "fee              0\n",
       "state            0\n",
       "rescuerid        0\n",
       "videoamt         0\n",
       "description      0\n",
       "petid            0\n",
       "photoamt         0\n",
       "adoptionspeed    0\n",
       "dtype: int64"
      ]
     },
     "execution_count": 16,
     "metadata": {},
     "output_type": "execute_result"
    }
   ],
   "source": [
    "df.isna().sum()"
   ]
  },
  {
   "cell_type": "markdown",
   "metadata": {},
   "source": [
    "According to the description, type 1 is a dog and type 2 is a cat. But, we want to see if we could figure that out on our own, by analyzing the description string."
   ]
  },
  {
   "cell_type": "code",
   "execution_count": 17,
   "metadata": {},
   "outputs": [
    {
     "data": {
      "text/plain": [
       "1.0    0.924496\n",
       "2.0    0.075504\n",
       "Name: type, dtype: float64"
      ]
     },
     "execution_count": 17,
     "metadata": {},
     "output_type": "execute_result"
    }
   ],
   "source": [
    "df_type_test=df.loc[df['description'].str.contains('dog'),:]\n",
    "df_type_test['type'].value_counts()/len(df_type_test)"
   ]
  },
  {
   "cell_type": "markdown",
   "metadata": {},
   "source": [
    "Over 92% of the description strings that include the string\"dog\" are type 1! Thus, we would also have concluded that type 1 is a dog."
   ]
  },
  {
   "cell_type": "markdown",
   "metadata": {},
   "source": [
    "We found the percentage of the dataset that is dogs vs. cats, and began visualizing."
   ]
  },
  {
   "cell_type": "code",
   "execution_count": 18,
   "metadata": {},
   "outputs": [
    {
     "data": {
      "text/plain": [
       "1.0    0.542632\n",
       "2.0    0.457368\n",
       "Name: type, dtype: float64"
      ]
     },
     "execution_count": 18,
     "metadata": {},
     "output_type": "execute_result"
    }
   ],
   "source": [
    "df['type'].value_counts()/len(df['type'])"
   ]
  },
  {
   "cell_type": "code",
   "execution_count": 19,
   "metadata": {},
   "outputs": [
    {
     "data": {
      "image/png": "[encoded data removed]",
      "text/plain": [
       "<Figure size 432x288 with 1 Axes>"
      ]
     },
     "metadata": {
      "needs_background": "light"
     },
     "output_type": "display_data"
    }
   ],
   "source": [
    "x=['Dogs','Cats']\n",
    "y=[.542632,.457368]\n",
    "plt.bar(x,y,color='g')\n",
    "plt.title('Dataset Statistics: Dogs vs Cats',fontsize=13,fontweight='bold')\n",
    "plt.xlabel('Type',fontsize=12)\n",
    "plt.ylabel('Percentage(%) of Total Pets',fontsize=12)\n",
    "plt.show()"
   ]
  },
  {
   "cell_type": "markdown",
   "metadata": {},
   "source": [
    "The sad truth is that many pets don't get adopted quickly (or, they don't get adopted at all). We then analyzed pet adoption speed. Since our last plot was a vertical bar chart, we used a horizontal bar chart."
   ]
  },
  {
   "cell_type": "code",
   "execution_count": 20,
   "metadata": {},
   "outputs": [
    {
     "data": {
      "text/plain": [
       "Text(0, 0.5, 'Adoption Rate')"
      ]
     },
     "execution_count": 20,
     "metadata": {},
     "output_type": "execute_result"
    },
    {
     "data": {
      "image/png": "[encoded data removed]",
      "text/plain": [
       "<Figure size 576x432 with 1 Axes>"
      ]
     },
     "metadata": {
      "needs_background": "light"
     },
     "output_type": "display_data"
    }
   ],
   "source": [
    "df['adoptionspeed'].value_counts().rename(\n",
    "    {0:'Same Day',\n",
    "     1:'1-7 Days',\n",
    "     2:'8-30 Days',\n",
    "     3:'31-90 Days',\n",
    "     4:'No adoption after 100 Days'}).plot(kind='barh',figsize=(8,6))\n",
    "plt.title('Adoption Speed', fontsize=13,fontweight='bold')\n",
    "plt.xlabel('Count',fontsize=12)\n",
    "plt.ylabel('Adoption Rate',fontsize=12)"
   ]
  },
  {
   "cell_type": "markdown",
   "metadata": {},
   "source": [
    "We analyzed counts by adoption speed, and found the percentage of pets that have not been adopted after 100 days."
   ]
  },
  {
   "cell_type": "code",
   "execution_count": 21,
   "metadata": {},
   "outputs": [
    {
     "data": {
      "text/plain": [
       "4    4193\n",
       "2    4031\n",
       "3    3255\n",
       "1    3088\n",
       "0     410\n",
       "Name: adoptionspeed, dtype: int64"
      ]
     },
     "execution_count": 21,
     "metadata": {},
     "output_type": "execute_result"
    }
   ],
   "source": [
    "df['adoptionspeed'].value_counts()"
   ]
  },
  {
   "cell_type": "code",
   "execution_count": 22,
   "metadata": {},
   "outputs": [
    {
     "data": {
      "text/plain": [
       "0.28"
      ]
     },
     "execution_count": 22,
     "metadata": {},
     "output_type": "execute_result"
    }
   ],
   "source": [
    "round(len(df.loc[df['adoptionspeed']==4])/len(df),2)"
   ]
  },
  {
   "cell_type": "markdown",
   "metadata": {},
   "source": [
    "Sadly, nearly 28% of all pets in our dataset were not adopted after 100 days."
   ]
  },
  {
   "cell_type": "markdown",
   "metadata": {},
   "source": [
    "We wanted to find out, is the adoption speed better (with a corresponding smaller value) for dogs or cats?"
   ]
  },
  {
   "cell_type": "code",
   "execution_count": 23,
   "metadata": {},
   "outputs": [
    {
     "data": {
      "text/html": [
       "<div>\n",
       "<style scoped>\n",
       "    .dataframe tbody tr th:only-of-type {\n",
       "        vertical-align: middle;\n",
       "    }\n",
       "\n",
       "    .dataframe tbody tr th {\n",
       "        vertical-align: top;\n",
       "    }\n",
       "\n",
       "    .dataframe thead th {\n",
       "        text-align: right;\n",
       "    }\n",
       "</style>\n",
       "<table border=\"1\" class=\"dataframe\">\n",
       "  <thead>\n",
       "    <tr style=\"text-align: right;\">\n",
       "      <th></th>\n",
       "      <th>adoptionspeed</th>\n",
       "    </tr>\n",
       "    <tr>\n",
       "      <th>type</th>\n",
       "      <th></th>\n",
       "    </tr>\n",
       "  </thead>\n",
       "  <tbody>\n",
       "    <tr>\n",
       "      <th>1.0</th>\n",
       "      <td>2.615233</td>\n",
       "    </tr>\n",
       "    <tr>\n",
       "      <th>2.0</th>\n",
       "      <td>2.398978</td>\n",
       "    </tr>\n",
       "  </tbody>\n",
       "</table>\n",
       "</div>"
      ],
      "text/plain": [
       "      adoptionspeed\n",
       "type               \n",
       "1.0        2.615233\n",
       "2.0        2.398978"
      ]
     },
     "execution_count": 23,
     "metadata": {},
     "output_type": "execute_result"
    }
   ],
   "source": [
    "df.groupby(['type']).agg({'adoptionspeed':'mean'})"
   ]
  },
  {
   "cell_type": "markdown",
   "metadata": {},
   "source": [
    "This data shows us that cats are more likely to be adopted quicker than dogs."
   ]
  },
  {
   "cell_type": "markdown",
   "metadata": {},
   "source": [
    "We found that 28% of all pets are not adopted after 100 days. We decided to filter on several characteristics to see if we could deduce some characteristics which help make pets more likely to be adopted. We filtered on pets who possess all of the following characteristics at the same time - are vaccinated, are dewormed, are sterilized, are either healthy or have only a minor injury, have no adoption fee, and age of less than 1 year."
   ]
  },
  {
   "cell_type": "code",
   "execution_count": 24,
   "metadata": {},
   "outputs": [
    {
     "data": {
      "text/plain": [
       "4    0.398974\n",
       "3    0.269744\n",
       "2    0.220513\n",
       "1    0.087179\n",
       "0    0.023590\n",
       "Name: adoptionspeed, dtype: float64"
      ]
     },
     "execution_count": 24,
     "metadata": {},
     "output_type": "execute_result"
    }
   ],
   "source": [
    "vaccinated_list=[1]\n",
    "dewormed_list=[1]\n",
    "sterilized_list=[1]\n",
    "health_list=[1,2]\n",
    "fee_list=[0]\n",
    "age_list=[1,2,3,4,5,6,7,8,9,10,11,12]\n",
    "\n",
    "df_filter_adj=df.loc[df['vaccinated'].isin(vaccinated_list)&df['dewormed'].isin(dewormed_list)&\n",
    "       df['sterilized'].isin(sterilized_list)&df['health'].isin(health_list)&\n",
    "       df['fee'].isin(fee_list)&df['age'].isin(age_list)]\n",
    "df_filter_adj['adoptionspeed'].value_counts()/len(df_filter_adj)"
   ]
  },
  {
   "cell_type": "markdown",
   "metadata": {},
   "source": [
    "We looked at this in a pie-chart."
   ]
  },
  {
   "cell_type": "code",
   "execution_count": 25,
   "metadata": {},
   "outputs": [
    {
     "data": {
      "image/png": "[encoded data removed]",
      "text/plain": [
       "<Figure size 432x432 with 1 Axes>"
      ]
     },
     "metadata": {},
     "output_type": "display_data"
    },
    {
     "data": {
      "text/plain": [
       "['No adoption after 100 Days',\n",
       " '31-90 Days',\n",
       " '8-30 Days',\n",
       " '1-7 Days',\n",
       " 'Same Day']"
      ]
     },
     "execution_count": 25,
     "metadata": {},
     "output_type": "execute_result"
    }
   ],
   "source": [
    "labels=['No adoption after 100 Days','31-90 Days','8-30 Days','1-7 Days','Same Day']\n",
    "sizes=df_filter_adj['adoptionspeed'].value_counts().values\n",
    "colors=['orange','lightblue','pink','gold','teal']\n",
    "explode=[0,0,0,0,0]\n",
    "plt.style.use('seaborn-pastel')\n",
    "plt.figure(figsize=(6,6))\n",
    "plt.pie(sizes,explode=explode,labels=labels,colors=colors,autopct= '%1.0f%%')\n",
    "plt.title('Adoption Rate Among Filtered Data',fontsize=15)\n",
    "plt.show()\n",
    "labels"
   ]
  },
  {
   "cell_type": "markdown",
   "metadata": {},
   "source": [
    "Or, as a plot."
   ]
  },
  {
   "cell_type": "code",
   "execution_count": 26,
   "metadata": {},
   "outputs": [
    {
     "data": {
      "text/plain": [
       "Text(0, 0.5, 'Distribution')"
      ]
     },
     "execution_count": 26,
     "metadata": {},
     "output_type": "execute_result"
    },
    {
     "data": {
      "image/png": "[encoded data removed]",
      "text/plain": [
       "<Figure size 432x288 with 1 Axes>"
      ]
     },
     "metadata": {
      "needs_background": "light"
     },
     "output_type": "display_data"
    }
   ],
   "source": [
    "sns.distplot(df_filter_adj['adoptionspeed'],color = \"red\")\n",
    "plt.title('Adoption Speed Distribution Plot',fontsize=15)\n",
    "plt.xlabel('Adoption Speed',fontsize=12)\n",
    "plt.ylabel('Distribution',fontsize=12)"
   ]
  },
  {
   "cell_type": "markdown",
   "metadata": {},
   "source": [
    "Surprisingly, 40% of our sliced dataset were not adopted. However, it's possible that with less than 1,000 datapoints for this new dataframe, there's just not enough information for us to draw a conclusion one way or the other. Also, it's possible that the adoption agency does everything they can to make an undesirable adoption pet seem more desirable (such as giving vaccinations)."
   ]
  },
  {
   "cell_type": "markdown",
   "metadata": {},
   "source": [
    "One of our hypotheses was that a longer description length means that a pet is more likely to be adopted. We created a new column in our dataframe with the character length of the description, and then analyzed that column."
   ]
  },
  {
   "cell_type": "code",
   "execution_count": 27,
   "metadata": {},
   "outputs": [],
   "source": [
    "df['description_length']=df['description'].str.len()"
   ]
  },
  {
   "cell_type": "code",
   "execution_count": 28,
   "metadata": {},
   "outputs": [
    {
     "data": {
      "text/plain": [
       "0.010236029488048715"
      ]
     },
     "execution_count": 28,
     "metadata": {},
     "output_type": "execute_result"
    }
   ],
   "source": [
    "np.corrcoef(df['description_length'],-df['adoptionspeed'])[0,1]"
   ]
  },
  {
   "cell_type": "markdown",
   "metadata": {},
   "source": [
    "There is some positive correlation (approximately 1%), but not enough to be labeled significant. The reason that we took the negative of the column for adoption speed is that a smaller value is \"better\" than a larger value."
   ]
  },
  {
   "cell_type": "markdown",
   "metadata": {},
   "source": [
    "We believed there would be a positive relationship/correlation between whether a pet has been vaccinated and adoption speed."
   ]
  },
  {
   "cell_type": "code",
   "execution_count": 29,
   "metadata": {},
   "outputs": [
    {
     "data": {
      "text/plain": [
       "0.059697201203509416"
      ]
     },
     "execution_count": 29,
     "metadata": {},
     "output_type": "execute_result"
    }
   ],
   "source": [
    "np.corrcoef(df['vaccinated'],-df['adoptionspeed'])[0,1]"
   ]
  },
  {
   "cell_type": "markdown",
   "metadata": {},
   "source": [
    "As expected, there is some correlation, although it's smaller than we expected. "
   ]
  },
  {
   "cell_type": "markdown",
   "metadata": {},
   "source": [
    "We learned in class how to merge two datasets together. We wanted to merge state name to the original dataframe."
   ]
  },
  {
   "cell_type": "code",
   "execution_count": 31,
   "metadata": {},
   "outputs": [],
   "source": [
    "state=pd.read_csv('/Users/jessica.li/Desktop/state_labels.csv')\n",
    "state = state.rename(columns={'StateID':'state','StateName':'state_name'})\n",
    "state\n",
    "df = df.merge(state,\n",
    "        on='state',\n",
    "        how = 'left')"
   ]
  },
  {
   "cell_type": "markdown",
   "metadata": {},
   "source": [
    "With the merged dataframe, we could assess adoption speed by state, using groupby."
   ]
  },
  {
   "cell_type": "code",
   "execution_count": 32,
   "metadata": {
    "scrolled": true
   },
   "outputs": [
    {
     "data": {
      "text/plain": [
       "Text(0, 0.5, 'Mean Adoption Speed')"
      ]
     },
     "execution_count": 32,
     "metadata": {},
     "output_type": "execute_result"
    },
    {
     "data": {
      "image/png": "[encoded data removed]",
      "text/plain": [
       "<Figure size 360x288 with 1 Axes>"
      ]
     },
     "metadata": {
      "needs_background": "light"
     },
     "output_type": "display_data"
    }
   ],
   "source": [
    "df.groupby('state_name')['adoptionspeed'].mean().sort_values().plot.bar(figsize=(5,4))\n",
    "plt.title('Adoption Speed By State',fontsize=13,fontweight='bold')\n",
    "plt.xlabel('State',fontsize=12)\n",
    "plt.ylabel('Mean Adoption Speed',fontsize=12)"
   ]
  },
  {
   "cell_type": "markdown",
   "metadata": {},
   "source": [
    "Within all the states, Pahang has the quickiest adoption speed (mean)."
   ]
  },
  {
   "cell_type": "markdown",
   "metadata": {},
   "source": [
    "We also assessed adoption speed by dog vs. cat within states:"
   ]
  },
  {
   "cell_type": "code",
   "execution_count": 33,
   "metadata": {},
   "outputs": [
    {
     "data": {
      "text/plain": [
       "<matplotlib.legend.Legend at 0x1a1eb72dd8>"
      ]
     },
     "execution_count": 33,
     "metadata": {},
     "output_type": "execute_result"
    },
    {
     "data": {
      "image/png": "[encoded data removed]",
      "text/plain": [
       "<Figure size 576x432 with 1 Axes>"
      ]
     },
     "metadata": {
      "needs_background": "light"
     },
     "output_type": "display_data"
    }
   ],
   "source": [
    "df.loc[df['type']==1,:].groupby('state_name')['adoptionspeed'].mean().plot(figsize=(8,6))\n",
    "df.loc[df['type']==2,:].groupby('state_name')['adoptionspeed'].mean().plot(figsize=(8,6))\n",
    "plt.title('Adoption Speed By Type By State',fontsize=15)\n",
    "plt.xlabel('State',fontsize=12)\n",
    "plt.ylabel('Mean Adoption Rate',fontsize=12)\n",
    "plt.legend(['Cats','Dogs'])"
   ]
  },
  {
   "cell_type": "markdown",
   "metadata": {},
   "source": [
    "Some states have very different preferences for dogs vs cats. For example, Labuan and Sabah have high preference for cats."
   ]
  },
  {
   "cell_type": "markdown",
   "metadata": {},
   "source": [
    "We then analyzed the adpotion speed by age for cats and dogs."
   ]
  },
  {
   "cell_type": "code",
   "execution_count": 34,
   "metadata": {},
   "outputs": [],
   "source": [
    "df['age_yr']=df['age']/12"
   ]
  },
  {
   "cell_type": "code",
   "execution_count": 35,
   "metadata": {},
   "outputs": [
    {
     "data": {
      "text/html": [
       "<div>\n",
       "<style scoped>\n",
       "    .dataframe tbody tr th:only-of-type {\n",
       "        vertical-align: middle;\n",
       "    }\n",
       "\n",
       "    .dataframe tbody tr th {\n",
       "        vertical-align: top;\n",
       "    }\n",
       "\n",
       "    .dataframe thead th {\n",
       "        text-align: right;\n",
       "    }\n",
       "</style>\n",
       "<table border=\"1\" class=\"dataframe\">\n",
       "  <thead>\n",
       "    <tr style=\"text-align: right;\">\n",
       "      <th></th>\n",
       "      <th></th>\n",
       "      <th>adoptionspeed</th>\n",
       "    </tr>\n",
       "    <tr>\n",
       "      <th>age_yr</th>\n",
       "      <th>type</th>\n",
       "      <th></th>\n",
       "    </tr>\n",
       "  </thead>\n",
       "  <tbody>\n",
       "    <tr>\n",
       "      <th rowspan=\"2\" valign=\"top\">0.000000</th>\n",
       "      <th>1.0</th>\n",
       "      <td>2.166667</td>\n",
       "    </tr>\n",
       "    <tr>\n",
       "      <th>2.0</th>\n",
       "      <td>2.265957</td>\n",
       "    </tr>\n",
       "    <tr>\n",
       "      <th rowspan=\"2\" valign=\"top\">0.083333</th>\n",
       "      <th>1.0</th>\n",
       "      <td>2.314685</td>\n",
       "    </tr>\n",
       "    <tr>\n",
       "      <th>2.0</th>\n",
       "      <td>2.034517</td>\n",
       "    </tr>\n",
       "    <tr>\n",
       "      <th rowspan=\"2\" valign=\"top\">0.166667</th>\n",
       "      <th>1.0</th>\n",
       "      <td>2.423387</td>\n",
       "    </tr>\n",
       "    <tr>\n",
       "      <th>2.0</th>\n",
       "      <td>2.056106</td>\n",
       "    </tr>\n",
       "    <tr>\n",
       "      <th rowspan=\"2\" valign=\"top\">0.250000</th>\n",
       "      <th>1.0</th>\n",
       "      <td>2.618337</td>\n",
       "    </tr>\n",
       "    <tr>\n",
       "      <th>2.0</th>\n",
       "      <td>2.312865</td>\n",
       "    </tr>\n",
       "    <tr>\n",
       "      <th rowspan=\"2\" valign=\"top\">0.333333</th>\n",
       "      <th>1.0</th>\n",
       "      <td>2.842105</td>\n",
       "    </tr>\n",
       "    <tr>\n",
       "      <th>2.0</th>\n",
       "      <td>2.471609</td>\n",
       "    </tr>\n",
       "    <tr>\n",
       "      <th rowspan=\"2\" valign=\"top\">0.416667</th>\n",
       "      <th>1.0</th>\n",
       "      <td>2.837500</td>\n",
       "    </tr>\n",
       "    <tr>\n",
       "      <th>2.0</th>\n",
       "      <td>2.597183</td>\n",
       "    </tr>\n",
       "    <tr>\n",
       "      <th rowspan=\"2\" valign=\"top\">0.500000</th>\n",
       "      <th>1.0</th>\n",
       "      <td>2.964126</td>\n",
       "    </tr>\n",
       "    <tr>\n",
       "      <th>2.0</th>\n",
       "      <td>2.688623</td>\n",
       "    </tr>\n",
       "    <tr>\n",
       "      <th rowspan=\"2\" valign=\"top\">0.583333</th>\n",
       "      <th>1.0</th>\n",
       "      <td>3.008403</td>\n",
       "    </tr>\n",
       "    <tr>\n",
       "      <th>2.0</th>\n",
       "      <td>2.658385</td>\n",
       "    </tr>\n",
       "    <tr>\n",
       "      <th rowspan=\"2\" valign=\"top\">0.666667</th>\n",
       "      <th>1.0</th>\n",
       "      <td>3.038217</td>\n",
       "    </tr>\n",
       "    <tr>\n",
       "      <th>2.0</th>\n",
       "      <td>2.822368</td>\n",
       "    </tr>\n",
       "    <tr>\n",
       "      <th rowspan=\"2\" valign=\"top\">0.750000</th>\n",
       "      <th>1.0</th>\n",
       "      <td>2.797980</td>\n",
       "    </tr>\n",
       "    <tr>\n",
       "      <th>2.0</th>\n",
       "      <td>2.752941</td>\n",
       "    </tr>\n",
       "    <tr>\n",
       "      <th rowspan=\"2\" valign=\"top\">0.833333</th>\n",
       "      <th>1.0</th>\n",
       "      <td>2.828947</td>\n",
       "    </tr>\n",
       "    <tr>\n",
       "      <th>2.0</th>\n",
       "      <td>2.686047</td>\n",
       "    </tr>\n",
       "    <tr>\n",
       "      <th rowspan=\"2\" valign=\"top\">0.916667</th>\n",
       "      <th>1.0</th>\n",
       "      <td>2.902439</td>\n",
       "    </tr>\n",
       "    <tr>\n",
       "      <th>2.0</th>\n",
       "      <td>3.188679</td>\n",
       "    </tr>\n",
       "    <tr>\n",
       "      <th rowspan=\"2\" valign=\"top\">1.000000</th>\n",
       "      <th>1.0</th>\n",
       "      <td>2.927386</td>\n",
       "    </tr>\n",
       "    <tr>\n",
       "      <th>2.0</th>\n",
       "      <td>2.839175</td>\n",
       "    </tr>\n",
       "    <tr>\n",
       "      <th rowspan=\"2\" valign=\"top\">1.083333</th>\n",
       "      <th>1.0</th>\n",
       "      <td>2.478261</td>\n",
       "    </tr>\n",
       "    <tr>\n",
       "      <th>2.0</th>\n",
       "      <td>3.058824</td>\n",
       "    </tr>\n",
       "    <tr>\n",
       "      <th rowspan=\"2\" valign=\"top\">1.166667</th>\n",
       "      <th>1.0</th>\n",
       "      <td>2.733333</td>\n",
       "    </tr>\n",
       "    <tr>\n",
       "      <th>2.0</th>\n",
       "      <td>2.978261</td>\n",
       "    </tr>\n",
       "    <tr>\n",
       "      <th>...</th>\n",
       "      <th>...</th>\n",
       "      <td>...</td>\n",
       "    </tr>\n",
       "    <tr>\n",
       "      <th rowspan=\"2\" valign=\"top\">7.666667</th>\n",
       "      <th>1.0</th>\n",
       "      <td>2.000000</td>\n",
       "    </tr>\n",
       "    <tr>\n",
       "      <th>2.0</th>\n",
       "      <td>2.000000</td>\n",
       "    </tr>\n",
       "    <tr>\n",
       "      <th>7.916667</th>\n",
       "      <th>1.0</th>\n",
       "      <td>4.000000</td>\n",
       "    </tr>\n",
       "    <tr>\n",
       "      <th rowspan=\"2\" valign=\"top\">8.000000</th>\n",
       "      <th>1.0</th>\n",
       "      <td>2.634146</td>\n",
       "    </tr>\n",
       "    <tr>\n",
       "      <th>2.0</th>\n",
       "      <td>1.800000</td>\n",
       "    </tr>\n",
       "    <tr>\n",
       "      <th>8.333333</th>\n",
       "      <th>1.0</th>\n",
       "      <td>2.000000</td>\n",
       "    </tr>\n",
       "    <tr>\n",
       "      <th>8.500000</th>\n",
       "      <th>1.0</th>\n",
       "      <td>4.000000</td>\n",
       "    </tr>\n",
       "    <tr>\n",
       "      <th rowspan=\"2\" valign=\"top\">9.000000</th>\n",
       "      <th>1.0</th>\n",
       "      <td>3.000000</td>\n",
       "    </tr>\n",
       "    <tr>\n",
       "      <th>2.0</th>\n",
       "      <td>3.666667</td>\n",
       "    </tr>\n",
       "    <tr>\n",
       "      <th rowspan=\"2\" valign=\"top\">9.333333</th>\n",
       "      <th>1.0</th>\n",
       "      <td>2.000000</td>\n",
       "    </tr>\n",
       "    <tr>\n",
       "      <th>2.0</th>\n",
       "      <td>0.000000</td>\n",
       "    </tr>\n",
       "    <tr>\n",
       "      <th>9.750000</th>\n",
       "      <th>1.0</th>\n",
       "      <td>1.000000</td>\n",
       "    </tr>\n",
       "    <tr>\n",
       "      <th rowspan=\"2\" valign=\"top\">10.000000</th>\n",
       "      <th>1.0</th>\n",
       "      <td>2.592593</td>\n",
       "    </tr>\n",
       "    <tr>\n",
       "      <th>2.0</th>\n",
       "      <td>3.833333</td>\n",
       "    </tr>\n",
       "    <tr>\n",
       "      <th>10.166667</th>\n",
       "      <th>1.0</th>\n",
       "      <td>4.000000</td>\n",
       "    </tr>\n",
       "    <tr>\n",
       "      <th>10.250000</th>\n",
       "      <th>1.0</th>\n",
       "      <td>4.000000</td>\n",
       "    </tr>\n",
       "    <tr>\n",
       "      <th rowspan=\"2\" valign=\"top\">11.000000</th>\n",
       "      <th>1.0</th>\n",
       "      <td>3.000000</td>\n",
       "    </tr>\n",
       "    <tr>\n",
       "      <th>2.0</th>\n",
       "      <td>3.000000</td>\n",
       "    </tr>\n",
       "    <tr>\n",
       "      <th>11.250000</th>\n",
       "      <th>1.0</th>\n",
       "      <td>3.000000</td>\n",
       "    </tr>\n",
       "    <tr>\n",
       "      <th rowspan=\"2\" valign=\"top\">12.000000</th>\n",
       "      <th>1.0</th>\n",
       "      <td>3.666667</td>\n",
       "    </tr>\n",
       "    <tr>\n",
       "      <th>2.0</th>\n",
       "      <td>2.000000</td>\n",
       "    </tr>\n",
       "    <tr>\n",
       "      <th>12.250000</th>\n",
       "      <th>2.0</th>\n",
       "      <td>1.000000</td>\n",
       "    </tr>\n",
       "    <tr>\n",
       "      <th>13.000000</th>\n",
       "      <th>1.0</th>\n",
       "      <td>2.000000</td>\n",
       "    </tr>\n",
       "    <tr>\n",
       "      <th>14.000000</th>\n",
       "      <th>1.0</th>\n",
       "      <td>3.000000</td>\n",
       "    </tr>\n",
       "    <tr>\n",
       "      <th rowspan=\"2\" valign=\"top\">15.000000</th>\n",
       "      <th>1.0</th>\n",
       "      <td>4.000000</td>\n",
       "    </tr>\n",
       "    <tr>\n",
       "      <th>2.0</th>\n",
       "      <td>3.000000</td>\n",
       "    </tr>\n",
       "    <tr>\n",
       "      <th rowspan=\"2\" valign=\"top\">17.666667</th>\n",
       "      <th>1.0</th>\n",
       "      <td>4.000000</td>\n",
       "    </tr>\n",
       "    <tr>\n",
       "      <th>2.0</th>\n",
       "      <td>3.000000</td>\n",
       "    </tr>\n",
       "    <tr>\n",
       "      <th>19.833333</th>\n",
       "      <th>1.0</th>\n",
       "      <td>4.000000</td>\n",
       "    </tr>\n",
       "    <tr>\n",
       "      <th>21.250000</th>\n",
       "      <th>1.0</th>\n",
       "      <td>4.000000</td>\n",
       "    </tr>\n",
       "  </tbody>\n",
       "</table>\n",
       "<p>174 rows × 1 columns</p>\n",
       "</div>"
      ],
      "text/plain": [
       "                adoptionspeed\n",
       "age_yr    type               \n",
       "0.000000  1.0        2.166667\n",
       "          2.0        2.265957\n",
       "0.083333  1.0        2.314685\n",
       "          2.0        2.034517\n",
       "0.166667  1.0        2.423387\n",
       "          2.0        2.056106\n",
       "0.250000  1.0        2.618337\n",
       "          2.0        2.312865\n",
       "0.333333  1.0        2.842105\n",
       "          2.0        2.471609\n",
       "0.416667  1.0        2.837500\n",
       "          2.0        2.597183\n",
       "0.500000  1.0        2.964126\n",
       "          2.0        2.688623\n",
       "0.583333  1.0        3.008403\n",
       "          2.0        2.658385\n",
       "0.666667  1.0        3.038217\n",
       "          2.0        2.822368\n",
       "0.750000  1.0        2.797980\n",
       "          2.0        2.752941\n",
       "0.833333  1.0        2.828947\n",
       "          2.0        2.686047\n",
       "0.916667  1.0        2.902439\n",
       "          2.0        3.188679\n",
       "1.000000  1.0        2.927386\n",
       "          2.0        2.839175\n",
       "1.083333  1.0        2.478261\n",
       "          2.0        3.058824\n",
       "1.166667  1.0        2.733333\n",
       "          2.0        2.978261\n",
       "...                       ...\n",
       "7.666667  1.0        2.000000\n",
       "          2.0        2.000000\n",
       "7.916667  1.0        4.000000\n",
       "8.000000  1.0        2.634146\n",
       "          2.0        1.800000\n",
       "8.333333  1.0        2.000000\n",
       "8.500000  1.0        4.000000\n",
       "9.000000  1.0        3.000000\n",
       "          2.0        3.666667\n",
       "9.333333  1.0        2.000000\n",
       "          2.0        0.000000\n",
       "9.750000  1.0        1.000000\n",
       "10.000000 1.0        2.592593\n",
       "          2.0        3.833333\n",
       "10.166667 1.0        4.000000\n",
       "10.250000 1.0        4.000000\n",
       "11.000000 1.0        3.000000\n",
       "          2.0        3.000000\n",
       "11.250000 1.0        3.000000\n",
       "12.000000 1.0        3.666667\n",
       "          2.0        2.000000\n",
       "12.250000 2.0        1.000000\n",
       "13.000000 1.0        2.000000\n",
       "14.000000 1.0        3.000000\n",
       "15.000000 1.0        4.000000\n",
       "          2.0        3.000000\n",
       "17.666667 1.0        4.000000\n",
       "          2.0        3.000000\n",
       "19.833333 1.0        4.000000\n",
       "21.250000 1.0        4.000000\n",
       "\n",
       "[174 rows x 1 columns]"
      ]
     },
     "execution_count": 35,
     "metadata": {},
     "output_type": "execute_result"
    }
   ],
   "source": [
    "df.groupby(['age_yr','type']).agg({'adoptionspeed':'mean'})"
   ]
  },
  {
   "cell_type": "code",
   "execution_count": 36,
   "metadata": {
    "scrolled": true
   },
   "outputs": [
    {
     "data": {
      "text/plain": [
       "Text(0, 0.5, 'Adoption Speed')"
      ]
     },
     "execution_count": 36,
     "metadata": {},
     "output_type": "execute_result"
    },
    {
     "data": {
      "image/png": "[encoded data removed]",
      "text/plain": [
       "<Figure size 576x432 with 1 Axes>"
      ]
     },
     "metadata": {
      "needs_background": "light"
     },
     "output_type": "display_data"
    }
   ],
   "source": [
    "df.loc[df['type']==1,:].groupby('age_yr')['adoptionspeed'].mean().plot(figsize=(8,6))\n",
    "df.loc[df['type']==2,:].groupby('age_yr')['adoptionspeed'].mean().plot(figsize=(8,6))\n",
    "plt.title('Adoption Speed By Age',fontsize=15)\n",
    "plt.legend(['Dogs','Cats'])\n",
    "plt.xlabel('Age in Years',fontsize=12)\n",
    "plt.ylabel('Adoption Speed',fontsize=12)"
   ]
  },
  {
   "cell_type": "markdown",
   "metadata": {},
   "source": [
    "We can see that cats are more likely to be adopted around years 1 and 3, and are adopted quicker than dogs after age 4. Unfortunately dogs have a high chance of not being adopted after year 5."
   ]
  },
  {
   "cell_type": "markdown",
   "metadata": {},
   "source": [
    "<center><b><font size='5'color='red'>REGRESSION ANALYSIS</font></b></center>\n",
    "<br><br>"
   ]
  },
  {
   "cell_type": "markdown",
   "metadata": {},
   "source": [
    "Before beginning regression analysis, we assessed correlations between variables."
   ]
  },
  {
   "cell_type": "code",
   "execution_count": 37,
   "metadata": {},
   "outputs": [
    {
     "data": {
      "text/plain": [
       "Text(0.5, 1.0, 'Correlation Between All Variables')"
      ]
     },
     "execution_count": 37,
     "metadata": {},
     "output_type": "execute_result"
    },
    {
     "data": {
      "image/png": "[encoded data removed]",
      "text/plain": [
       "<Figure size 432x288 with 2 Axes>"
      ]
     },
     "metadata": {
      "needs_background": "light"
     },
     "output_type": "display_data"
    }
   ],
   "source": [
    "sns.heatmap(df.corr(),center=0,annot=False)\n",
    "plt.title('Correlation Between All Variables',fontsize=15)"
   ]
  },
  {
   "cell_type": "markdown",
   "metadata": {},
   "source": [
    "This graphic is clearly too busy, so we show only certain columns."
   ]
  },
  {
   "cell_type": "code",
   "execution_count": 38,
   "metadata": {},
   "outputs": [
    {
     "data": {
      "text/plain": [
       "Text(33.0, 0.5, 'Variable')"
      ]
     },
     "execution_count": 38,
     "metadata": {},
     "output_type": "execute_result"
    },
    {
     "data": {
      "image/png": "[encoded data removed]",
      "text/plain": [
       "<Figure size 432x288 with 2 Axes>"
      ]
     },
     "metadata": {
      "needs_background": "light"
     },
     "output_type": "display_data"
    }
   ],
   "source": [
    "sns.heatmap(round(df[['type','age','gender','health','photoamt']].corr(),2),center=0,annot=True)\n",
    "plt.title('Correlation Between Key Variables',fontsize=15)\n",
    "plt.xlabel('Variable',fontsize=12)\n",
    "plt.ylabel('Variable',fontsize=12)"
   ]
  },
  {
   "cell_type": "markdown",
   "metadata": {},
   "source": [
    "We ran regressions to see which features contribute to adoption."
   ]
  },
  {
   "cell_type": "code",
   "execution_count": 39,
   "metadata": {
    "scrolled": true
   },
   "outputs": [
    {
     "name": "stdout",
     "output_type": "stream",
     "text": [
      "                            OLS Regression Results                            \n",
      "==============================================================================\n",
      "Dep. Variable:          adoptionspeed   R-squared:                       0.008\n",
      "Model:                            OLS   Adj. R-squared:                  0.008\n",
      "Method:                 Least Squares   F-statistic:                     126.4\n",
      "Date:                Fri, 05 Jul 2019   Prob (F-statistic):           3.23e-29\n",
      "Time:                        21:01:08   Log-Likelihood:                -23634.\n",
      "No. Observations:               14977   AIC:                         4.727e+04\n",
      "Df Residuals:                   14975   BIC:                         4.729e+04\n",
      "Df Model:                           1                                         \n",
      "Covariance Type:            nonrobust                                         \n",
      "==============================================================================\n",
      "                 coef    std err          t      P>|t|      [0.025      0.975]\n",
      "------------------------------------------------------------------------------\n",
      "Intercept      2.8315      0.030     95.591      0.000       2.773       2.890\n",
      "type          -0.2163      0.019    -11.244      0.000      -0.254      -0.179\n",
      "==============================================================================\n",
      "Omnibus:                     7190.984   Durbin-Watson:                   2.004\n",
      "Prob(Omnibus):                  0.000   Jarque-Bera (JB):              837.088\n",
      "Skew:                          -0.143   Prob(JB):                    1.69e-182\n",
      "Kurtosis:                       1.877   Cond. No.                         6.62\n",
      "==============================================================================\n",
      "\n",
      "Warnings:\n",
      "[1] Standard Errors assume that the covariance matrix of the errors is correctly specified.\n"
     ]
    }
   ],
   "source": [
    "reg_type = smf.ols('adoptionspeed ~ type',data=df).fit()\n",
    "print(reg_type.summary())"
   ]
  },
  {
   "cell_type": "markdown",
   "metadata": {},
   "source": [
    "The regression result shows this model using 'type' as the indepedent variable explains only 0.8% variability of the dependent variable 'adoptionspeed' (R-squared = 0.008). \n",
    "\n",
    "The result is statistically siginificantly at either p = 0.05 or p = 0.025.\n",
    "\n",
    "The coefficient is -0.2156, which means the adoption speed and pet type are slightly negatively related: people tend to adopt cats faster than dogs."
   ]
  },
  {
   "cell_type": "code",
   "execution_count": 37,
   "metadata": {},
   "outputs": [
    {
     "name": "stdout",
     "output_type": "stream",
     "text": [
      "                            OLS Regression Results                            \n",
      "==============================================================================\n",
      "Dep. Variable:          adoptionspeed   R-squared:                       0.010\n",
      "Model:                            OLS   Adj. R-squared:                  0.010\n",
      "Method:                 Least Squares   F-statistic:                     154.3\n",
      "Date:                Fri, 05 Jul 2019   Prob (F-statistic):           2.99e-35\n",
      "Time:                        14:10:57   Log-Likelihood:                -23621.\n",
      "No. Observations:               14977   AIC:                         4.725e+04\n",
      "Df Residuals:                   14975   BIC:                         4.726e+04\n",
      "Df Model:                           1                                         \n",
      "Covariance Type:            nonrobust                                         \n",
      "==============================================================================\n",
      "                 coef    std err          t      P>|t|      [0.025      0.975]\n",
      "------------------------------------------------------------------------------\n",
      "Intercept      2.4479      0.011    221.620      0.000       2.426       2.470\n",
      "age            0.0066      0.001     12.421      0.000       0.006       0.008\n",
      "==============================================================================\n",
      "Omnibus:                     6288.843   Durbin-Watson:                   2.006\n",
      "Prob(Omnibus):                  0.000   Jarque-Bera (JB):              827.259\n",
      "Skew:                          -0.167   Prob(JB):                    2.31e-180\n",
      "Kurtosis:                       1.898   Cond. No.                         24.2\n",
      "==============================================================================\n",
      "\n",
      "Warnings:\n",
      "[1] Standard Errors assume that the covariance matrix of the errors is correctly specified.\n"
     ]
    }
   ],
   "source": [
    "reg_age = smf.ols('adoptionspeed ~ age',data=df).fit()\n",
    "print(reg_age.summary())"
   ]
  },
  {
   "cell_type": "code",
   "execution_count": 38,
   "metadata": {},
   "outputs": [
    {
     "data": {
      "text/plain": [
       "Text(0, 0.5, 'Adoption Speed')"
      ]
     },
     "execution_count": 38,
     "metadata": {},
     "output_type": "execute_result"
    },
    {
     "data": {
      "image/png": "[encoded data removed]",
      "text/plain": [
       "<Figure size 432x288 with 1 Axes>"
      ]
     },
     "metadata": {
      "needs_background": "light"
     },
     "output_type": "display_data"
    }
   ],
   "source": [
    "plt.scatter(df['age'], df['adoptionspeed'])\n",
    "plt.title('Adoption Speed By Age',fontsize=15)\n",
    "plt.xlabel('Age',fontsize=12)\n",
    "plt.ylabel('Adoption Speed',fontsize=12)"
   ]
  },
  {
   "cell_type": "markdown",
   "metadata": {},
   "source": [
    "There are different ages (in months) of pets in this dataset. The regression result shows this model using 'age' as the indepedent viarable explains only 1% variability of the dependent variable 'adoptionspeed' (R-squared = 0.010). \n",
    "\n",
    "The result is statistically siginificantly at p = 0.05 or p = 0.025.\n",
    "\n",
    "The coefficient is 0.0065, which means the adoption speed and pet age are positively related: In general, older pets tend to take a bit longer time to adopt.\n",
    "\n",
    "The plot chart also tells the same story."
   ]
  },
  {
   "cell_type": "code",
   "execution_count": 39,
   "metadata": {},
   "outputs": [
    {
     "name": "stdout",
     "output_type": "stream",
     "text": [
      "                            OLS Regression Results                            \n",
      "==============================================================================\n",
      "Dep. Variable:          adoptionspeed   R-squared:                       0.012\n",
      "Model:                            OLS   Adj. R-squared:                  0.012\n",
      "Method:                 Least Squares   F-statistic:                     175.8\n",
      "Date:                Fri, 05 Jul 2019   Prob (F-statistic):           6.61e-40\n",
      "Time:                        14:10:57   Log-Likelihood:                -23610.\n",
      "No. Observations:               14977   AIC:                         4.722e+04\n",
      "Df Residuals:                   14975   BIC:                         4.724e+04\n",
      "Df Model:                           1                                         \n",
      "Covariance Type:            nonrobust                                         \n",
      "==============================================================================\n",
      "                 coef    std err          t      P>|t|      [0.025      0.975]\n",
      "------------------------------------------------------------------------------\n",
      "Intercept      1.9562      0.043     45.165      0.000       1.871       2.041\n",
      "breed1         0.0021      0.000     13.260      0.000       0.002       0.002\n",
      "==============================================================================\n",
      "Omnibus:                     7312.752   Durbin-Watson:                   2.007\n",
      "Prob(Omnibus):                  0.000   Jarque-Bera (JB):              849.782\n",
      "Skew:                          -0.155   Prob(JB):                    2.97e-185\n",
      "Kurtosis:                       1.875   Cond. No.                     1.23e+03\n",
      "==============================================================================\n",
      "\n",
      "Warnings:\n",
      "[1] Standard Errors assume that the covariance matrix of the errors is correctly specified.\n",
      "[2] The condition number is large, 1.23e+03. This might indicate that there are\n",
      "strong multicollinearity or other numerical problems.\n"
     ]
    }
   ],
   "source": [
    "reg_breed1 = smf.ols('adoptionspeed ~ breed1',data=df).fit()\n",
    "print(reg_breed1.summary())"
   ]
  },
  {
   "cell_type": "code",
   "execution_count": 40,
   "metadata": {},
   "outputs": [
    {
     "data": {
      "text/plain": [
       "Text(0, 0.5, 'Adoption Speed')"
      ]
     },
     "execution_count": 40,
     "metadata": {},
     "output_type": "execute_result"
    },
    {
     "data": {
      "image/png": "[encoded data removed]",
      "text/plain": [
       "<Figure size 432x288 with 1 Axes>"
      ]
     },
     "metadata": {
      "needs_background": "light"
     },
     "output_type": "display_data"
    }
   ],
   "source": [
    "plt.scatter(df['breed1'], df['adoptionspeed'])\n",
    "plt.title('Adoption Speed By Breed',fontsize=15)\n",
    "plt.xlabel('Breed',fontsize=12)\n",
    "plt.ylabel('Adoption Speed',fontsize=12)"
   ]
  },
  {
   "cell_type": "markdown",
   "metadata": {},
   "source": [
    "There are different primary breeds of pets in this dataset. The regression result shows this model using 'breed1' as the indepedent viarable explains only 1.2% variability of the dependent variable 'adoptionspeed' (R-squared = 0.012). \n",
    "\n",
    "The result is statistically siginificantly at p = 0.05 or p = 0.025.\n",
    "\n",
    "The coefficient is 0.0021, which means the adoption speed and pet age are slightly positively related. Higher code primary breeds tend to take longer time to adopt.\n",
    "\n",
    "The plot chart also tells the same story."
   ]
  },
  {
   "cell_type": "code",
   "execution_count": 41,
   "metadata": {},
   "outputs": [
    {
     "name": "stdout",
     "output_type": "stream",
     "text": [
      "                            OLS Regression Results                            \n",
      "==============================================================================\n",
      "Dep. Variable:          adoptionspeed   R-squared:                       0.000\n",
      "Model:                            OLS   Adj. R-squared:                  0.000\n",
      "Method:                 Least Squares   F-statistic:                     5.360\n",
      "Date:                Fri, 05 Jul 2019   Prob (F-statistic):             0.0206\n",
      "Time:                        14:10:58   Log-Likelihood:                -23695.\n",
      "No. Observations:               14977   AIC:                         4.739e+04\n",
      "Df Residuals:                   14975   BIC:                         4.741e+04\n",
      "Df Model:                           1                                         \n",
      "Covariance Type:            nonrobust                                         \n",
      "==============================================================================\n",
      "                 coef    std err          t      P>|t|      [0.025      0.975]\n",
      "------------------------------------------------------------------------------\n",
      "Intercept      2.5297      0.011    225.338      0.000       2.508       2.552\n",
      "breed2        -0.0002   7.82e-05     -2.315      0.021      -0.000   -2.78e-05\n",
      "==============================================================================\n",
      "Omnibus:                     8219.427   Durbin-Watson:                   2.007\n",
      "Prob(Omnibus):                  0.000   Jarque-Bera (JB):              873.141\n",
      "Skew:                          -0.155   Prob(JB):                    2.51e-190\n",
      "Kurtosis:                       1.858   Cond. No.                         168.\n",
      "==============================================================================\n",
      "\n",
      "Warnings:\n",
      "[1] Standard Errors assume that the covariance matrix of the errors is correctly specified.\n"
     ]
    }
   ],
   "source": [
    "reg_breed2 = smf.ols('adoptionspeed ~ breed2',data=df).fit()\n",
    "print(reg_breed2.summary())"
   ]
  },
  {
   "cell_type": "code",
   "execution_count": 42,
   "metadata": {},
   "outputs": [
    {
     "data": {
      "text/plain": [
       "Text(0, 0.5, 'Adoption Speed')"
      ]
     },
     "execution_count": 42,
     "metadata": {},
     "output_type": "execute_result"
    },
    {
     "data": {
      "image/png": "[encoded data removed]",
      "text/plain": [
       "<Figure size 432x288 with 1 Axes>"
      ]
     },
     "metadata": {
      "needs_background": "light"
     },
     "output_type": "display_data"
    }
   ],
   "source": [
    "plt.scatter(df['breed2'], df['adoptionspeed'])\n",
    "plt.title('Adoption Speed By Breed',fontsize=15)\n",
    "plt.xlabel('Breed',fontsize=12)\n",
    "plt.ylabel('Adoption Speed',fontsize=12)"
   ]
  },
  {
   "cell_type": "markdown",
   "metadata": {},
   "source": [
    "The regression result shows this model using 'breed2' as the indepedent variable explains 0 of the dependent variable 'adoptionspeed' (R-squared = 0.000)."
   ]
  },
  {
   "cell_type": "code",
   "execution_count": 43,
   "metadata": {},
   "outputs": [
    {
     "name": "stdout",
     "output_type": "stream",
     "text": [
      "                            OLS Regression Results                            \n",
      "==============================================================================\n",
      "Dep. Variable:          adoptionspeed   R-squared:                       0.003\n",
      "Model:                            OLS   Adj. R-squared:                  0.003\n",
      "Method:                 Least Squares   F-statistic:                     49.84\n",
      "Date:                Fri, 05 Jul 2019   Prob (F-statistic):           1.74e-12\n",
      "Time:                        14:10:58   Log-Likelihood:                -23672.\n",
      "No. Observations:               14977   AIC:                         4.735e+04\n",
      "Df Residuals:                   14975   BIC:                         4.736e+04\n",
      "Df Model:                           1                                         \n",
      "Covariance Type:            nonrobust                                         \n",
      "==============================================================================\n",
      "                 coef    std err          t      P>|t|      [0.025      0.975]\n",
      "------------------------------------------------------------------------------\n",
      "Intercept      2.3396      0.027     87.243      0.000       2.287       2.392\n",
      "gender         0.0995      0.014      7.060      0.000       0.072       0.127\n",
      "==============================================================================\n",
      "Omnibus:                     7518.701   Durbin-Watson:                   2.004\n",
      "Prob(Omnibus):                  0.000   Jarque-Bera (JB):              855.439\n",
      "Skew:                          -0.155   Prob(JB):                    1.75e-186\n",
      "Kurtosis:                       1.871   Cond. No.                         6.63\n",
      "==============================================================================\n",
      "\n",
      "Warnings:\n",
      "[1] Standard Errors assume that the covariance matrix of the errors is correctly specified.\n"
     ]
    }
   ],
   "source": [
    "reg_gender = smf.ols('adoptionspeed ~ gender',data=df).fit()\n",
    "print(reg_gender.summary())"
   ]
  },
  {
   "cell_type": "markdown",
   "metadata": {},
   "source": [
    "The regression result shows this model using 'gender' as the indepedent variable only explains 0.3% of the dependent variable 'adoptionspeed' (R-squared = 0.003)."
   ]
  },
  {
   "cell_type": "code",
   "execution_count": 44,
   "metadata": {},
   "outputs": [
    {
     "name": "stdout",
     "output_type": "stream",
     "text": [
      "                            OLS Regression Results                            \n",
      "==============================================================================\n",
      "Dep. Variable:          adoptionspeed   R-squared:                       0.002\n",
      "Model:                            OLS   Adj. R-squared:                  0.002\n",
      "Method:                 Least Squares   F-statistic:                     32.34\n",
      "Date:                Fri, 05 Jul 2019   Prob (F-statistic):           1.32e-08\n",
      "Time:                        14:10:58   Log-Likelihood:                -23681.\n",
      "No. Observations:               14977   AIC:                         4.737e+04\n",
      "Df Residuals:                   14975   BIC:                         4.738e+04\n",
      "Df Model:                           1                                         \n",
      "Covariance Type:            nonrobust                                         \n",
      "================================================================================\n",
      "                   coef    std err          t      P>|t|      [0.025      0.975]\n",
      "--------------------------------------------------------------------------------\n",
      "Intercept        2.3305      0.034     68.436      0.000       2.264       2.397\n",
      "maturitysize     0.0998      0.018      5.686      0.000       0.065       0.134\n",
      "==============================================================================\n",
      "Omnibus:                     7880.082   Durbin-Watson:                   2.007\n",
      "Prob(Omnibus):                  0.000   Jarque-Bera (JB):              862.818\n",
      "Skew:                          -0.152   Prob(JB):                    4.38e-188\n",
      "Kurtosis:                       1.864   Cond. No.                         8.59\n",
      "==============================================================================\n",
      "\n",
      "Warnings:\n",
      "[1] Standard Errors assume that the covariance matrix of the errors is correctly specified.\n"
     ]
    }
   ],
   "source": [
    "reg_maturitysize = smf.ols('adoptionspeed ~ maturitysize',data=df).fit()\n",
    "print(reg_maturitysize.summary())"
   ]
  },
  {
   "cell_type": "markdown",
   "metadata": {},
   "source": [
    "The regression result shows this model using 'maturitysize' as the indepedent variable only explains 0.2% of the dependent variable 'adoptionspeed' (R-squared = 0.002)."
   ]
  },
  {
   "cell_type": "code",
   "execution_count": 45,
   "metadata": {},
   "outputs": [
    {
     "name": "stdout",
     "output_type": "stream",
     "text": [
      "                            OLS Regression Results                            \n",
      "==============================================================================\n",
      "Dep. Variable:          adoptionspeed   R-squared:                       0.004\n",
      "Model:                            OLS   Adj. R-squared:                  0.003\n",
      "Method:                 Least Squares   F-statistic:                     53.56\n",
      "Date:                Fri, 05 Jul 2019   Prob (F-statistic):           2.64e-13\n",
      "Time:                        14:10:58   Log-Likelihood:                -23671.\n",
      "No. Observations:               14977   AIC:                         4.735e+04\n",
      "Df Residuals:                   14975   BIC:                         4.736e+04\n",
      "Df Model:                           1                                         \n",
      "Covariance Type:            nonrobust                                         \n",
      "==============================================================================\n",
      "                 coef    std err          t      P>|t|      [0.025      0.975]\n",
      "------------------------------------------------------------------------------\n",
      "Intercept      2.6986      0.027    101.095      0.000       2.646       2.751\n",
      "vaccinated    -0.1053      0.014     -7.318      0.000      -0.133      -0.077\n",
      "==============================================================================\n",
      "Omnibus:                     7453.500   Durbin-Watson:                   2.008\n",
      "Prob(Omnibus):                  0.000   Jarque-Bera (JB):              850.354\n",
      "Skew:                          -0.151   Prob(JB):                    2.23e-185\n",
      "Kurtosis:                       1.872   Cond. No.                         6.50\n",
      "==============================================================================\n",
      "\n",
      "Warnings:\n",
      "[1] Standard Errors assume that the covariance matrix of the errors is correctly specified.\n"
     ]
    }
   ],
   "source": [
    "reg_vaccinated = smf.ols('adoptionspeed ~ vaccinated',data=df).fit()\n",
    "print(reg_vaccinated.summary())"
   ]
  },
  {
   "cell_type": "markdown",
   "metadata": {},
   "source": [
    "Vaccinated (1 = Yes, 2 = No, 3 = Not Sure)\n",
    "\n",
    "The regression result shows this model using 'vaccinated' as the indepedent variable only explains 0.3% of the dependent variable 'adoptionspeed' (R-squared = 0.003)."
   ]
  },
  {
   "cell_type": "code",
   "execution_count": 46,
   "metadata": {},
   "outputs": [
    {
     "name": "stdout",
     "output_type": "stream",
     "text": [
      "                            OLS Regression Results                            \n",
      "==============================================================================\n",
      "Dep. Variable:          adoptionspeed   R-squared:                       0.001\n",
      "Model:                            OLS   Adj. R-squared:                  0.001\n",
      "Method:                 Least Squares   F-statistic:                     12.27\n",
      "Date:                Fri, 05 Jul 2019   Prob (F-statistic):           0.000462\n",
      "Time:                        14:10:58   Log-Likelihood:                -23691.\n",
      "No. Observations:               14977   AIC:                         4.739e+04\n",
      "Df Residuals:                   14975   BIC:                         4.740e+04\n",
      "Df Model:                           1                                         \n",
      "Covariance Type:            nonrobust                                         \n",
      "==============================================================================\n",
      "                 coef    std err          t      P>|t|      [0.025      0.975]\n",
      "------------------------------------------------------------------------------\n",
      "Intercept      2.3411      0.051     45.968      0.000       2.241       2.441\n",
      "health         0.1690      0.048      3.503      0.000       0.074       0.264\n",
      "==============================================================================\n",
      "Omnibus:                     7847.208   Durbin-Watson:                   2.007\n",
      "Prob(Omnibus):                  0.000   Jarque-Bera (JB):              864.925\n",
      "Skew:                          -0.156   Prob(JB):                    1.53e-188\n",
      "Kurtosis:                       1.865   Cond. No.                         10.5\n",
      "==============================================================================\n",
      "\n",
      "Warnings:\n",
      "[1] Standard Errors assume that the covariance matrix of the errors is correctly specified.\n"
     ]
    }
   ],
   "source": [
    "reg_health = smf.ols('adoptionspeed ~ health',data=df).fit()\n",
    "print(reg_health.summary())"
   ]
  },
  {
   "cell_type": "markdown",
   "metadata": {},
   "source": [
    "The regression result shows this model using 'health' as the indepedent variable only explains 0.1% of the dependent variable 'adoptionspeed' (R-squared = 0.001)."
   ]
  },
  {
   "cell_type": "code",
   "execution_count": 47,
   "metadata": {},
   "outputs": [
    {
     "name": "stdout",
     "output_type": "stream",
     "text": [
      "                            OLS Regression Results                            \n",
      "==============================================================================\n",
      "Dep. Variable:          adoptionspeed   R-squared:                       0.000\n",
      "Model:                            OLS   Adj. R-squared:                 -0.000\n",
      "Method:                 Least Squares   F-statistic:                  0.004621\n",
      "Date:                Fri, 05 Jul 2019   Prob (F-statistic):              0.946\n",
      "Time:                        14:10:58   Log-Likelihood:                -23697.\n",
      "No. Observations:               14977   AIC:                         4.740e+04\n",
      "Df Residuals:                   14975   BIC:                         4.741e+04\n",
      "Df Model:                           1                                         \n",
      "Covariance Type:            nonrobust                                         \n",
      "==============================================================================\n",
      "                 coef    std err          t      P>|t|      [0.025      0.975]\n",
      "------------------------------------------------------------------------------\n",
      "Intercept      2.5164      0.010    258.093      0.000       2.497       2.536\n",
      "videoamt      -0.0019      0.028     -0.068      0.946      -0.056       0.053\n",
      "==============================================================================\n",
      "Omnibus:                     8110.175   Durbin-Watson:                   2.006\n",
      "Prob(Omnibus):                  0.000   Jarque-Bera (JB):              870.551\n",
      "Skew:                          -0.155   Prob(JB):                    9.17e-190\n",
      "Kurtosis:                       1.860   Cond. No.                         2.90\n",
      "==============================================================================\n",
      "\n",
      "Warnings:\n",
      "[1] Standard Errors assume that the covariance matrix of the errors is correctly specified.\n"
     ]
    }
   ],
   "source": [
    "reg_videoamt = smf.ols('adoptionspeed ~ videoamt',data=df).fit()\n",
    "print(reg_videoamt.summary())"
   ]
  },
  {
   "cell_type": "markdown",
   "metadata": {},
   "source": [
    "The regression result shows this model using 'videoamt' as the indepedent viarable explains 0.000 of the model and is not statistically signigicant."
   ]
  },
  {
   "cell_type": "code",
   "execution_count": 48,
   "metadata": {},
   "outputs": [
    {
     "name": "stdout",
     "output_type": "stream",
     "text": [
      "                            OLS Regression Results                            \n",
      "==============================================================================\n",
      "Dep. Variable:          adoptionspeed   R-squared:                       0.001\n",
      "Model:                            OLS   Adj. R-squared:                  0.000\n",
      "Method:                 Least Squares   F-statistic:                     7.951\n",
      "Date:                Fri, 05 Jul 2019   Prob (F-statistic):            0.00481\n",
      "Time:                        14:10:58   Log-Likelihood:                -23693.\n",
      "No. Observations:               14977   AIC:                         4.739e+04\n",
      "Df Residuals:                   14975   BIC:                         4.741e+04\n",
      "Df Model:                           1                                         \n",
      "Covariance Type:            nonrobust                                         \n",
      "==============================================================================\n",
      "                 coef    std err          t      P>|t|      [0.025      0.975]\n",
      "------------------------------------------------------------------------------\n",
      "Intercept      2.5466      0.014    176.752      0.000       2.518       2.575\n",
      "photoamt      -0.0078      0.003     -2.820      0.005      -0.013      -0.002\n",
      "==============================================================================\n",
      "Omnibus:                     7985.070   Durbin-Watson:                   2.006\n",
      "Prob(Omnibus):                  0.000   Jarque-Bera (JB):              872.646\n",
      "Skew:                          -0.162   Prob(JB):                    3.22e-190\n",
      "Kurtosis:                       1.863   Cond. No.                         7.99\n",
      "==============================================================================\n",
      "\n",
      "Warnings:\n",
      "[1] Standard Errors assume that the covariance matrix of the errors is correctly specified.\n"
     ]
    }
   ],
   "source": [
    "reg_photoamt = smf.ols('adoptionspeed ~ photoamt',data=df).fit()\n",
    "print(reg_photoamt.summary())"
   ]
  },
  {
   "cell_type": "code",
   "execution_count": 49,
   "metadata": {},
   "outputs": [
    {
     "data": {
      "text/plain": [
       "Text(0, 0.5, 'Adoption Speed')"
      ]
     },
     "execution_count": 49,
     "metadata": {},
     "output_type": "execute_result"
    },
    {
     "data": {
      "image/png": "[encoded data removed]",
      "text/plain": [
       "<Figure size 432x288 with 1 Axes>"
      ]
     },
     "metadata": {
      "needs_background": "light"
     },
     "output_type": "display_data"
    }
   ],
   "source": [
    "plt.scatter(df['photoamt'], df['adoptionspeed'])\n",
    "plt.title('Adoption Speed By Amount of Photos',fontsize=13)\n",
    "plt.xlabel('Amount of Photos',fontsize=12)\n",
    "plt.ylabel('Adoption Speed',fontsize=12)"
   ]
  },
  {
   "cell_type": "markdown",
   "metadata": {},
   "source": [
    "The regression result shows this model using 'photoamt' as the indepedent variable only explains 0.1% of the dependent variable 'adoptionspeed' (R-squared = 0.001)."
   ]
  },
  {
   "cell_type": "code",
   "execution_count": 50,
   "metadata": {},
   "outputs": [
    {
     "name": "stdout",
     "output_type": "stream",
     "text": [
      "                            OLS Regression Results                            \n",
      "==============================================================================\n",
      "Dep. Variable:          adoptionspeed   R-squared:                       0.000\n",
      "Model:                            OLS   Adj. R-squared:                 -0.000\n",
      "Method:                 Least Squares   F-statistic:                    0.2083\n",
      "Date:                Fri, 05 Jul 2019   Prob (F-statistic):              0.648\n",
      "Time:                        14:10:58   Log-Likelihood:                -23697.\n",
      "No. Observations:               14977   AIC:                         4.740e+04\n",
      "Df Residuals:                   14975   BIC:                         4.741e+04\n",
      "Df Model:                           1                                         \n",
      "Covariance Type:            nonrobust                                         \n",
      "==============================================================================\n",
      "                 coef    std err          t      P>|t|      [0.025      0.975]\n",
      "------------------------------------------------------------------------------\n",
      "Intercept      2.5175      0.010    252.540      0.000       2.498       2.537\n",
      "fee        -5.598e-05      0.000     -0.456      0.648      -0.000       0.000\n",
      "==============================================================================\n",
      "Omnibus:                     8106.690   Durbin-Watson:                   2.006\n",
      "Prob(Omnibus):                  0.000   Jarque-Bera (JB):              870.415\n",
      "Skew:                          -0.155   Prob(JB):                    9.81e-190\n",
      "Kurtosis:                       1.860   Cond. No.                         84.2\n",
      "==============================================================================\n",
      "\n",
      "Warnings:\n",
      "[1] Standard Errors assume that the covariance matrix of the errors is correctly specified.\n"
     ]
    }
   ],
   "source": [
    "reg_fee = smf.ols('adoptionspeed ~ fee',data=df).fit()\n",
    "print(reg_fee.summary())"
   ]
  },
  {
   "cell_type": "markdown",
   "metadata": {},
   "source": [
    "The regression result shows this model using 'fee' as the indepedent variable explains 0.000 of the model and is not statistically significant."
   ]
  },
  {
   "cell_type": "code",
   "execution_count": 51,
   "metadata": {},
   "outputs": [
    {
     "name": "stdout",
     "output_type": "stream",
     "text": [
      "                            OLS Regression Results                            \n",
      "==============================================================================\n",
      "Dep. Variable:          adoptionspeed   R-squared:                       0.004\n",
      "Model:                            OLS   Adj. R-squared:                  0.004\n",
      "Method:                 Least Squares   F-statistic:                     59.24\n",
      "Date:                Fri, 05 Jul 2019   Prob (F-statistic):           1.48e-14\n",
      "Time:                        14:10:58   Log-Likelihood:                -23668.\n",
      "No. Observations:               14977   AIC:                         4.734e+04\n",
      "Df Residuals:                   14975   BIC:                         4.735e+04\n",
      "Df Model:                           1                                         \n",
      "Covariance Type:            nonrobust                                         \n",
      "==============================================================================\n",
      "                 coef    std err          t      P>|t|      [0.025      0.975]\n",
      "------------------------------------------------------------------------------\n",
      "Intercept      2.4372      0.014    173.288      0.000       2.410       2.465\n",
      "quantity       0.0502      0.007      7.697      0.000       0.037       0.063\n",
      "==============================================================================\n",
      "Omnibus:                     7734.273   Durbin-Watson:                   2.006\n",
      "Prob(Omnibus):                  0.000   Jarque-Bera (JB):              860.928\n",
      "Skew:                          -0.155   Prob(JB):                    1.13e-187\n",
      "Kurtosis:                       1.867   Cond. No.                         3.56\n",
      "==============================================================================\n",
      "\n",
      "Warnings:\n",
      "[1] Standard Errors assume that the covariance matrix of the errors is correctly specified.\n"
     ]
    }
   ],
   "source": [
    "reg_quantity = smf.ols('adoptionspeed ~ quantity',data=df).fit()\n",
    "print(reg_quantity.summary())"
   ]
  },
  {
   "cell_type": "code",
   "execution_count": 52,
   "metadata": {},
   "outputs": [
    {
     "data": {
      "text/plain": [
       "Text(0, 0.5, 'Adoption Speed')"
      ]
     },
     "execution_count": 52,
     "metadata": {},
     "output_type": "execute_result"
    },
    {
     "data": {
      "image/png": "[encoded data removed]",
      "text/plain": [
       "<Figure size 432x288 with 1 Axes>"
      ]
     },
     "metadata": {
      "needs_background": "light"
     },
     "output_type": "display_data"
    }
   ],
   "source": [
    "plt.scatter(df['quantity'], df['adoptionspeed'])\n",
    "plt.title('Adoption Speed By Quantity',fontsize=13)\n",
    "plt.xlabel('Quantity',fontsize=12)\n",
    "plt.ylabel('Adoption Speed',fontsize=12)"
   ]
  },
  {
   "cell_type": "markdown",
   "metadata": {},
   "source": [
    "The regression result shows this model using 'quantity' as the indepedent variable only explains 0.4% of the dependent variable 'adoptionspeed' (R-squared = 0.004)."
   ]
  },
  {
   "cell_type": "code",
   "execution_count": 53,
   "metadata": {},
   "outputs": [
    {
     "data": {
      "text/plain": [
       "Index(['type', 'age', 'breed1', 'breed2', 'gender', 'color1', 'color2',\n",
       "       'color3', 'maturitysize', 'furlength', 'vaccinated', 'dewormed',\n",
       "       'sterilized', 'health', 'quantity', 'fee', 'state', 'rescuerid',\n",
       "       'videoamt', 'description', 'petid', 'photoamt', 'adoptionspeed',\n",
       "       'description_length', 'state_name', 'age_yr'],\n",
       "      dtype='object')"
      ]
     },
     "execution_count": 53,
     "metadata": {},
     "output_type": "execute_result"
    }
   ],
   "source": [
    "df.columns"
   ]
  },
  {
   "cell_type": "code",
   "execution_count": 54,
   "metadata": {},
   "outputs": [
    {
     "name": "stdout",
     "output_type": "stream",
     "text": [
      "                            OLS Regression Results                            \n",
      "==============================================================================\n",
      "Dep. Variable:          adoptionspeed   R-squared:                       0.053\n",
      "Model:                            OLS   Adj. R-squared:                  0.053\n",
      "Method:                 Least Squares   F-statistic:                     76.63\n",
      "Date:                Fri, 05 Jul 2019   Prob (F-statistic):          8.32e-169\n",
      "Time:                        14:10:59   Log-Likelihood:                -23287.\n",
      "No. Observations:               14977   AIC:                         4.660e+04\n",
      "Df Residuals:                   14965   BIC:                         4.669e+04\n",
      "Df Model:                          11                                         \n",
      "Covariance Type:            nonrobust                                         \n",
      "================================================================================\n",
      "                   coef    std err          t      P>|t|      [0.025      0.975]\n",
      "--------------------------------------------------------------------------------\n",
      "Intercept        1.7848      0.093     19.293      0.000       1.603       1.966\n",
      "type            -0.1801      0.019     -9.278      0.000      -0.218      -0.142\n",
      "age              0.0080      0.001     14.026      0.000       0.007       0.009\n",
      "breed1           0.0030      0.000     17.938      0.000       0.003       0.003\n",
      "gender           0.0840      0.016      5.270      0.000       0.053       0.115\n",
      "quantity         0.0444      0.007      5.973      0.000       0.030       0.059\n",
      "maturitysize     0.0531      0.018      3.036      0.002       0.019       0.087\n",
      "vaccinated      -0.0965      0.021     -4.534      0.000      -0.138      -0.055\n",
      "dewormed         0.0803      0.020      4.033      0.000       0.041       0.119\n",
      "sterilized      -0.1511      0.019     -7.839      0.000      -0.189      -0.113\n",
      "health           0.1737      0.048      3.654      0.000       0.081       0.267\n",
      "photoamt        -0.0102      0.003     -3.709      0.000      -0.016      -0.005\n",
      "==============================================================================\n",
      "Omnibus:                     3545.756   Durbin-Watson:                   2.006\n",
      "Prob(Omnibus):                  0.000   Jarque-Bera (JB):              688.542\n",
      "Skew:                          -0.156   Prob(JB):                    3.05e-150\n",
      "Kurtosis:                       1.997   Cond. No.                     2.82e+03\n",
      "==============================================================================\n",
      "\n",
      "Warnings:\n",
      "[1] Standard Errors assume that the covariance matrix of the errors is correctly specified.\n",
      "[2] The condition number is large, 2.82e+03. This might indicate that there are\n",
      "strong multicollinearity or other numerical problems.\n"
     ]
    }
   ],
   "source": [
    "reg_total = smf.ols('adoptionspeed ~ type + age + breed1 + gender + quantity + maturitysize + vaccinated + dewormed + sterilized + health + photoamt',data=df).fit()\n",
    "print(reg_total.summary())"
   ]
  },
  {
   "cell_type": "markdown",
   "metadata": {},
   "source": [
    "This reg_total model takes multiple independent variables which were tested to be statistically significant in impacting the dependent variable 'adoptionspeed'. \n",
    "\n",
    "This model explains 5.3% of the total variable in the independent variables, which is still a small amount. \n",
    "\n",
    "Based on the coefficient of each independent variable, dogs tend to be more likely to be adopted than cats, younger pets tend to be more likely to be adopted than older pets, and higher code primary breeds tend to be more likely to be adopted than lower code primary breeds."
   ]
  },
  {
   "cell_type": "markdown",
   "metadata": {},
   "source": [
    "<center><b><font size='5'color='red'>MACHINE LEARNING ALGORITHMS</font></b></center>\n",
    "<br><br>"
   ]
  },
  {
   "cell_type": "markdown",
   "metadata": {},
   "source": [
    "We then took our analysis a step beyond regression by assessing machine learning algorithms for pet predictions."
   ]
  },
  {
   "cell_type": "code",
   "execution_count": 40,
   "metadata": {},
   "outputs": [],
   "source": [
    "y,X = patsy.dmatrices('adoptionspeed ~ type + age + breed1 + gender + quantity + maturitysize + vaccinated + dewormed + sterilized + health + photoamt',\n",
    "                      data=df)"
   ]
  },
  {
   "cell_type": "code",
   "execution_count": 41,
   "metadata": {},
   "outputs": [
    {
     "data": {
      "text/plain": [
       "0.05332327228800893"
      ]
     },
     "execution_count": 41,
     "metadata": {},
     "output_type": "execute_result"
    }
   ],
   "source": [
    "reg().fit(X,y).score(X,y)"
   ]
  },
  {
   "cell_type": "code",
   "execution_count": 116,
   "metadata": {},
   "outputs": [
    {
     "data": {
      "text/plain": [
       "0.05364888747525944"
      ]
     },
     "execution_count": 116,
     "metadata": {},
     "output_type": "execute_result"
    }
   ],
   "source": [
    "cross_val_score(reg(),X,np.ravel(y),cv=5).mean()"
   ]
  },
  {
   "cell_type": "markdown",
   "metadata": {},
   "source": [
    "We found R squared for Multiple Linear Regression - 5.36%."
   ]
  },
  {
   "cell_type": "code",
   "execution_count": 42,
   "metadata": {},
   "outputs": [
    {
     "data": {
      "text/plain": [
       "0.30472111310440975"
      ]
     },
     "execution_count": 42,
     "metadata": {},
     "output_type": "execute_result"
    }
   ],
   "source": [
    "knn().fit(X,y).score(X,y)"
   ]
  },
  {
   "cell_type": "markdown",
   "metadata": {},
   "source": [
    "We found R Squared for K-Nearest Neighbors. (We are aware that the below score can be based on an overfitted KNN model)"
   ]
  },
  {
   "cell_type": "markdown",
   "metadata": {},
   "source": [
    "To alleviate the overfitting problem, we used 5-fold cross validation to get a more realistic score. "
   ]
  },
  {
   "cell_type": "code",
   "execution_count": 43,
   "metadata": {},
   "outputs": [
    {
     "data": {
      "text/plain": [
       "0.015921865420894642"
      ]
     },
     "execution_count": 43,
     "metadata": {},
     "output_type": "execute_result"
    }
   ],
   "source": [
    "cross_val_score(knn(),X,np.ravel(y),cv=5).mean()"
   ]
  },
  {
   "cell_type": "markdown",
   "metadata": {},
   "source": [
    "When using cross validation, the result from the knn model is worse than the one from the regression model.\n",
    "\n",
    "Thus, we try to find the optimized K value."
   ]
  },
  {
   "cell_type": "code",
   "execution_count": 59,
   "metadata": {},
   "outputs": [
    {
     "name": "stdout",
     "output_type": "stream",
     "text": [
      "1 -0.6214057063532189\n",
      "2 -0.20923041773963363\n",
      "3 -0.08801622920708754\n",
      "4 -0.025523826993453725\n",
      "5 0.015921865420894642\n",
      "6 0.03790874165342599\n",
      "7 0.05009829955079057\n",
      "8 0.06331616130137274\n",
      "9 0.07141700594656217\n",
      "10 0.07941288455201763\n",
      "11 0.08544553418683645\n",
      "12 0.09001386228372277\n",
      "13 0.09230711556213685\n",
      "14 0.09418064868487748\n",
      "15 0.0960684604776973\n",
      "16 0.0991058101507494\n",
      "17 0.1014389061963675\n",
      "18 0.10245635555220758\n",
      "19 0.10332018484620105\n",
      "20 0.10679298851858354\n",
      "21 0.10667170182699515\n",
      "22 0.10740552052542558\n",
      "23 0.1102315655193015\n",
      "24 0.11109406020565493\n",
      "25 0.11166573894573098\n",
      "26 0.11194193916787909\n",
      "27 0.11297866089875001\n",
      "28 0.11435264662108904\n",
      "29 0.11536265185724022\n",
      "30 0.11694407518449568\n",
      "31 0.11614719854392445\n",
      "32 0.11637698930912128\n",
      "33 0.11546926452028838\n",
      "34 0.11672187579209703\n",
      "35 0.11915051297117363\n",
      "36 0.1191304148394599\n",
      "37 0.11979554891729108\n",
      "38 0.1206003342551107\n",
      "39 0.12023544329844053\n",
      "40 0.12157847453095905\n",
      "41 0.12070114740106655\n",
      "42 0.1221155409468027\n",
      "43 0.12223459817614832\n",
      "44 0.12175388423923664\n",
      "45 0.12139179057585399\n",
      "46 0.12214640291858367\n",
      "47 0.12258126098814004\n",
      "48 0.12263586432887905\n",
      "49 0.12257155643246857\n",
      "50 0.1231784029083427\n",
      "51 0.12399626879703925\n",
      "52 0.12416591418996117\n",
      "53 0.12367956370240185\n",
      "54 0.1244178172927736\n",
      "55 0.12468509537464952\n",
      "56 0.12422241222004489\n",
      "57 0.12438557065580444\n",
      "58 0.12445561894249964\n",
      "59 0.12412903509631854\n",
      "60 0.12418179403635998\n",
      "61 0.12447628324645425\n",
      "62 0.12454979265317052\n",
      "63 0.12423441476567279\n",
      "64 0.12467289587757757\n",
      "65 0.12432114139853434\n",
      "66 0.12463260983654886\n",
      "67 0.12508817561613433\n",
      "68 0.1251420899487351\n",
      "69 0.1248307658338593\n",
      "70 0.12488221748707584\n",
      "71 0.12477401351327752\n",
      "72 0.12360936184529489\n",
      "73 0.12381830764239916\n",
      "74 0.12427723152196941\n",
      "75 0.12316568108690777\n",
      "76 0.12354078594872833\n",
      "77 0.12331474149444632\n",
      "78 0.1233841989130243\n",
      "79 0.12360010741161823\n",
      "80 0.12285275472477897\n",
      "81 0.12309910738423864\n",
      "82 0.12321342949104071\n",
      "83 0.12310557037977014\n",
      "84 0.12321556238722364\n",
      "85 0.12373747502522178\n",
      "86 0.1233658261157077\n",
      "87 0.12349186199866473\n",
      "88 0.1236259936871544\n",
      "89 0.12296174447565777\n",
      "90 0.12376826077036795\n",
      "91 0.12369498229535829\n",
      "92 0.12319242069243237\n",
      "93 0.12344200003322547\n",
      "94 0.12351185530892013\n",
      "95 0.12337730480921645\n",
      "96 0.1229909270176139\n",
      "97 0.12313607910130328\n",
      "98 0.122817160458266\n",
      "99 0.12295451222608464\n",
      "100 0.12285189910516847\n",
      "101 0.12271719349027628\n",
      "102 0.12275029506134336\n",
      "103 0.12267124063569332\n",
      "104 0.12243543979859453\n",
      "105 0.12221224635878877\n",
      "106 0.12204759841984422\n",
      "107 0.12193679288224064\n",
      "108 0.12179924017593353\n",
      "109 0.12115057711136187\n",
      "110 0.1214789802703146\n",
      "111 0.12163391732228987\n",
      "112 0.12184829083130147\n",
      "113 0.12128981406889909\n",
      "114 0.12183827855830691\n",
      "115 0.12166030509557421\n",
      "116 0.12155824337817381\n",
      "117 0.12158278645849299\n",
      "118 0.12130917757094388\n",
      "119 0.12135061662419563\n",
      "120 0.12203127864595922\n",
      "121 0.12152558597125315\n",
      "122 0.12158696924632006\n",
      "123 0.12158487083100904\n",
      "124 0.12192038591307626\n",
      "125 0.1219296188467824\n",
      "126 0.12191071925275745\n",
      "127 0.1221431019792015\n",
      "128 0.12169833335175331\n",
      "129 0.12170302727328675\n",
      "130 0.12168475538195536\n",
      "131 0.12161862353761721\n",
      "132 0.12133298053754264\n",
      "133 0.12134151881611806\n",
      "134 0.12145941616549327\n",
      "135 0.12160611196156228\n",
      "136 0.1213167536508388\n",
      "137 0.12161816114451822\n",
      "138 0.12172410486928756\n",
      "139 0.1213140296780318\n",
      "140 0.12152811973745108\n",
      "141 0.12167681404071225\n",
      "142 0.1213859657750371\n",
      "143 0.12132629964873938\n",
      "144 0.12112087358948564\n",
      "145 0.12118102108524206\n",
      "146 0.12098583158776795\n",
      "147 0.12115494278381363\n",
      "148 0.121114509955812\n",
      "149 0.12135271795653942\n",
      "150 0.12104875072068504\n",
      "151 0.12112358627709896\n",
      "152 0.12095284667827053\n",
      "153 0.12086506687239676\n",
      "154 0.12093859018754013\n",
      "155 0.12091444226093298\n",
      "156 0.12081531212178989\n",
      "157 0.12078113434286655\n",
      "158 0.12063786793813913\n",
      "159 0.12060582281898453\n",
      "160 0.12052831571597403\n",
      "161 0.12042548600619066\n",
      "162 0.12076479626077512\n",
      "163 0.12074290539876528\n",
      "164 0.12072823555304028\n",
      "165 0.12091627474119485\n",
      "166 0.12113197721936012\n",
      "167 0.1209681195939272\n",
      "168 0.12102610996410539\n",
      "169 0.1209464644034826\n",
      "170 0.12077372701421822\n",
      "171 0.12054164719760149\n",
      "172 0.12034597851767952\n",
      "173 0.12034962986940408\n",
      "174 0.12017605813390564\n",
      "175 0.1204588066876223\n",
      "176 0.12009768832796619\n",
      "177 0.12026702888662286\n",
      "178 0.12022208663668825\n",
      "179 0.11991974731428516\n",
      "180 0.11994419646910826\n",
      "181 0.1200666770072166\n",
      "182 0.11975057372788189\n",
      "183 0.11990976170619976\n",
      "184 0.11984247701383469\n",
      "185 0.11974842243587572\n",
      "186 0.11960581907981467\n",
      "187 0.11965929455600119\n",
      "188 0.11938567870772403\n",
      "189 0.11954850253037955\n",
      "190 0.11936224742773549\n",
      "191 0.11933259297156681\n",
      "192 0.11931382096382906\n",
      "193 0.11962450050722465\n",
      "194 0.11936213293468652\n",
      "195 0.11925476877775795\n",
      "196 0.11929581406624612\n",
      "197 0.11907047670291164\n",
      "198 0.11920827989760625\n",
      "199 0.11937681937196103\n"
     ]
    }
   ],
   "source": [
    "for i in range(1,200):\n",
    "    print(i,cross_val_score(knn(i),X,np.ravel(y),cv=5).mean())"
   ]
  },
  {
   "cell_type": "markdown",
   "metadata": {},
   "source": [
    "We found that n=68 neighbors is the optimal amount for our model. When k=68, R Squared is 0.1251420899487351, higher than the score from the Regression model."
   ]
  },
  {
   "cell_type": "markdown",
   "metadata": {},
   "source": [
    "Next, we found R Squared using a Random Forest model."
   ]
  },
  {
   "cell_type": "code",
   "execution_count": 60,
   "metadata": {},
   "outputs": [
    {
     "data": {
      "text/plain": [
       "0.031384833950204596"
      ]
     },
     "execution_count": 60,
     "metadata": {},
     "output_type": "execute_result"
    }
   ],
   "source": [
    "cross_val_score(rf(n_estimators=100),X,np.ravel(y),cv=5).mean()"
   ]
  },
  {
   "cell_type": "code",
   "execution_count": 44,
   "metadata": {},
   "outputs": [
    {
     "data": {
      "text/plain": [
       "0.03273916233891825"
      ]
     },
     "execution_count": 44,
     "metadata": {},
     "output_type": "execute_result"
    }
   ],
   "source": [
    "cross_val_score(rf(n_estimators=200),X,np.ravel(y),cv=5).mean()"
   ]
  },
  {
   "cell_type": "markdown",
   "metadata": {},
   "source": [
    "We tuned the parameters for our Random Forest analysis."
   ]
  },
  {
   "cell_type": "code",
   "execution_count": 46,
   "metadata": {},
   "outputs": [
    {
     "name": "stdout",
     "output_type": "stream",
     "text": [
      "6 0.14142104290300656\n",
      "7 0.14369979802185048\n",
      "8 0.14541075683458107\n",
      "9 0.14558445915743295\n",
      "10 0.1454277127702301\n",
      "11 0.14210957966220802\n",
      "12 0.13825738136387092\n",
      "13 0.13160497482829078\n",
      "14 0.12248142739292663\n"
     ]
    }
   ],
   "source": [
    "for i in range(6,15):\n",
    "    print(i, cross_val_score(rf(n_estimators=200, max_depth = i),X,np.ravel(y),cv=5).mean())"
   ]
  },
  {
   "cell_type": "markdown",
   "metadata": {},
   "source": [
    "Now we have found the optimal max_depth (max_depth = 9), we will tune for max_features."
   ]
  },
  {
   "cell_type": "code",
   "execution_count": 47,
   "metadata": {},
   "outputs": [
    {
     "name": "stdout",
     "output_type": "stream",
     "text": [
      "4 0.15319127331770724\n",
      "5 0.15369130318740476\n",
      "6 0.15250857881472452\n",
      "7 0.15235347089213444\n",
      "8 0.1505303384243229\n",
      "9 0.15005347828748147\n"
     ]
    }
   ],
   "source": [
    "for i in range(4,10):\n",
    "    print(i, cross_val_score(rf(n_estimators=200, max_depth = 9, max_features = i),X,np.ravel(y),cv=5).mean())"
   ]
  },
  {
   "cell_type": "markdown",
   "metadata": {},
   "source": [
    "Now we have found the optimal hyperparameters and the resulted R Sqaured for the Random Forest model is 0.15369130318740476, highest among all models we have tried."
   ]
  },
  {
   "cell_type": "markdown",
   "metadata": {},
   "source": [
    "We also decided to test the model via classification, where we segmented the \"y\" into two categories - (1) a pet is adopted within 100 days (adoption speeds between 0 and 3), (2) a pet is not adopted (adoption speed 4).\n",
    "\n",
    "We denoted \"1\" for a pet adopted within 100 days and '0' for a pet not adopted."
   ]
  },
  {
   "cell_type": "code",
   "execution_count": 51,
   "metadata": {},
   "outputs": [],
   "source": [
    "df['adoption_indicator'] = np.where(df['adoptionspeed']==4,0,1)"
   ]
  },
  {
   "cell_type": "code",
   "execution_count": 69,
   "metadata": {},
   "outputs": [],
   "source": [
    "y,X = patsy.dmatrices('adoption_indicator ~ type + age + breed1 + gender + quantity + maturitysize + vaccinated + dewormed + sterilized + health + photoamt',\n",
    "                      data=df)"
   ]
  },
  {
   "cell_type": "code",
   "execution_count": 70,
   "metadata": {},
   "outputs": [],
   "source": [
    "y = np.ravel(y)"
   ]
  },
  {
   "cell_type": "code",
   "execution_count": 71,
   "metadata": {},
   "outputs": [
    {
     "name": "stderr",
     "output_type": "stream",
     "text": [
      "/anaconda3/lib/python3.7/site-packages/sklearn/linear_model/logistic.py:433: FutureWarning: Default solver will be changed to 'lbfgs' in 0.22. Specify a solver to silence this warning.\n",
      "  FutureWarning)\n"
     ]
    }
   ],
   "source": [
    "yhat = logistic().fit(X,y).predict(X)"
   ]
  },
  {
   "cell_type": "code",
   "execution_count": 72,
   "metadata": {},
   "outputs": [
    {
     "data": {
      "text/plain": [
       "1.0    14456\n",
       "0.0      521\n",
       "dtype: int64"
      ]
     },
     "execution_count": 72,
     "metadata": {},
     "output_type": "execute_result"
    }
   ],
   "source": [
    "pd.Series(yhat).value_counts()"
   ]
  },
  {
   "cell_type": "code",
   "execution_count": 73,
   "metadata": {},
   "outputs": [
    {
     "data": {
      "text/plain": [
       "1    10784\n",
       "0     4193\n",
       "Name: adoption_indicator, dtype: int64"
      ]
     },
     "execution_count": 73,
     "metadata": {},
     "output_type": "execute_result"
    }
   ],
   "source": [
    "df['adoption_indicator'].value_counts()"
   ]
  },
  {
   "cell_type": "code",
   "execution_count": 74,
   "metadata": {},
   "outputs": [
    {
     "name": "stderr",
     "output_type": "stream",
     "text": [
      "/anaconda3/lib/python3.7/site-packages/sklearn/linear_model/logistic.py:433: FutureWarning: Default solver will be changed to 'lbfgs' in 0.22. Specify a solver to silence this warning.\n",
      "  FutureWarning)\n"
     ]
    },
    {
     "data": {
      "text/html": [
       "<div>\n",
       "<style scoped>\n",
       "    .dataframe tbody tr th:only-of-type {\n",
       "        vertical-align: middle;\n",
       "    }\n",
       "\n",
       "    .dataframe tbody tr th {\n",
       "        vertical-align: top;\n",
       "    }\n",
       "\n",
       "    .dataframe thead th {\n",
       "        text-align: right;\n",
       "    }\n",
       "</style>\n",
       "<table border=\"1\" class=\"dataframe\">\n",
       "  <thead>\n",
       "    <tr style=\"text-align: right;\">\n",
       "      <th>yhat</th>\n",
       "      <th>0.0</th>\n",
       "      <th>1.0</th>\n",
       "    </tr>\n",
       "    <tr>\n",
       "      <th>adoption_indicator</th>\n",
       "      <th></th>\n",
       "      <th></th>\n",
       "    </tr>\n",
       "  </thead>\n",
       "  <tbody>\n",
       "    <tr>\n",
       "      <th>0</th>\n",
       "      <td>0.018028</td>\n",
       "      <td>0.261935</td>\n",
       "    </tr>\n",
       "    <tr>\n",
       "      <th>1</th>\n",
       "      <td>0.016759</td>\n",
       "      <td>0.703278</td>\n",
       "    </tr>\n",
       "  </tbody>\n",
       "</table>\n",
       "</div>"
      ],
      "text/plain": [
       "yhat                     0.0       1.0\n",
       "adoption_indicator                    \n",
       "0                   0.018028  0.261935\n",
       "1                   0.016759  0.703278"
      ]
     },
     "execution_count": 74,
     "metadata": {},
     "output_type": "execute_result"
    }
   ],
   "source": [
    "df['yhat'] = logistic().fit(X,y).predict(X)\n",
    "df.pivot_table(index='adoption_indicator',columns='yhat',values='rescuerid',aggfunc='count')/len(df)"
   ]
  },
  {
   "cell_type": "code",
   "execution_count": 84,
   "metadata": {},
   "outputs": [
    {
     "name": "stderr",
     "output_type": "stream",
     "text": [
      "/anaconda3/lib/python3.7/site-packages/sklearn/linear_model/logistic.py:433: FutureWarning: Default solver will be changed to 'lbfgs' in 0.22. Specify a solver to silence this warning.\n",
      "  FutureWarning)\n",
      "/anaconda3/lib/python3.7/site-packages/sklearn/linear_model/logistic.py:433: FutureWarning: Default solver will be changed to 'lbfgs' in 0.22. Specify a solver to silence this warning.\n",
      "  FutureWarning)\n",
      "/anaconda3/lib/python3.7/site-packages/sklearn/linear_model/logistic.py:433: FutureWarning: Default solver will be changed to 'lbfgs' in 0.22. Specify a solver to silence this warning.\n",
      "  FutureWarning)\n",
      "/anaconda3/lib/python3.7/site-packages/sklearn/linear_model/logistic.py:433: FutureWarning: Default solver will be changed to 'lbfgs' in 0.22. Specify a solver to silence this warning.\n",
      "  FutureWarning)\n",
      "/anaconda3/lib/python3.7/site-packages/sklearn/linear_model/logistic.py:433: FutureWarning: Default solver will be changed to 'lbfgs' in 0.22. Specify a solver to silence this warning.\n",
      "  FutureWarning)\n"
     ]
    },
    {
     "data": {
      "text/plain": [
       "0.7215070835067304"
      ]
     },
     "execution_count": 84,
     "metadata": {},
     "output_type": "execute_result"
    }
   ],
   "source": [
    "cross_val_score(logistic(),X,y,cv=5).mean()"
   ]
  },
  {
   "cell_type": "markdown",
   "metadata": {},
   "source": [
    "The \"confusion matrix\" above shows that the model correctly predicts adoption only 72% of the time, using a logistic regression. Cross validation using the regression classifier model also returns a similar result."
   ]
  },
  {
   "cell_type": "markdown",
   "metadata": {},
   "source": [
    "We then analyzed classification under k-nearest neighbors."
   ]
  },
  {
   "cell_type": "code",
   "execution_count": 75,
   "metadata": {},
   "outputs": [
    {
     "data": {
      "text/plain": [
       "1.0    12032\n",
       "0.0     2945\n",
       "dtype: int64"
      ]
     },
     "execution_count": 75,
     "metadata": {},
     "output_type": "execute_result"
    }
   ],
   "source": [
    "pd.Series(knnc().fit(X,y).predict(X)).value_counts()"
   ]
  },
  {
   "cell_type": "code",
   "execution_count": 76,
   "metadata": {},
   "outputs": [
    {
     "data": {
      "text/plain": [
       "array(0.79915871)"
      ]
     },
     "execution_count": 76,
     "metadata": {},
     "output_type": "execute_result"
    }
   ],
   "source": [
    "knnc().fit(X,y).score(X,y)"
   ]
  },
  {
   "cell_type": "markdown",
   "metadata": {},
   "source": [
    "The above result shows that a knn model returns a model with almost 80% accuracy. (We are aware that this model may have overfitting problems)"
   ]
  },
  {
   "cell_type": "code",
   "execution_count": 77,
   "metadata": {},
   "outputs": [
    {
     "data": {
      "text/html": [
       "<div>\n",
       "<style scoped>\n",
       "    .dataframe tbody tr th:only-of-type {\n",
       "        vertical-align: middle;\n",
       "    }\n",
       "\n",
       "    .dataframe tbody tr th {\n",
       "        vertical-align: top;\n",
       "    }\n",
       "\n",
       "    .dataframe thead th {\n",
       "        text-align: right;\n",
       "    }\n",
       "</style>\n",
       "<table border=\"1\" class=\"dataframe\">\n",
       "  <thead>\n",
       "    <tr style=\"text-align: right;\">\n",
       "      <th></th>\n",
       "      <th>type</th>\n",
       "      <th>age</th>\n",
       "      <th>breed1</th>\n",
       "      <th>breed2</th>\n",
       "      <th>gender</th>\n",
       "      <th>color1</th>\n",
       "      <th>color2</th>\n",
       "      <th>color3</th>\n",
       "      <th>maturitysize</th>\n",
       "      <th>furlength</th>\n",
       "      <th>...</th>\n",
       "      <th>description</th>\n",
       "      <th>petid</th>\n",
       "      <th>photoamt</th>\n",
       "      <th>adoptionspeed</th>\n",
       "      <th>description_length</th>\n",
       "      <th>state_name</th>\n",
       "      <th>age_yr</th>\n",
       "      <th>adoption_indicator</th>\n",
       "      <th>yhat</th>\n",
       "      <th>yhat_knn</th>\n",
       "    </tr>\n",
       "  </thead>\n",
       "  <tbody>\n",
       "    <tr>\n",
       "      <th>0</th>\n",
       "      <td>2.0</td>\n",
       "      <td>3</td>\n",
       "      <td>299</td>\n",
       "      <td>0</td>\n",
       "      <td>1.0</td>\n",
       "      <td>1</td>\n",
       "      <td>7</td>\n",
       "      <td>0</td>\n",
       "      <td>1</td>\n",
       "      <td>1</td>\n",
       "      <td>...</td>\n",
       "      <td>Nibble is a 3+ month old ball of cuteness. He ...</td>\n",
       "      <td>86e1089a3</td>\n",
       "      <td>1</td>\n",
       "      <td>2</td>\n",
       "      <td>359</td>\n",
       "      <td>Selangor</td>\n",
       "      <td>0.250000</td>\n",
       "      <td>1</td>\n",
       "      <td>1.0</td>\n",
       "      <td>1.0</td>\n",
       "    </tr>\n",
       "    <tr>\n",
       "      <th>1</th>\n",
       "      <td>2.0</td>\n",
       "      <td>1</td>\n",
       "      <td>265</td>\n",
       "      <td>0</td>\n",
       "      <td>1.0</td>\n",
       "      <td>1</td>\n",
       "      <td>2</td>\n",
       "      <td>0</td>\n",
       "      <td>2</td>\n",
       "      <td>2</td>\n",
       "      <td>...</td>\n",
       "      <td>I just found it alone yesterday near my apartm...</td>\n",
       "      <td>6296e909a</td>\n",
       "      <td>2</td>\n",
       "      <td>0</td>\n",
       "      <td>118</td>\n",
       "      <td>Kuala Lumpur</td>\n",
       "      <td>0.083333</td>\n",
       "      <td>1</td>\n",
       "      <td>1.0</td>\n",
       "      <td>1.0</td>\n",
       "    </tr>\n",
       "    <tr>\n",
       "      <th>2</th>\n",
       "      <td>1.0</td>\n",
       "      <td>1</td>\n",
       "      <td>307</td>\n",
       "      <td>0</td>\n",
       "      <td>1.0</td>\n",
       "      <td>2</td>\n",
       "      <td>7</td>\n",
       "      <td>0</td>\n",
       "      <td>2</td>\n",
       "      <td>2</td>\n",
       "      <td>...</td>\n",
       "      <td>Their pregnant mother was dumped by her irresp...</td>\n",
       "      <td>3422e4906</td>\n",
       "      <td>7</td>\n",
       "      <td>3</td>\n",
       "      <td>393</td>\n",
       "      <td>Selangor</td>\n",
       "      <td>0.083333</td>\n",
       "      <td>1</td>\n",
       "      <td>1.0</td>\n",
       "      <td>1.0</td>\n",
       "    </tr>\n",
       "    <tr>\n",
       "      <th>3</th>\n",
       "      <td>1.0</td>\n",
       "      <td>4</td>\n",
       "      <td>307</td>\n",
       "      <td>0</td>\n",
       "      <td>2.0</td>\n",
       "      <td>1</td>\n",
       "      <td>2</td>\n",
       "      <td>0</td>\n",
       "      <td>2</td>\n",
       "      <td>1</td>\n",
       "      <td>...</td>\n",
       "      <td>Good guard dog, very alert, active, obedience ...</td>\n",
       "      <td>5842f1ff5</td>\n",
       "      <td>8</td>\n",
       "      <td>2</td>\n",
       "      <td>146</td>\n",
       "      <td>Kuala Lumpur</td>\n",
       "      <td>0.333333</td>\n",
       "      <td>1</td>\n",
       "      <td>1.0</td>\n",
       "      <td>1.0</td>\n",
       "    </tr>\n",
       "    <tr>\n",
       "      <th>4</th>\n",
       "      <td>1.0</td>\n",
       "      <td>1</td>\n",
       "      <td>307</td>\n",
       "      <td>0</td>\n",
       "      <td>1.0</td>\n",
       "      <td>1</td>\n",
       "      <td>0</td>\n",
       "      <td>0</td>\n",
       "      <td>2</td>\n",
       "      <td>1</td>\n",
       "      <td>...</td>\n",
       "      <td>This handsome yet cute boy is up for adoption....</td>\n",
       "      <td>850a43f90</td>\n",
       "      <td>3</td>\n",
       "      <td>2</td>\n",
       "      <td>390</td>\n",
       "      <td>Selangor</td>\n",
       "      <td>0.083333</td>\n",
       "      <td>1</td>\n",
       "      <td>1.0</td>\n",
       "      <td>1.0</td>\n",
       "    </tr>\n",
       "    <tr>\n",
       "      <th>5</th>\n",
       "      <td>2.0</td>\n",
       "      <td>3</td>\n",
       "      <td>266</td>\n",
       "      <td>0</td>\n",
       "      <td>2.0</td>\n",
       "      <td>5</td>\n",
       "      <td>6</td>\n",
       "      <td>0</td>\n",
       "      <td>2</td>\n",
       "      <td>1</td>\n",
       "      <td>...</td>\n",
       "      <td>This is a stray kitten that came to my house. ...</td>\n",
       "      <td>d24c30b4b</td>\n",
       "      <td>2</td>\n",
       "      <td>2</td>\n",
       "      <td>87</td>\n",
       "      <td>Selangor</td>\n",
       "      <td>0.250000</td>\n",
       "      <td>1</td>\n",
       "      <td>1.0</td>\n",
       "      <td>1.0</td>\n",
       "    </tr>\n",
       "    <tr>\n",
       "      <th>6</th>\n",
       "      <td>2.0</td>\n",
       "      <td>12</td>\n",
       "      <td>264</td>\n",
       "      <td>264</td>\n",
       "      <td>1.0</td>\n",
       "      <td>1</td>\n",
       "      <td>0</td>\n",
       "      <td>0</td>\n",
       "      <td>2</td>\n",
       "      <td>3</td>\n",
       "      <td>...</td>\n",
       "      <td>anyone within the area of ipoh or taiping who ...</td>\n",
       "      <td>1caa6fcdb</td>\n",
       "      <td>3</td>\n",
       "      <td>1</td>\n",
       "      <td>400</td>\n",
       "      <td>Selangor</td>\n",
       "      <td>1.000000</td>\n",
       "      <td>1</td>\n",
       "      <td>1.0</td>\n",
       "      <td>0.0</td>\n",
       "    </tr>\n",
       "    <tr>\n",
       "      <th>7</th>\n",
       "      <td>1.0</td>\n",
       "      <td>0</td>\n",
       "      <td>307</td>\n",
       "      <td>0</td>\n",
       "      <td>2.0</td>\n",
       "      <td>1</td>\n",
       "      <td>2</td>\n",
       "      <td>7</td>\n",
       "      <td>2</td>\n",
       "      <td>1</td>\n",
       "      <td>...</td>\n",
       "      <td>Siu Pak just give birth on 13/6/10 to 6puppies...</td>\n",
       "      <td>97aa9eeac</td>\n",
       "      <td>9</td>\n",
       "      <td>3</td>\n",
       "      <td>109</td>\n",
       "      <td>Selangor</td>\n",
       "      <td>0.000000</td>\n",
       "      <td>1</td>\n",
       "      <td>1.0</td>\n",
       "      <td>1.0</td>\n",
       "    </tr>\n",
       "    <tr>\n",
       "      <th>8</th>\n",
       "      <td>2.0</td>\n",
       "      <td>2</td>\n",
       "      <td>265</td>\n",
       "      <td>0</td>\n",
       "      <td>2.0</td>\n",
       "      <td>6</td>\n",
       "      <td>0</td>\n",
       "      <td>0</td>\n",
       "      <td>2</td>\n",
       "      <td>2</td>\n",
       "      <td>...</td>\n",
       "      <td>healthy and active, feisty kitten found in nei...</td>\n",
       "      <td>c06d167ca</td>\n",
       "      <td>6</td>\n",
       "      <td>1</td>\n",
       "      <td>79</td>\n",
       "      <td>Selangor</td>\n",
       "      <td>0.166667</td>\n",
       "      <td>1</td>\n",
       "      <td>1.0</td>\n",
       "      <td>1.0</td>\n",
       "    </tr>\n",
       "    <tr>\n",
       "      <th>9</th>\n",
       "      <td>2.0</td>\n",
       "      <td>12</td>\n",
       "      <td>265</td>\n",
       "      <td>0</td>\n",
       "      <td>2.0</td>\n",
       "      <td>1</td>\n",
       "      <td>7</td>\n",
       "      <td>0</td>\n",
       "      <td>2</td>\n",
       "      <td>2</td>\n",
       "      <td>...</td>\n",
       "      <td>Very manja and gentle stray cat found, we woul...</td>\n",
       "      <td>7a0942d61</td>\n",
       "      <td>2</td>\n",
       "      <td>4</td>\n",
       "      <td>232</td>\n",
       "      <td>Selangor</td>\n",
       "      <td>1.000000</td>\n",
       "      <td>0</td>\n",
       "      <td>1.0</td>\n",
       "      <td>0.0</td>\n",
       "    </tr>\n",
       "    <tr>\n",
       "      <th>10</th>\n",
       "      <td>1.0</td>\n",
       "      <td>2</td>\n",
       "      <td>307</td>\n",
       "      <td>0</td>\n",
       "      <td>1.0</td>\n",
       "      <td>1</td>\n",
       "      <td>2</td>\n",
       "      <td>7</td>\n",
       "      <td>2</td>\n",
       "      <td>1</td>\n",
       "      <td>...</td>\n",
       "      <td>For serious adopter, please do sms or call for...</td>\n",
       "      <td>8b693ca84</td>\n",
       "      <td>7</td>\n",
       "      <td>1</td>\n",
       "      <td>68</td>\n",
       "      <td>Kuala Lumpur</td>\n",
       "      <td>0.166667</td>\n",
       "      <td>1</td>\n",
       "      <td>1.0</td>\n",
       "      <td>1.0</td>\n",
       "    </tr>\n",
       "    <tr>\n",
       "      <th>11</th>\n",
       "      <td>2.0</td>\n",
       "      <td>3</td>\n",
       "      <td>264</td>\n",
       "      <td>0</td>\n",
       "      <td>2.0</td>\n",
       "      <td>1</td>\n",
       "      <td>2</td>\n",
       "      <td>5</td>\n",
       "      <td>3</td>\n",
       "      <td>3</td>\n",
       "      <td>...</td>\n",
       "      <td>Kali is a super playful kitten who is on the g...</td>\n",
       "      <td>8e76c8e39</td>\n",
       "      <td>2</td>\n",
       "      <td>1</td>\n",
       "      <td>658</td>\n",
       "      <td>Selangor</td>\n",
       "      <td>0.250000</td>\n",
       "      <td>1</td>\n",
       "      <td>1.0</td>\n",
       "      <td>1.0</td>\n",
       "    </tr>\n",
       "    <tr>\n",
       "      <th>12</th>\n",
       "      <td>1.0</td>\n",
       "      <td>2</td>\n",
       "      <td>307</td>\n",
       "      <td>0</td>\n",
       "      <td>1.0</td>\n",
       "      <td>2</td>\n",
       "      <td>5</td>\n",
       "      <td>6</td>\n",
       "      <td>2</td>\n",
       "      <td>3</td>\n",
       "      <td>...</td>\n",
       "      <td>Peanut was an abused puppy until he was rescue...</td>\n",
       "      <td>aaedd873d</td>\n",
       "      <td>1</td>\n",
       "      <td>2</td>\n",
       "      <td>345</td>\n",
       "      <td>Selangor</td>\n",
       "      <td>0.166667</td>\n",
       "      <td>1</td>\n",
       "      <td>1.0</td>\n",
       "      <td>1.0</td>\n",
       "    </tr>\n",
       "    <tr>\n",
       "      <th>13</th>\n",
       "      <td>2.0</td>\n",
       "      <td>2</td>\n",
       "      <td>265</td>\n",
       "      <td>0</td>\n",
       "      <td>3.0</td>\n",
       "      <td>1</td>\n",
       "      <td>6</td>\n",
       "      <td>7</td>\n",
       "      <td>1</td>\n",
       "      <td>2</td>\n",
       "      <td>...</td>\n",
       "      <td>Hi Pet Lovers! This is my first posting and I ...</td>\n",
       "      <td>4a9793dfb</td>\n",
       "      <td>1</td>\n",
       "      <td>1</td>\n",
       "      <td>507</td>\n",
       "      <td>Selangor</td>\n",
       "      <td>0.166667</td>\n",
       "      <td>1</td>\n",
       "      <td>1.0</td>\n",
       "      <td>0.0</td>\n",
       "    </tr>\n",
       "    <tr>\n",
       "      <th>14</th>\n",
       "      <td>1.0</td>\n",
       "      <td>3</td>\n",
       "      <td>307</td>\n",
       "      <td>0</td>\n",
       "      <td>2.0</td>\n",
       "      <td>2</td>\n",
       "      <td>5</td>\n",
       "      <td>7</td>\n",
       "      <td>2</td>\n",
       "      <td>2</td>\n",
       "      <td>...</td>\n",
       "      <td>Lost Dog Found (Bandar Menjalara, Kepong／Taman...</td>\n",
       "      <td>c02be41e6</td>\n",
       "      <td>2</td>\n",
       "      <td>2</td>\n",
       "      <td>485</td>\n",
       "      <td>Kuala Lumpur</td>\n",
       "      <td>0.250000</td>\n",
       "      <td>1</td>\n",
       "      <td>1.0</td>\n",
       "      <td>1.0</td>\n",
       "    </tr>\n",
       "    <tr>\n",
       "      <th>15</th>\n",
       "      <td>1.0</td>\n",
       "      <td>78</td>\n",
       "      <td>218</td>\n",
       "      <td>205</td>\n",
       "      <td>1.0</td>\n",
       "      <td>1</td>\n",
       "      <td>7</td>\n",
       "      <td>0</td>\n",
       "      <td>2</td>\n",
       "      <td>2</td>\n",
       "      <td>...</td>\n",
       "      <td>We moved out of our apartment to a landed home...</td>\n",
       "      <td>1fd342e17</td>\n",
       "      <td>2</td>\n",
       "      <td>4</td>\n",
       "      <td>355</td>\n",
       "      <td>Selangor</td>\n",
       "      <td>6.500000</td>\n",
       "      <td>0</td>\n",
       "      <td>1.0</td>\n",
       "      <td>1.0</td>\n",
       "    </tr>\n",
       "    <tr>\n",
       "      <th>16</th>\n",
       "      <td>2.0</td>\n",
       "      <td>6</td>\n",
       "      <td>266</td>\n",
       "      <td>0</td>\n",
       "      <td>2.0</td>\n",
       "      <td>2</td>\n",
       "      <td>0</td>\n",
       "      <td>0</td>\n",
       "      <td>1</td>\n",
       "      <td>1</td>\n",
       "      <td>...</td>\n",
       "      <td>to be spayed on /12 adorable &amp; friendly</td>\n",
       "      <td>b38a74866</td>\n",
       "      <td>1</td>\n",
       "      <td>3</td>\n",
       "      <td>39</td>\n",
       "      <td>Selangor</td>\n",
       "      <td>0.500000</td>\n",
       "      <td>1</td>\n",
       "      <td>1.0</td>\n",
       "      <td>1.0</td>\n",
       "    </tr>\n",
       "    <tr>\n",
       "      <th>17</th>\n",
       "      <td>1.0</td>\n",
       "      <td>8</td>\n",
       "      <td>307</td>\n",
       "      <td>307</td>\n",
       "      <td>2.0</td>\n",
       "      <td>2</td>\n",
       "      <td>0</td>\n",
       "      <td>0</td>\n",
       "      <td>2</td>\n",
       "      <td>1</td>\n",
       "      <td>...</td>\n",
       "      <td>shes active... she can obey wht command that u...</td>\n",
       "      <td>f9d07d5fa</td>\n",
       "      <td>2</td>\n",
       "      <td>4</td>\n",
       "      <td>390</td>\n",
       "      <td>Perak</td>\n",
       "      <td>0.666667</td>\n",
       "      <td>0</td>\n",
       "      <td>1.0</td>\n",
       "      <td>0.0</td>\n",
       "    </tr>\n",
       "    <tr>\n",
       "      <th>18</th>\n",
       "      <td>1.0</td>\n",
       "      <td>2</td>\n",
       "      <td>307</td>\n",
       "      <td>0</td>\n",
       "      <td>2.0</td>\n",
       "      <td>1</td>\n",
       "      <td>0</td>\n",
       "      <td>0</td>\n",
       "      <td>2</td>\n",
       "      <td>1</td>\n",
       "      <td>...</td>\n",
       "      <td>This cutie dumped by it's owner at the market ...</td>\n",
       "      <td>1c92ce464</td>\n",
       "      <td>8</td>\n",
       "      <td>2</td>\n",
       "      <td>680</td>\n",
       "      <td>Kuala Lumpur</td>\n",
       "      <td>0.166667</td>\n",
       "      <td>1</td>\n",
       "      <td>1.0</td>\n",
       "      <td>1.0</td>\n",
       "    </tr>\n",
       "    <tr>\n",
       "      <th>19</th>\n",
       "      <td>2.0</td>\n",
       "      <td>1</td>\n",
       "      <td>266</td>\n",
       "      <td>0</td>\n",
       "      <td>3.0</td>\n",
       "      <td>1</td>\n",
       "      <td>2</td>\n",
       "      <td>7</td>\n",
       "      <td>1</td>\n",
       "      <td>1</td>\n",
       "      <td>...</td>\n",
       "      <td>Birth Date: Oct 30th Kitty 1, Melly -Female Sa...</td>\n",
       "      <td>b10e7605a</td>\n",
       "      <td>1</td>\n",
       "      <td>4</td>\n",
       "      <td>529</td>\n",
       "      <td>Selangor</td>\n",
       "      <td>0.083333</td>\n",
       "      <td>0</td>\n",
       "      <td>1.0</td>\n",
       "      <td>1.0</td>\n",
       "    </tr>\n",
       "    <tr>\n",
       "      <th>20</th>\n",
       "      <td>1.0</td>\n",
       "      <td>12</td>\n",
       "      <td>307</td>\n",
       "      <td>0</td>\n",
       "      <td>2.0</td>\n",
       "      <td>2</td>\n",
       "      <td>7</td>\n",
       "      <td>0</td>\n",
       "      <td>2</td>\n",
       "      <td>2</td>\n",
       "      <td>...</td>\n",
       "      <td>Godiva was rescued in Serdang residential area...</td>\n",
       "      <td>6436c1a59</td>\n",
       "      <td>7</td>\n",
       "      <td>2</td>\n",
       "      <td>434</td>\n",
       "      <td>Selangor</td>\n",
       "      <td>1.000000</td>\n",
       "      <td>1</td>\n",
       "      <td>1.0</td>\n",
       "      <td>1.0</td>\n",
       "    </tr>\n",
       "    <tr>\n",
       "      <th>21</th>\n",
       "      <td>1.0</td>\n",
       "      <td>3</td>\n",
       "      <td>307</td>\n",
       "      <td>0</td>\n",
       "      <td>2.0</td>\n",
       "      <td>6</td>\n",
       "      <td>0</td>\n",
       "      <td>0</td>\n",
       "      <td>2</td>\n",
       "      <td>1</td>\n",
       "      <td>...</td>\n",
       "      <td>Three puppies abandoned on the street, picked ...</td>\n",
       "      <td>234a5a54c</td>\n",
       "      <td>5</td>\n",
       "      <td>4</td>\n",
       "      <td>94</td>\n",
       "      <td>Selangor</td>\n",
       "      <td>0.250000</td>\n",
       "      <td>0</td>\n",
       "      <td>1.0</td>\n",
       "      <td>0.0</td>\n",
       "    </tr>\n",
       "    <tr>\n",
       "      <th>22</th>\n",
       "      <td>2.0</td>\n",
       "      <td>0</td>\n",
       "      <td>114</td>\n",
       "      <td>0</td>\n",
       "      <td>3.0</td>\n",
       "      <td>3</td>\n",
       "      <td>6</td>\n",
       "      <td>7</td>\n",
       "      <td>2</td>\n",
       "      <td>2</td>\n",
       "      <td>...</td>\n",
       "      <td>My cats name is Kenit, Kenot,Owen, Keyad, Manj...</td>\n",
       "      <td>1bc0f89d8</td>\n",
       "      <td>0</td>\n",
       "      <td>4</td>\n",
       "      <td>111</td>\n",
       "      <td>Kuala Lumpur</td>\n",
       "      <td>0.000000</td>\n",
       "      <td>0</td>\n",
       "      <td>1.0</td>\n",
       "      <td>1.0</td>\n",
       "    </tr>\n",
       "    <tr>\n",
       "      <th>23</th>\n",
       "      <td>1.0</td>\n",
       "      <td>10</td>\n",
       "      <td>307</td>\n",
       "      <td>117</td>\n",
       "      <td>2.0</td>\n",
       "      <td>1</td>\n",
       "      <td>2</td>\n",
       "      <td>7</td>\n",
       "      <td>2</td>\n",
       "      <td>2</td>\n",
       "      <td>...</td>\n",
       "      <td>Donut is a friendly doggie and very domesticat...</td>\n",
       "      <td>1bf24d8be</td>\n",
       "      <td>0</td>\n",
       "      <td>4</td>\n",
       "      <td>339</td>\n",
       "      <td>Selangor</td>\n",
       "      <td>0.833333</td>\n",
       "      <td>0</td>\n",
       "      <td>1.0</td>\n",
       "      <td>0.0</td>\n",
       "    </tr>\n",
       "    <tr>\n",
       "      <th>24</th>\n",
       "      <td>2.0</td>\n",
       "      <td>3</td>\n",
       "      <td>266</td>\n",
       "      <td>0</td>\n",
       "      <td>1.0</td>\n",
       "      <td>2</td>\n",
       "      <td>7</td>\n",
       "      <td>0</td>\n",
       "      <td>1</td>\n",
       "      <td>1</td>\n",
       "      <td>...</td>\n",
       "      <td>hello cikenets fans, i just wanna inform that ...</td>\n",
       "      <td>988988d5b</td>\n",
       "      <td>19</td>\n",
       "      <td>1</td>\n",
       "      <td>209</td>\n",
       "      <td>Kuala Lumpur</td>\n",
       "      <td>0.250000</td>\n",
       "      <td>1</td>\n",
       "      <td>1.0</td>\n",
       "      <td>1.0</td>\n",
       "    </tr>\n",
       "    <tr>\n",
       "      <th>25</th>\n",
       "      <td>2.0</td>\n",
       "      <td>36</td>\n",
       "      <td>285</td>\n",
       "      <td>251</td>\n",
       "      <td>1.0</td>\n",
       "      <td>3</td>\n",
       "      <td>0</td>\n",
       "      <td>0</td>\n",
       "      <td>3</td>\n",
       "      <td>2</td>\n",
       "      <td>...</td>\n",
       "      <td>Garfield is a very large cat. Needs daily groo...</td>\n",
       "      <td>cf7d3eec0</td>\n",
       "      <td>3</td>\n",
       "      <td>2</td>\n",
       "      <td>345</td>\n",
       "      <td>Selangor</td>\n",
       "      <td>3.000000</td>\n",
       "      <td>1</td>\n",
       "      <td>1.0</td>\n",
       "      <td>1.0</td>\n",
       "    </tr>\n",
       "    <tr>\n",
       "      <th>26</th>\n",
       "      <td>2.0</td>\n",
       "      <td>2</td>\n",
       "      <td>285</td>\n",
       "      <td>265</td>\n",
       "      <td>1.0</td>\n",
       "      <td>3</td>\n",
       "      <td>0</td>\n",
       "      <td>0</td>\n",
       "      <td>2</td>\n",
       "      <td>2</td>\n",
       "      <td>...</td>\n",
       "      <td>healthy toilet trained cute easy to look after...</td>\n",
       "      <td>85fc3c314</td>\n",
       "      <td>11</td>\n",
       "      <td>1</td>\n",
       "      <td>54</td>\n",
       "      <td>Kuala Lumpur</td>\n",
       "      <td>0.166667</td>\n",
       "      <td>1</td>\n",
       "      <td>1.0</td>\n",
       "      <td>1.0</td>\n",
       "    </tr>\n",
       "    <tr>\n",
       "      <th>27</th>\n",
       "      <td>2.0</td>\n",
       "      <td>1</td>\n",
       "      <td>266</td>\n",
       "      <td>0</td>\n",
       "      <td>2.0</td>\n",
       "      <td>1</td>\n",
       "      <td>0</td>\n",
       "      <td>0</td>\n",
       "      <td>2</td>\n",
       "      <td>1</td>\n",
       "      <td>...</td>\n",
       "      <td>Just saved this kitten from the street, but i ...</td>\n",
       "      <td>efbf1703a</td>\n",
       "      <td>2</td>\n",
       "      <td>2</td>\n",
       "      <td>94</td>\n",
       "      <td>Selangor</td>\n",
       "      <td>0.083333</td>\n",
       "      <td>1</td>\n",
       "      <td>1.0</td>\n",
       "      <td>1.0</td>\n",
       "    </tr>\n",
       "    <tr>\n",
       "      <th>28</th>\n",
       "      <td>1.0</td>\n",
       "      <td>14</td>\n",
       "      <td>189</td>\n",
       "      <td>0</td>\n",
       "      <td>1.0</td>\n",
       "      <td>1</td>\n",
       "      <td>2</td>\n",
       "      <td>0</td>\n",
       "      <td>3</td>\n",
       "      <td>1</td>\n",
       "      <td>...</td>\n",
       "      <td>healthy and active , skinny and tall, as the m...</td>\n",
       "      <td>7843a9dca</td>\n",
       "      <td>0</td>\n",
       "      <td>3</td>\n",
       "      <td>171</td>\n",
       "      <td>Selangor</td>\n",
       "      <td>1.166667</td>\n",
       "      <td>1</td>\n",
       "      <td>1.0</td>\n",
       "      <td>1.0</td>\n",
       "    </tr>\n",
       "    <tr>\n",
       "      <th>29</th>\n",
       "      <td>2.0</td>\n",
       "      <td>1</td>\n",
       "      <td>266</td>\n",
       "      <td>0</td>\n",
       "      <td>2.0</td>\n",
       "      <td>2</td>\n",
       "      <td>7</td>\n",
       "      <td>0</td>\n",
       "      <td>1</td>\n",
       "      <td>1</td>\n",
       "      <td>...</td>\n",
       "      <td>This kitten found at the roadside. Stay there ...</td>\n",
       "      <td>d341fbfd6</td>\n",
       "      <td>1</td>\n",
       "      <td>2</td>\n",
       "      <td>296</td>\n",
       "      <td>Pulau Pinang</td>\n",
       "      <td>0.083333</td>\n",
       "      <td>1</td>\n",
       "      <td>1.0</td>\n",
       "      <td>1.0</td>\n",
       "    </tr>\n",
       "    <tr>\n",
       "      <th>...</th>\n",
       "      <td>...</td>\n",
       "      <td>...</td>\n",
       "      <td>...</td>\n",
       "      <td>...</td>\n",
       "      <td>...</td>\n",
       "      <td>...</td>\n",
       "      <td>...</td>\n",
       "      <td>...</td>\n",
       "      <td>...</td>\n",
       "      <td>...</td>\n",
       "      <td>...</td>\n",
       "      <td>...</td>\n",
       "      <td>...</td>\n",
       "      <td>...</td>\n",
       "      <td>...</td>\n",
       "      <td>...</td>\n",
       "      <td>...</td>\n",
       "      <td>...</td>\n",
       "      <td>...</td>\n",
       "      <td>...</td>\n",
       "      <td>...</td>\n",
       "    </tr>\n",
       "    <tr>\n",
       "      <th>14947</th>\n",
       "      <td>1.0</td>\n",
       "      <td>48</td>\n",
       "      <td>83</td>\n",
       "      <td>0</td>\n",
       "      <td>1.0</td>\n",
       "      <td>5</td>\n",
       "      <td>0</td>\n",
       "      <td>0</td>\n",
       "      <td>1</td>\n",
       "      <td>2</td>\n",
       "      <td>...</td>\n",
       "      <td>Hi, I'm King. DOB: Feb Adoption fee applies. F...</td>\n",
       "      <td>a5c5278b8</td>\n",
       "      <td>3</td>\n",
       "      <td>2</td>\n",
       "      <td>192</td>\n",
       "      <td>Selangor</td>\n",
       "      <td>4.000000</td>\n",
       "      <td>1</td>\n",
       "      <td>1.0</td>\n",
       "      <td>1.0</td>\n",
       "    </tr>\n",
       "    <tr>\n",
       "      <th>14948</th>\n",
       "      <td>2.0</td>\n",
       "      <td>1</td>\n",
       "      <td>303</td>\n",
       "      <td>0</td>\n",
       "      <td>2.0</td>\n",
       "      <td>1</td>\n",
       "      <td>2</td>\n",
       "      <td>7</td>\n",
       "      <td>1</td>\n",
       "      <td>2</td>\n",
       "      <td>...</td>\n",
       "      <td>stray kitten together with 4 other siblings. n...</td>\n",
       "      <td>91bcb5a0a</td>\n",
       "      <td>2</td>\n",
       "      <td>2</td>\n",
       "      <td>171</td>\n",
       "      <td>Selangor</td>\n",
       "      <td>0.083333</td>\n",
       "      <td>1</td>\n",
       "      <td>1.0</td>\n",
       "      <td>1.0</td>\n",
       "    </tr>\n",
       "    <tr>\n",
       "      <th>14949</th>\n",
       "      <td>1.0</td>\n",
       "      <td>7</td>\n",
       "      <td>182</td>\n",
       "      <td>0</td>\n",
       "      <td>1.0</td>\n",
       "      <td>1</td>\n",
       "      <td>2</td>\n",
       "      <td>0</td>\n",
       "      <td>1</td>\n",
       "      <td>1</td>\n",
       "      <td>...</td>\n",
       "      <td>Pug for adoption. highly active, yet obedient,...</td>\n",
       "      <td>a2317e5b0</td>\n",
       "      <td>0</td>\n",
       "      <td>2</td>\n",
       "      <td>417</td>\n",
       "      <td>Kuala Lumpur</td>\n",
       "      <td>0.583333</td>\n",
       "      <td>1</td>\n",
       "      <td>1.0</td>\n",
       "      <td>1.0</td>\n",
       "    </tr>\n",
       "    <tr>\n",
       "      <th>14950</th>\n",
       "      <td>1.0</td>\n",
       "      <td>1</td>\n",
       "      <td>218</td>\n",
       "      <td>307</td>\n",
       "      <td>2.0</td>\n",
       "      <td>1</td>\n",
       "      <td>2</td>\n",
       "      <td>0</td>\n",
       "      <td>2</td>\n",
       "      <td>1</td>\n",
       "      <td>...</td>\n",
       "      <td>Maddie is among six siblings abandoned by thei...</td>\n",
       "      <td>c0f651276</td>\n",
       "      <td>2</td>\n",
       "      <td>2</td>\n",
       "      <td>281</td>\n",
       "      <td>Selangor</td>\n",
       "      <td>0.083333</td>\n",
       "      <td>1</td>\n",
       "      <td>1.0</td>\n",
       "      <td>1.0</td>\n",
       "    </tr>\n",
       "    <tr>\n",
       "      <th>14951</th>\n",
       "      <td>2.0</td>\n",
       "      <td>6</td>\n",
       "      <td>276</td>\n",
       "      <td>0</td>\n",
       "      <td>1.0</td>\n",
       "      <td>1</td>\n",
       "      <td>0</td>\n",
       "      <td>0</td>\n",
       "      <td>2</td>\n",
       "      <td>2</td>\n",
       "      <td>...</td>\n",
       "      <td>Pls adopt this cat, mix maincoone, so active.....</td>\n",
       "      <td>3b3b37546</td>\n",
       "      <td>2</td>\n",
       "      <td>1</td>\n",
       "      <td>147</td>\n",
       "      <td>Selangor</td>\n",
       "      <td>0.500000</td>\n",
       "      <td>1</td>\n",
       "      <td>1.0</td>\n",
       "      <td>1.0</td>\n",
       "    </tr>\n",
       "    <tr>\n",
       "      <th>14952</th>\n",
       "      <td>2.0</td>\n",
       "      <td>36</td>\n",
       "      <td>265</td>\n",
       "      <td>0</td>\n",
       "      <td>1.0</td>\n",
       "      <td>6</td>\n",
       "      <td>7</td>\n",
       "      <td>0</td>\n",
       "      <td>2</td>\n",
       "      <td>2</td>\n",
       "      <td>...</td>\n",
       "      <td>He's lovely, calm, friendly, quiet, sweet, int...</td>\n",
       "      <td>36e02d379</td>\n",
       "      <td>5</td>\n",
       "      <td>4</td>\n",
       "      <td>132</td>\n",
       "      <td>Kuala Lumpur</td>\n",
       "      <td>3.000000</td>\n",
       "      <td>0</td>\n",
       "      <td>1.0</td>\n",
       "      <td>0.0</td>\n",
       "    </tr>\n",
       "    <tr>\n",
       "      <th>14953</th>\n",
       "      <td>2.0</td>\n",
       "      <td>2</td>\n",
       "      <td>266</td>\n",
       "      <td>0</td>\n",
       "      <td>2.0</td>\n",
       "      <td>1</td>\n",
       "      <td>0</td>\n",
       "      <td>0</td>\n",
       "      <td>1</td>\n",
       "      <td>1</td>\n",
       "      <td>...</td>\n",
       "      <td>Very sweet (hence the name) and curious about ...</td>\n",
       "      <td>9ca247f84</td>\n",
       "      <td>0</td>\n",
       "      <td>1</td>\n",
       "      <td>170</td>\n",
       "      <td>Kuala Lumpur</td>\n",
       "      <td>0.166667</td>\n",
       "      <td>1</td>\n",
       "      <td>1.0</td>\n",
       "      <td>1.0</td>\n",
       "    </tr>\n",
       "    <tr>\n",
       "      <th>14954</th>\n",
       "      <td>2.0</td>\n",
       "      <td>1</td>\n",
       "      <td>265</td>\n",
       "      <td>0</td>\n",
       "      <td>1.0</td>\n",
       "      <td>1</td>\n",
       "      <td>2</td>\n",
       "      <td>0</td>\n",
       "      <td>1</td>\n",
       "      <td>2</td>\n",
       "      <td>...</td>\n",
       "      <td>stray kitten together with 4 other siblings. n...</td>\n",
       "      <td>8dc7b3ffa</td>\n",
       "      <td>1</td>\n",
       "      <td>2</td>\n",
       "      <td>171</td>\n",
       "      <td>Selangor</td>\n",
       "      <td>0.083333</td>\n",
       "      <td>1</td>\n",
       "      <td>1.0</td>\n",
       "      <td>1.0</td>\n",
       "    </tr>\n",
       "    <tr>\n",
       "      <th>14955</th>\n",
       "      <td>2.0</td>\n",
       "      <td>24</td>\n",
       "      <td>265</td>\n",
       "      <td>0</td>\n",
       "      <td>2.0</td>\n",
       "      <td>2</td>\n",
       "      <td>4</td>\n",
       "      <td>0</td>\n",
       "      <td>1</td>\n",
       "      <td>2</td>\n",
       "      <td>...</td>\n",
       "      <td>Doremon is a very LOVING, HEALTHY, PLAYFUL AND...</td>\n",
       "      <td>fddd6ef11</td>\n",
       "      <td>1</td>\n",
       "      <td>1</td>\n",
       "      <td>397</td>\n",
       "      <td>Selangor</td>\n",
       "      <td>2.000000</td>\n",
       "      <td>1</td>\n",
       "      <td>1.0</td>\n",
       "      <td>1.0</td>\n",
       "    </tr>\n",
       "    <tr>\n",
       "      <th>14956</th>\n",
       "      <td>2.0</td>\n",
       "      <td>2</td>\n",
       "      <td>266</td>\n",
       "      <td>0</td>\n",
       "      <td>3.0</td>\n",
       "      <td>3</td>\n",
       "      <td>7</td>\n",
       "      <td>0</td>\n",
       "      <td>2</td>\n",
       "      <td>1</td>\n",
       "      <td>...</td>\n",
       "      <td>Can anyone give these cute kittens a loving an...</td>\n",
       "      <td>e50d881a7</td>\n",
       "      <td>2</td>\n",
       "      <td>4</td>\n",
       "      <td>340</td>\n",
       "      <td>Selangor</td>\n",
       "      <td>0.166667</td>\n",
       "      <td>0</td>\n",
       "      <td>1.0</td>\n",
       "      <td>1.0</td>\n",
       "    </tr>\n",
       "    <tr>\n",
       "      <th>14957</th>\n",
       "      <td>2.0</td>\n",
       "      <td>10</td>\n",
       "      <td>266</td>\n",
       "      <td>0</td>\n",
       "      <td>1.0</td>\n",
       "      <td>1</td>\n",
       "      <td>7</td>\n",
       "      <td>0</td>\n",
       "      <td>2</td>\n",
       "      <td>1</td>\n",
       "      <td>...</td>\n",
       "      <td>Found this cat near my office few months ago w...</td>\n",
       "      <td>a237fba21</td>\n",
       "      <td>3</td>\n",
       "      <td>4</td>\n",
       "      <td>192</td>\n",
       "      <td>Selangor</td>\n",
       "      <td>0.833333</td>\n",
       "      <td>0</td>\n",
       "      <td>1.0</td>\n",
       "      <td>1.0</td>\n",
       "    </tr>\n",
       "    <tr>\n",
       "      <th>14958</th>\n",
       "      <td>1.0</td>\n",
       "      <td>2</td>\n",
       "      <td>307</td>\n",
       "      <td>0</td>\n",
       "      <td>2.0</td>\n",
       "      <td>2</td>\n",
       "      <td>5</td>\n",
       "      <td>0</td>\n",
       "      <td>2</td>\n",
       "      <td>1</td>\n",
       "      <td>...</td>\n",
       "      <td>One stray dog came to my house and gave birth ...</td>\n",
       "      <td>82ee2f3e9</td>\n",
       "      <td>3</td>\n",
       "      <td>3</td>\n",
       "      <td>378</td>\n",
       "      <td>Kuala Lumpur</td>\n",
       "      <td>0.166667</td>\n",
       "      <td>1</td>\n",
       "      <td>1.0</td>\n",
       "      <td>1.0</td>\n",
       "    </tr>\n",
       "    <tr>\n",
       "      <th>14959</th>\n",
       "      <td>2.0</td>\n",
       "      <td>5</td>\n",
       "      <td>265</td>\n",
       "      <td>0</td>\n",
       "      <td>1.0</td>\n",
       "      <td>3</td>\n",
       "      <td>7</td>\n",
       "      <td>0</td>\n",
       "      <td>3</td>\n",
       "      <td>2</td>\n",
       "      <td>...</td>\n",
       "      <td>Omari is a well behaved house cat with soft fl...</td>\n",
       "      <td>0deeed2d9</td>\n",
       "      <td>1</td>\n",
       "      <td>3</td>\n",
       "      <td>394</td>\n",
       "      <td>Negeri Sembilan</td>\n",
       "      <td>0.416667</td>\n",
       "      <td>1</td>\n",
       "      <td>1.0</td>\n",
       "      <td>1.0</td>\n",
       "    </tr>\n",
       "    <tr>\n",
       "      <th>14960</th>\n",
       "      <td>2.0</td>\n",
       "      <td>2</td>\n",
       "      <td>266</td>\n",
       "      <td>0</td>\n",
       "      <td>1.0</td>\n",
       "      <td>6</td>\n",
       "      <td>0</td>\n",
       "      <td>0</td>\n",
       "      <td>2</td>\n",
       "      <td>1</td>\n",
       "      <td>...</td>\n",
       "      <td>kofi's clever, cute, and compact.As a testamen...</td>\n",
       "      <td>b3101cf5c</td>\n",
       "      <td>3</td>\n",
       "      <td>1</td>\n",
       "      <td>213</td>\n",
       "      <td>Kuala Lumpur</td>\n",
       "      <td>0.166667</td>\n",
       "      <td>1</td>\n",
       "      <td>1.0</td>\n",
       "      <td>1.0</td>\n",
       "    </tr>\n",
       "    <tr>\n",
       "      <th>14961</th>\n",
       "      <td>1.0</td>\n",
       "      <td>2</td>\n",
       "      <td>307</td>\n",
       "      <td>307</td>\n",
       "      <td>2.0</td>\n",
       "      <td>2</td>\n",
       "      <td>7</td>\n",
       "      <td>0</td>\n",
       "      <td>2</td>\n",
       "      <td>2</td>\n",
       "      <td>...</td>\n",
       "      <td>For Adoption</td>\n",
       "      <td>941880ea3</td>\n",
       "      <td>5</td>\n",
       "      <td>2</td>\n",
       "      <td>12</td>\n",
       "      <td>Selangor</td>\n",
       "      <td>0.166667</td>\n",
       "      <td>1</td>\n",
       "      <td>1.0</td>\n",
       "      <td>1.0</td>\n",
       "    </tr>\n",
       "    <tr>\n",
       "      <th>14962</th>\n",
       "      <td>1.0</td>\n",
       "      <td>2</td>\n",
       "      <td>307</td>\n",
       "      <td>0</td>\n",
       "      <td>1.0</td>\n",
       "      <td>1</td>\n",
       "      <td>2</td>\n",
       "      <td>7</td>\n",
       "      <td>2</td>\n",
       "      <td>1</td>\n",
       "      <td>...</td>\n",
       "      <td>It is my home away dogs born. Dog mother to ta...</td>\n",
       "      <td>c4bc89962</td>\n",
       "      <td>6</td>\n",
       "      <td>2</td>\n",
       "      <td>141</td>\n",
       "      <td>Selangor</td>\n",
       "      <td>0.166667</td>\n",
       "      <td>1</td>\n",
       "      <td>1.0</td>\n",
       "      <td>1.0</td>\n",
       "    </tr>\n",
       "    <tr>\n",
       "      <th>14963</th>\n",
       "      <td>1.0</td>\n",
       "      <td>24</td>\n",
       "      <td>307</td>\n",
       "      <td>0</td>\n",
       "      <td>2.0</td>\n",
       "      <td>2</td>\n",
       "      <td>7</td>\n",
       "      <td>0</td>\n",
       "      <td>2</td>\n",
       "      <td>2</td>\n",
       "      <td>...</td>\n",
       "      <td>She was hand raise since she was 2 days old. S...</td>\n",
       "      <td>c7d02bfca</td>\n",
       "      <td>3</td>\n",
       "      <td>4</td>\n",
       "      <td>130</td>\n",
       "      <td>Pulau Pinang</td>\n",
       "      <td>2.000000</td>\n",
       "      <td>0</td>\n",
       "      <td>1.0</td>\n",
       "      <td>1.0</td>\n",
       "    </tr>\n",
       "    <tr>\n",
       "      <th>14964</th>\n",
       "      <td>2.0</td>\n",
       "      <td>84</td>\n",
       "      <td>264</td>\n",
       "      <td>264</td>\n",
       "      <td>3.0</td>\n",
       "      <td>1</td>\n",
       "      <td>7</td>\n",
       "      <td>0</td>\n",
       "      <td>2</td>\n",
       "      <td>2</td>\n",
       "      <td>...</td>\n",
       "      <td>hey there 2 ekor kucing yang sudah lama dibela...</td>\n",
       "      <td>98ae7d88d</td>\n",
       "      <td>3</td>\n",
       "      <td>3</td>\n",
       "      <td>488</td>\n",
       "      <td>Selangor</td>\n",
       "      <td>7.000000</td>\n",
       "      <td>1</td>\n",
       "      <td>0.0</td>\n",
       "      <td>1.0</td>\n",
       "    </tr>\n",
       "    <tr>\n",
       "      <th>14965</th>\n",
       "      <td>2.0</td>\n",
       "      <td>3</td>\n",
       "      <td>254</td>\n",
       "      <td>0</td>\n",
       "      <td>2.0</td>\n",
       "      <td>1</td>\n",
       "      <td>2</td>\n",
       "      <td>7</td>\n",
       "      <td>1</td>\n",
       "      <td>2</td>\n",
       "      <td>...</td>\n",
       "      <td>Very friendly, close to human, could be good f...</td>\n",
       "      <td>472e86a83</td>\n",
       "      <td>2</td>\n",
       "      <td>4</td>\n",
       "      <td>158</td>\n",
       "      <td>Selangor</td>\n",
       "      <td>0.250000</td>\n",
       "      <td>0</td>\n",
       "      <td>1.0</td>\n",
       "      <td>1.0</td>\n",
       "    </tr>\n",
       "    <tr>\n",
       "      <th>14966</th>\n",
       "      <td>1.0</td>\n",
       "      <td>4</td>\n",
       "      <td>307</td>\n",
       "      <td>0</td>\n",
       "      <td>2.0</td>\n",
       "      <td>2</td>\n",
       "      <td>0</td>\n",
       "      <td>0</td>\n",
       "      <td>2</td>\n",
       "      <td>1</td>\n",
       "      <td>...</td>\n",
       "      <td>These puppies were rescued from factory area.....</td>\n",
       "      <td>ac6d69d99</td>\n",
       "      <td>5</td>\n",
       "      <td>4</td>\n",
       "      <td>593</td>\n",
       "      <td>Kuala Lumpur</td>\n",
       "      <td>0.333333</td>\n",
       "      <td>0</td>\n",
       "      <td>1.0</td>\n",
       "      <td>0.0</td>\n",
       "    </tr>\n",
       "    <tr>\n",
       "      <th>14967</th>\n",
       "      <td>1.0</td>\n",
       "      <td>6</td>\n",
       "      <td>307</td>\n",
       "      <td>0</td>\n",
       "      <td>1.0</td>\n",
       "      <td>1</td>\n",
       "      <td>7</td>\n",
       "      <td>0</td>\n",
       "      <td>2</td>\n",
       "      <td>1</td>\n",
       "      <td>...</td>\n",
       "      <td>SambaBoy makes a good companion dog. Needs lov...</td>\n",
       "      <td>b7fcfa1e6</td>\n",
       "      <td>5</td>\n",
       "      <td>4</td>\n",
       "      <td>258</td>\n",
       "      <td>Selangor</td>\n",
       "      <td>0.500000</td>\n",
       "      <td>0</td>\n",
       "      <td>1.0</td>\n",
       "      <td>1.0</td>\n",
       "    </tr>\n",
       "    <tr>\n",
       "      <th>14968</th>\n",
       "      <td>1.0</td>\n",
       "      <td>24</td>\n",
       "      <td>307</td>\n",
       "      <td>307</td>\n",
       "      <td>2.0</td>\n",
       "      <td>2</td>\n",
       "      <td>0</td>\n",
       "      <td>0</td>\n",
       "      <td>3</td>\n",
       "      <td>1</td>\n",
       "      <td>...</td>\n",
       "      <td>I found her by the side of the road and too he...</td>\n",
       "      <td>fc601e041</td>\n",
       "      <td>1</td>\n",
       "      <td>4</td>\n",
       "      <td>237</td>\n",
       "      <td>Selangor</td>\n",
       "      <td>2.000000</td>\n",
       "      <td>0</td>\n",
       "      <td>1.0</td>\n",
       "      <td>0.0</td>\n",
       "    </tr>\n",
       "    <tr>\n",
       "      <th>14969</th>\n",
       "      <td>1.0</td>\n",
       "      <td>8</td>\n",
       "      <td>307</td>\n",
       "      <td>0</td>\n",
       "      <td>2.0</td>\n",
       "      <td>2</td>\n",
       "      <td>7</td>\n",
       "      <td>0</td>\n",
       "      <td>2</td>\n",
       "      <td>2</td>\n",
       "      <td>...</td>\n",
       "      <td>Patch is for free adoption. If you want to ado...</td>\n",
       "      <td>23874f644</td>\n",
       "      <td>2</td>\n",
       "      <td>3</td>\n",
       "      <td>116</td>\n",
       "      <td>Selangor</td>\n",
       "      <td>0.666667</td>\n",
       "      <td>1</td>\n",
       "      <td>1.0</td>\n",
       "      <td>0.0</td>\n",
       "    </tr>\n",
       "    <tr>\n",
       "      <th>14970</th>\n",
       "      <td>2.0</td>\n",
       "      <td>2</td>\n",
       "      <td>266</td>\n",
       "      <td>0</td>\n",
       "      <td>2.0</td>\n",
       "      <td>1</td>\n",
       "      <td>4</td>\n",
       "      <td>7</td>\n",
       "      <td>2</td>\n",
       "      <td>1</td>\n",
       "      <td>...</td>\n",
       "      <td>Homeless souls awaiting for a good home..We do...</td>\n",
       "      <td>54b6c1d72</td>\n",
       "      <td>16</td>\n",
       "      <td>3</td>\n",
       "      <td>1447</td>\n",
       "      <td>Johor</td>\n",
       "      <td>0.166667</td>\n",
       "      <td>1</td>\n",
       "      <td>1.0</td>\n",
       "      <td>1.0</td>\n",
       "    </tr>\n",
       "    <tr>\n",
       "      <th>14971</th>\n",
       "      <td>1.0</td>\n",
       "      <td>60</td>\n",
       "      <td>307</td>\n",
       "      <td>0</td>\n",
       "      <td>2.0</td>\n",
       "      <td>2</td>\n",
       "      <td>5</td>\n",
       "      <td>0</td>\n",
       "      <td>2</td>\n",
       "      <td>2</td>\n",
       "      <td>...</td>\n",
       "      <td>abandoned,but healthy</td>\n",
       "      <td>f5dc70d35</td>\n",
       "      <td>1</td>\n",
       "      <td>4</td>\n",
       "      <td>21</td>\n",
       "      <td>Melaka</td>\n",
       "      <td>5.000000</td>\n",
       "      <td>0</td>\n",
       "      <td>0.0</td>\n",
       "      <td>0.0</td>\n",
       "    </tr>\n",
       "    <tr>\n",
       "      <th>14972</th>\n",
       "      <td>1.0</td>\n",
       "      <td>24</td>\n",
       "      <td>179</td>\n",
       "      <td>307</td>\n",
       "      <td>1.0</td>\n",
       "      <td>2</td>\n",
       "      <td>3</td>\n",
       "      <td>7</td>\n",
       "      <td>2</td>\n",
       "      <td>2</td>\n",
       "      <td>...</td>\n",
       "      <td>been at my place for a while..am hoping to fin...</td>\n",
       "      <td>e7f7066b6</td>\n",
       "      <td>0</td>\n",
       "      <td>4</td>\n",
       "      <td>62</td>\n",
       "      <td>Selangor</td>\n",
       "      <td>2.000000</td>\n",
       "      <td>0</td>\n",
       "      <td>1.0</td>\n",
       "      <td>1.0</td>\n",
       "    </tr>\n",
       "    <tr>\n",
       "      <th>14973</th>\n",
       "      <td>1.0</td>\n",
       "      <td>6</td>\n",
       "      <td>195</td>\n",
       "      <td>0</td>\n",
       "      <td>2.0</td>\n",
       "      <td>1</td>\n",
       "      <td>7</td>\n",
       "      <td>0</td>\n",
       "      <td>1</td>\n",
       "      <td>3</td>\n",
       "      <td>...</td>\n",
       "      <td>ooooo</td>\n",
       "      <td>4d163b731</td>\n",
       "      <td>1</td>\n",
       "      <td>0</td>\n",
       "      <td>5</td>\n",
       "      <td>Kuala Lumpur</td>\n",
       "      <td>0.500000</td>\n",
       "      <td>1</td>\n",
       "      <td>1.0</td>\n",
       "      <td>1.0</td>\n",
       "    </tr>\n",
       "    <tr>\n",
       "      <th>14974</th>\n",
       "      <td>2.0</td>\n",
       "      <td>2</td>\n",
       "      <td>266</td>\n",
       "      <td>0</td>\n",
       "      <td>3.0</td>\n",
       "      <td>1</td>\n",
       "      <td>0</td>\n",
       "      <td>0</td>\n",
       "      <td>2</td>\n",
       "      <td>2</td>\n",
       "      <td>...</td>\n",
       "      <td>I have 4 kittens that need to be adopt urgentl...</td>\n",
       "      <td>dc0935a84</td>\n",
       "      <td>3</td>\n",
       "      <td>2</td>\n",
       "      <td>396</td>\n",
       "      <td>Selangor</td>\n",
       "      <td>0.166667</td>\n",
       "      <td>1</td>\n",
       "      <td>1.0</td>\n",
       "      <td>1.0</td>\n",
       "    </tr>\n",
       "    <tr>\n",
       "      <th>14975</th>\n",
       "      <td>2.0</td>\n",
       "      <td>60</td>\n",
       "      <td>265</td>\n",
       "      <td>264</td>\n",
       "      <td>3.0</td>\n",
       "      <td>1</td>\n",
       "      <td>4</td>\n",
       "      <td>7</td>\n",
       "      <td>2</td>\n",
       "      <td>2</td>\n",
       "      <td>...</td>\n",
       "      <td>Serato(female cat- 3 color) is 4 years old and...</td>\n",
       "      <td>a01ab5b30</td>\n",
       "      <td>3</td>\n",
       "      <td>4</td>\n",
       "      <td>172</td>\n",
       "      <td>Selangor</td>\n",
       "      <td>5.000000</td>\n",
       "      <td>0</td>\n",
       "      <td>0.0</td>\n",
       "      <td>1.0</td>\n",
       "    </tr>\n",
       "    <tr>\n",
       "      <th>14976</th>\n",
       "      <td>2.0</td>\n",
       "      <td>9</td>\n",
       "      <td>266</td>\n",
       "      <td>0</td>\n",
       "      <td>2.0</td>\n",
       "      <td>4</td>\n",
       "      <td>7</td>\n",
       "      <td>0</td>\n",
       "      <td>1</td>\n",
       "      <td>1</td>\n",
       "      <td>...</td>\n",
       "      <td>she is very shy..adventures and independent..s...</td>\n",
       "      <td>e4da1c9e4</td>\n",
       "      <td>3</td>\n",
       "      <td>4</td>\n",
       "      <td>133</td>\n",
       "      <td>Johor</td>\n",
       "      <td>0.750000</td>\n",
       "      <td>0</td>\n",
       "      <td>1.0</td>\n",
       "      <td>1.0</td>\n",
       "    </tr>\n",
       "  </tbody>\n",
       "</table>\n",
       "<p>14977 rows × 29 columns</p>\n",
       "</div>"
      ],
      "text/plain": [
       "       type  age  breed1  breed2  gender  color1  color2  color3  \\\n",
       "0       2.0    3     299       0     1.0       1       7       0   \n",
       "1       2.0    1     265       0     1.0       1       2       0   \n",
       "2       1.0    1     307       0     1.0       2       7       0   \n",
       "3       1.0    4     307       0     2.0       1       2       0   \n",
       "4       1.0    1     307       0     1.0       1       0       0   \n",
       "5       2.0    3     266       0     2.0       5       6       0   \n",
       "6       2.0   12     264     264     1.0       1       0       0   \n",
       "7       1.0    0     307       0     2.0       1       2       7   \n",
       "8       2.0    2     265       0     2.0       6       0       0   \n",
       "9       2.0   12     265       0     2.0       1       7       0   \n",
       "10      1.0    2     307       0     1.0       1       2       7   \n",
       "11      2.0    3     264       0     2.0       1       2       5   \n",
       "12      1.0    2     307       0     1.0       2       5       6   \n",
       "13      2.0    2     265       0     3.0       1       6       7   \n",
       "14      1.0    3     307       0     2.0       2       5       7   \n",
       "15      1.0   78     218     205     1.0       1       7       0   \n",
       "16      2.0    6     266       0     2.0       2       0       0   \n",
       "17      1.0    8     307     307     2.0       2       0       0   \n",
       "18      1.0    2     307       0     2.0       1       0       0   \n",
       "19      2.0    1     266       0     3.0       1       2       7   \n",
       "20      1.0   12     307       0     2.0       2       7       0   \n",
       "21      1.0    3     307       0     2.0       6       0       0   \n",
       "22      2.0    0     114       0     3.0       3       6       7   \n",
       "23      1.0   10     307     117     2.0       1       2       7   \n",
       "24      2.0    3     266       0     1.0       2       7       0   \n",
       "25      2.0   36     285     251     1.0       3       0       0   \n",
       "26      2.0    2     285     265     1.0       3       0       0   \n",
       "27      2.0    1     266       0     2.0       1       0       0   \n",
       "28      1.0   14     189       0     1.0       1       2       0   \n",
       "29      2.0    1     266       0     2.0       2       7       0   \n",
       "...     ...  ...     ...     ...     ...     ...     ...     ...   \n",
       "14947   1.0   48      83       0     1.0       5       0       0   \n",
       "14948   2.0    1     303       0     2.0       1       2       7   \n",
       "14949   1.0    7     182       0     1.0       1       2       0   \n",
       "14950   1.0    1     218     307     2.0       1       2       0   \n",
       "14951   2.0    6     276       0     1.0       1       0       0   \n",
       "14952   2.0   36     265       0     1.0       6       7       0   \n",
       "14953   2.0    2     266       0     2.0       1       0       0   \n",
       "14954   2.0    1     265       0     1.0       1       2       0   \n",
       "14955   2.0   24     265       0     2.0       2       4       0   \n",
       "14956   2.0    2     266       0     3.0       3       7       0   \n",
       "14957   2.0   10     266       0     1.0       1       7       0   \n",
       "14958   1.0    2     307       0     2.0       2       5       0   \n",
       "14959   2.0    5     265       0     1.0       3       7       0   \n",
       "14960   2.0    2     266       0     1.0       6       0       0   \n",
       "14961   1.0    2     307     307     2.0       2       7       0   \n",
       "14962   1.0    2     307       0     1.0       1       2       7   \n",
       "14963   1.0   24     307       0     2.0       2       7       0   \n",
       "14964   2.0   84     264     264     3.0       1       7       0   \n",
       "14965   2.0    3     254       0     2.0       1       2       7   \n",
       "14966   1.0    4     307       0     2.0       2       0       0   \n",
       "14967   1.0    6     307       0     1.0       1       7       0   \n",
       "14968   1.0   24     307     307     2.0       2       0       0   \n",
       "14969   1.0    8     307       0     2.0       2       7       0   \n",
       "14970   2.0    2     266       0     2.0       1       4       7   \n",
       "14971   1.0   60     307       0     2.0       2       5       0   \n",
       "14972   1.0   24     179     307     1.0       2       3       7   \n",
       "14973   1.0    6     195       0     2.0       1       7       0   \n",
       "14974   2.0    2     266       0     3.0       1       0       0   \n",
       "14975   2.0   60     265     264     3.0       1       4       7   \n",
       "14976   2.0    9     266       0     2.0       4       7       0   \n",
       "\n",
       "       maturitysize  furlength  ...  \\\n",
       "0                 1          1  ...   \n",
       "1                 2          2  ...   \n",
       "2                 2          2  ...   \n",
       "3                 2          1  ...   \n",
       "4                 2          1  ...   \n",
       "5                 2          1  ...   \n",
       "6                 2          3  ...   \n",
       "7                 2          1  ...   \n",
       "8                 2          2  ...   \n",
       "9                 2          2  ...   \n",
       "10                2          1  ...   \n",
       "11                3          3  ...   \n",
       "12                2          3  ...   \n",
       "13                1          2  ...   \n",
       "14                2          2  ...   \n",
       "15                2          2  ...   \n",
       "16                1          1  ...   \n",
       "17                2          1  ...   \n",
       "18                2          1  ...   \n",
       "19                1          1  ...   \n",
       "20                2          2  ...   \n",
       "21                2          1  ...   \n",
       "22                2          2  ...   \n",
       "23                2          2  ...   \n",
       "24                1          1  ...   \n",
       "25                3          2  ...   \n",
       "26                2          2  ...   \n",
       "27                2          1  ...   \n",
       "28                3          1  ...   \n",
       "29                1          1  ...   \n",
       "...             ...        ...  ...   \n",
       "14947             1          2  ...   \n",
       "14948             1          2  ...   \n",
       "14949             1          1  ...   \n",
       "14950             2          1  ...   \n",
       "14951             2          2  ...   \n",
       "14952             2          2  ...   \n",
       "14953             1          1  ...   \n",
       "14954             1          2  ...   \n",
       "14955             1          2  ...   \n",
       "14956             2          1  ...   \n",
       "14957             2          1  ...   \n",
       "14958             2          1  ...   \n",
       "14959             3          2  ...   \n",
       "14960             2          1  ...   \n",
       "14961             2          2  ...   \n",
       "14962             2          1  ...   \n",
       "14963             2          2  ...   \n",
       "14964             2          2  ...   \n",
       "14965             1          2  ...   \n",
       "14966             2          1  ...   \n",
       "14967             2          1  ...   \n",
       "14968             3          1  ...   \n",
       "14969             2          2  ...   \n",
       "14970             2          1  ...   \n",
       "14971             2          2  ...   \n",
       "14972             2          2  ...   \n",
       "14973             1          3  ...   \n",
       "14974             2          2  ...   \n",
       "14975             2          2  ...   \n",
       "14976             1          1  ...   \n",
       "\n",
       "                                             description      petid  photoamt  \\\n",
       "0      Nibble is a 3+ month old ball of cuteness. He ...  86e1089a3         1   \n",
       "1      I just found it alone yesterday near my apartm...  6296e909a         2   \n",
       "2      Their pregnant mother was dumped by her irresp...  3422e4906         7   \n",
       "3      Good guard dog, very alert, active, obedience ...  5842f1ff5         8   \n",
       "4      This handsome yet cute boy is up for adoption....  850a43f90         3   \n",
       "5      This is a stray kitten that came to my house. ...  d24c30b4b         2   \n",
       "6      anyone within the area of ipoh or taiping who ...  1caa6fcdb         3   \n",
       "7      Siu Pak just give birth on 13/6/10 to 6puppies...  97aa9eeac         9   \n",
       "8      healthy and active, feisty kitten found in nei...  c06d167ca         6   \n",
       "9      Very manja and gentle stray cat found, we woul...  7a0942d61         2   \n",
       "10     For serious adopter, please do sms or call for...  8b693ca84         7   \n",
       "11     Kali is a super playful kitten who is on the g...  8e76c8e39         2   \n",
       "12     Peanut was an abused puppy until he was rescue...  aaedd873d         1   \n",
       "13     Hi Pet Lovers! This is my first posting and I ...  4a9793dfb         1   \n",
       "14     Lost Dog Found (Bandar Menjalara, Kepong／Taman...  c02be41e6         2   \n",
       "15     We moved out of our apartment to a landed home...  1fd342e17         2   \n",
       "16               to be spayed on /12 adorable & friendly  b38a74866         1   \n",
       "17     shes active... she can obey wht command that u...  f9d07d5fa         2   \n",
       "18     This cutie dumped by it's owner at the market ...  1c92ce464         8   \n",
       "19     Birth Date: Oct 30th Kitty 1, Melly -Female Sa...  b10e7605a         1   \n",
       "20     Godiva was rescued in Serdang residential area...  6436c1a59         7   \n",
       "21     Three puppies abandoned on the street, picked ...  234a5a54c         5   \n",
       "22     My cats name is Kenit, Kenot,Owen, Keyad, Manj...  1bc0f89d8         0   \n",
       "23     Donut is a friendly doggie and very domesticat...  1bf24d8be         0   \n",
       "24     hello cikenets fans, i just wanna inform that ...  988988d5b        19   \n",
       "25     Garfield is a very large cat. Needs daily groo...  cf7d3eec0         3   \n",
       "26     healthy toilet trained cute easy to look after...  85fc3c314        11   \n",
       "27     Just saved this kitten from the street, but i ...  efbf1703a         2   \n",
       "28     healthy and active , skinny and tall, as the m...  7843a9dca         0   \n",
       "29     This kitten found at the roadside. Stay there ...  d341fbfd6         1   \n",
       "...                                                  ...        ...       ...   \n",
       "14947  Hi, I'm King. DOB: Feb Adoption fee applies. F...  a5c5278b8         3   \n",
       "14948  stray kitten together with 4 other siblings. n...  91bcb5a0a         2   \n",
       "14949  Pug for adoption. highly active, yet obedient,...  a2317e5b0         0   \n",
       "14950  Maddie is among six siblings abandoned by thei...  c0f651276         2   \n",
       "14951  Pls adopt this cat, mix maincoone, so active.....  3b3b37546         2   \n",
       "14952  He's lovely, calm, friendly, quiet, sweet, int...  36e02d379         5   \n",
       "14953  Very sweet (hence the name) and curious about ...  9ca247f84         0   \n",
       "14954  stray kitten together with 4 other siblings. n...  8dc7b3ffa         1   \n",
       "14955  Doremon is a very LOVING, HEALTHY, PLAYFUL AND...  fddd6ef11         1   \n",
       "14956  Can anyone give these cute kittens a loving an...  e50d881a7         2   \n",
       "14957  Found this cat near my office few months ago w...  a237fba21         3   \n",
       "14958  One stray dog came to my house and gave birth ...  82ee2f3e9         3   \n",
       "14959  Omari is a well behaved house cat with soft fl...  0deeed2d9         1   \n",
       "14960  kofi's clever, cute, and compact.As a testamen...  b3101cf5c         3   \n",
       "14961                                       For Adoption  941880ea3         5   \n",
       "14962  It is my home away dogs born. Dog mother to ta...  c4bc89962         6   \n",
       "14963  She was hand raise since she was 2 days old. S...  c7d02bfca         3   \n",
       "14964  hey there 2 ekor kucing yang sudah lama dibela...  98ae7d88d         3   \n",
       "14965  Very friendly, close to human, could be good f...  472e86a83         2   \n",
       "14966  These puppies were rescued from factory area.....  ac6d69d99         5   \n",
       "14967  SambaBoy makes a good companion dog. Needs lov...  b7fcfa1e6         5   \n",
       "14968  I found her by the side of the road and too he...  fc601e041         1   \n",
       "14969  Patch is for free adoption. If you want to ado...  23874f644         2   \n",
       "14970  Homeless souls awaiting for a good home..We do...  54b6c1d72        16   \n",
       "14971                              abandoned,but healthy  f5dc70d35         1   \n",
       "14972  been at my place for a while..am hoping to fin...  e7f7066b6         0   \n",
       "14973                                              ooooo  4d163b731         1   \n",
       "14974  I have 4 kittens that need to be adopt urgentl...  dc0935a84         3   \n",
       "14975  Serato(female cat- 3 color) is 4 years old and...  a01ab5b30         3   \n",
       "14976  she is very shy..adventures and independent..s...  e4da1c9e4         3   \n",
       "\n",
       "       adoptionspeed  description_length       state_name    age_yr  \\\n",
       "0                  2                 359         Selangor  0.250000   \n",
       "1                  0                 118     Kuala Lumpur  0.083333   \n",
       "2                  3                 393         Selangor  0.083333   \n",
       "3                  2                 146     Kuala Lumpur  0.333333   \n",
       "4                  2                 390         Selangor  0.083333   \n",
       "5                  2                  87         Selangor  0.250000   \n",
       "6                  1                 400         Selangor  1.000000   \n",
       "7                  3                 109         Selangor  0.000000   \n",
       "8                  1                  79         Selangor  0.166667   \n",
       "9                  4                 232         Selangor  1.000000   \n",
       "10                 1                  68     Kuala Lumpur  0.166667   \n",
       "11                 1                 658         Selangor  0.250000   \n",
       "12                 2                 345         Selangor  0.166667   \n",
       "13                 1                 507         Selangor  0.166667   \n",
       "14                 2                 485     Kuala Lumpur  0.250000   \n",
       "15                 4                 355         Selangor  6.500000   \n",
       "16                 3                  39         Selangor  0.500000   \n",
       "17                 4                 390            Perak  0.666667   \n",
       "18                 2                 680     Kuala Lumpur  0.166667   \n",
       "19                 4                 529         Selangor  0.083333   \n",
       "20                 2                 434         Selangor  1.000000   \n",
       "21                 4                  94         Selangor  0.250000   \n",
       "22                 4                 111     Kuala Lumpur  0.000000   \n",
       "23                 4                 339         Selangor  0.833333   \n",
       "24                 1                 209     Kuala Lumpur  0.250000   \n",
       "25                 2                 345         Selangor  3.000000   \n",
       "26                 1                  54     Kuala Lumpur  0.166667   \n",
       "27                 2                  94         Selangor  0.083333   \n",
       "28                 3                 171         Selangor  1.166667   \n",
       "29                 2                 296     Pulau Pinang  0.083333   \n",
       "...              ...                 ...              ...       ...   \n",
       "14947              2                 192         Selangor  4.000000   \n",
       "14948              2                 171         Selangor  0.083333   \n",
       "14949              2                 417     Kuala Lumpur  0.583333   \n",
       "14950              2                 281         Selangor  0.083333   \n",
       "14951              1                 147         Selangor  0.500000   \n",
       "14952              4                 132     Kuala Lumpur  3.000000   \n",
       "14953              1                 170     Kuala Lumpur  0.166667   \n",
       "14954              2                 171         Selangor  0.083333   \n",
       "14955              1                 397         Selangor  2.000000   \n",
       "14956              4                 340         Selangor  0.166667   \n",
       "14957              4                 192         Selangor  0.833333   \n",
       "14958              3                 378     Kuala Lumpur  0.166667   \n",
       "14959              3                 394  Negeri Sembilan  0.416667   \n",
       "14960              1                 213     Kuala Lumpur  0.166667   \n",
       "14961              2                  12         Selangor  0.166667   \n",
       "14962              2                 141         Selangor  0.166667   \n",
       "14963              4                 130     Pulau Pinang  2.000000   \n",
       "14964              3                 488         Selangor  7.000000   \n",
       "14965              4                 158         Selangor  0.250000   \n",
       "14966              4                 593     Kuala Lumpur  0.333333   \n",
       "14967              4                 258         Selangor  0.500000   \n",
       "14968              4                 237         Selangor  2.000000   \n",
       "14969              3                 116         Selangor  0.666667   \n",
       "14970              3                1447            Johor  0.166667   \n",
       "14971              4                  21           Melaka  5.000000   \n",
       "14972              4                  62         Selangor  2.000000   \n",
       "14973              0                   5     Kuala Lumpur  0.500000   \n",
       "14974              2                 396         Selangor  0.166667   \n",
       "14975              4                 172         Selangor  5.000000   \n",
       "14976              4                 133            Johor  0.750000   \n",
       "\n",
       "      adoption_indicator  yhat yhat_knn  \n",
       "0                      1   1.0      1.0  \n",
       "1                      1   1.0      1.0  \n",
       "2                      1   1.0      1.0  \n",
       "3                      1   1.0      1.0  \n",
       "4                      1   1.0      1.0  \n",
       "5                      1   1.0      1.0  \n",
       "6                      1   1.0      0.0  \n",
       "7                      1   1.0      1.0  \n",
       "8                      1   1.0      1.0  \n",
       "9                      0   1.0      0.0  \n",
       "10                     1   1.0      1.0  \n",
       "11                     1   1.0      1.0  \n",
       "12                     1   1.0      1.0  \n",
       "13                     1   1.0      0.0  \n",
       "14                     1   1.0      1.0  \n",
       "15                     0   1.0      1.0  \n",
       "16                     1   1.0      1.0  \n",
       "17                     0   1.0      0.0  \n",
       "18                     1   1.0      1.0  \n",
       "19                     0   1.0      1.0  \n",
       "20                     1   1.0      1.0  \n",
       "21                     0   1.0      0.0  \n",
       "22                     0   1.0      1.0  \n",
       "23                     0   1.0      0.0  \n",
       "24                     1   1.0      1.0  \n",
       "25                     1   1.0      1.0  \n",
       "26                     1   1.0      1.0  \n",
       "27                     1   1.0      1.0  \n",
       "28                     1   1.0      1.0  \n",
       "29                     1   1.0      1.0  \n",
       "...                  ...   ...      ...  \n",
       "14947                  1   1.0      1.0  \n",
       "14948                  1   1.0      1.0  \n",
       "14949                  1   1.0      1.0  \n",
       "14950                  1   1.0      1.0  \n",
       "14951                  1   1.0      1.0  \n",
       "14952                  0   1.0      0.0  \n",
       "14953                  1   1.0      1.0  \n",
       "14954                  1   1.0      1.0  \n",
       "14955                  1   1.0      1.0  \n",
       "14956                  0   1.0      1.0  \n",
       "14957                  0   1.0      1.0  \n",
       "14958                  1   1.0      1.0  \n",
       "14959                  1   1.0      1.0  \n",
       "14960                  1   1.0      1.0  \n",
       "14961                  1   1.0      1.0  \n",
       "14962                  1   1.0      1.0  \n",
       "14963                  0   1.0      1.0  \n",
       "14964                  1   0.0      1.0  \n",
       "14965                  0   1.0      1.0  \n",
       "14966                  0   1.0      0.0  \n",
       "14967                  0   1.0      1.0  \n",
       "14968                  0   1.0      0.0  \n",
       "14969                  1   1.0      0.0  \n",
       "14970                  1   1.0      1.0  \n",
       "14971                  0   0.0      0.0  \n",
       "14972                  0   1.0      1.0  \n",
       "14973                  1   1.0      1.0  \n",
       "14974                  1   1.0      1.0  \n",
       "14975                  0   0.0      1.0  \n",
       "14976                  0   1.0      1.0  \n",
       "\n",
       "[14977 rows x 29 columns]"
      ]
     },
     "execution_count": 77,
     "metadata": {},
     "output_type": "execute_result"
    }
   ],
   "source": [
    "df['yhat_knn']=knnc().fit(X,y).predict(X)\n",
    "df"
   ]
  },
  {
   "cell_type": "code",
   "execution_count": 78,
   "metadata": {
    "scrolled": true
   },
   "outputs": [
    {
     "data": {
      "text/html": [
       "<div>\n",
       "<style scoped>\n",
       "    .dataframe tbody tr th:only-of-type {\n",
       "        vertical-align: middle;\n",
       "    }\n",
       "\n",
       "    .dataframe tbody tr th {\n",
       "        vertical-align: top;\n",
       "    }\n",
       "\n",
       "    .dataframe thead th {\n",
       "        text-align: right;\n",
       "    }\n",
       "</style>\n",
       "<table border=\"1\" class=\"dataframe\">\n",
       "  <thead>\n",
       "    <tr style=\"text-align: right;\">\n",
       "      <th>yhat_knn</th>\n",
       "      <th>0.0</th>\n",
       "      <th>1.0</th>\n",
       "    </tr>\n",
       "    <tr>\n",
       "      <th>adoption_indicator</th>\n",
       "      <th></th>\n",
       "      <th></th>\n",
       "    </tr>\n",
       "  </thead>\n",
       "  <tbody>\n",
       "    <tr>\n",
       "      <th>0</th>\n",
       "      <td>0.137878</td>\n",
       "      <td>0.142085</td>\n",
       "    </tr>\n",
       "    <tr>\n",
       "      <th>1</th>\n",
       "      <td>0.058757</td>\n",
       "      <td>0.661281</td>\n",
       "    </tr>\n",
       "  </tbody>\n",
       "</table>\n",
       "</div>"
      ],
      "text/plain": [
       "yhat_knn                 0.0       1.0\n",
       "adoption_indicator                    \n",
       "0                   0.137878  0.142085\n",
       "1                   0.058757  0.661281"
      ]
     },
     "execution_count": 78,
     "metadata": {},
     "output_type": "execute_result"
    }
   ],
   "source": [
    "df.pivot_table(index='adoption_indicator',columns='yhat_knn',values='rescuerid',aggfunc='count')/len(df)"
   ]
  },
  {
   "cell_type": "markdown",
   "metadata": {},
   "source": [
    "The \"confusion matrix\" above shows that the model correctly predicts adoption 80% of the time. (We are aware that this model may have overfitting problems)\n",
    "\n",
    "Now we wanted to tune for the optimal k value."
   ]
  },
  {
   "cell_type": "code",
   "execution_count": 85,
   "metadata": {},
   "outputs": [
    {
     "name": "stdout",
     "output_type": "stream",
     "text": [
      "50 0.7410027054055359\n",
      "51 0.7424049536120936\n",
      "52 0.7426053097909497\n",
      "53 0.7428057552004107\n",
      "54 0.7428057105627747\n",
      "55 0.7420043080619441\n",
      "56 0.742872421629149\n",
      "57 0.742004151993998\n",
      "58 0.7421380200713237\n",
      "59 0.7430058438363436\n",
      "60 0.7418039964313892\n",
      "61 0.7415368845634116\n",
      "62 0.7432729111113525\n",
      "63 0.7432066236260692\n",
      "64 0.7419376192101638\n",
      "65 0.7433400235293348\n",
      "66 0.742805844341681\n",
      "67 0.7416708195227457\n",
      "68 0.743072755593411\n",
      "69 0.7419377753972229\n"
     ]
    }
   ],
   "source": [
    "for i in range(50,70):\n",
    "    print(i,cross_val_score(knnc(i),X,np.ravel(y),cv=5).mean())"
   ]
  },
  {
   "cell_type": "markdown",
   "metadata": {},
   "source": [
    "After tuning the parameters, the model returns the best accuracy when n_neighbors = 65. The accuracy of the model is 0.7433400235293348."
   ]
  },
  {
   "cell_type": "markdown",
   "metadata": {},
   "source": [
    "We then analyzed classification under random forest."
   ]
  },
  {
   "cell_type": "code",
   "execution_count": 113,
   "metadata": {},
   "outputs": [
    {
     "name": "stderr",
     "output_type": "stream",
     "text": [
      "/anaconda3/lib/python3.7/site-packages/sklearn/ensemble/forest.py:246: FutureWarning: The default value of n_estimators will change from 10 in version 0.20 to 100 in 0.22.\n",
      "  \"10 in version 0.20 to 100 in 0.22.\", FutureWarning)\n",
      "/anaconda3/lib/python3.7/site-packages/sklearn/ensemble/forest.py:246: FutureWarning: The default value of n_estimators will change from 10 in version 0.20 to 100 in 0.22.\n",
      "  \"10 in version 0.20 to 100 in 0.22.\", FutureWarning)\n"
     ]
    },
    {
     "data": {
      "text/html": [
       "<div>\n",
       "<style scoped>\n",
       "    .dataframe tbody tr th:only-of-type {\n",
       "        vertical-align: middle;\n",
       "    }\n",
       "\n",
       "    .dataframe tbody tr th {\n",
       "        vertical-align: top;\n",
       "    }\n",
       "\n",
       "    .dataframe thead th {\n",
       "        text-align: right;\n",
       "    }\n",
       "</style>\n",
       "<table border=\"1\" class=\"dataframe\">\n",
       "  <thead>\n",
       "    <tr style=\"text-align: right;\">\n",
       "      <th>yhat_rf</th>\n",
       "      <th>0.0</th>\n",
       "      <th>1.0</th>\n",
       "    </tr>\n",
       "    <tr>\n",
       "      <th>adoption_indicator</th>\n",
       "      <th></th>\n",
       "      <th></th>\n",
       "    </tr>\n",
       "  </thead>\n",
       "  <tbody>\n",
       "    <tr>\n",
       "      <th>0</th>\n",
       "      <td>0.225212</td>\n",
       "      <td>0.054751</td>\n",
       "    </tr>\n",
       "    <tr>\n",
       "      <th>1</th>\n",
       "      <td>0.025239</td>\n",
       "      <td>0.694799</td>\n",
       "    </tr>\n",
       "  </tbody>\n",
       "</table>\n",
       "</div>"
      ],
      "text/plain": [
       "yhat_rf                  0.0       1.0\n",
       "adoption_indicator                    \n",
       "0                   0.225212  0.054751\n",
       "1                   0.025239  0.694799"
      ]
     },
     "execution_count": 113,
     "metadata": {},
     "output_type": "execute_result"
    }
   ],
   "source": [
    "yhat_rf = rfc().fit(X,y).predict(X)\n",
    "df['yhat_rf']=rfc().fit(X,y).predict(X)\n",
    "df.pivot_table(index='adoption_indicator',columns='yhat_rf',values='rescuerid',aggfunc='count')/len(df)"
   ]
  },
  {
   "cell_type": "markdown",
   "metadata": {},
   "source": [
    "The \"confusion matrix\" above shows that the random forest classifier model correctly predicts adoption 95% of the time! \n",
    "\n",
    "However, the high accuracy can be due to overfitting. We then want to use cross validation to find out the realistic accuracy. "
   ]
  },
  {
   "cell_type": "code",
   "execution_count": 86,
   "metadata": {},
   "outputs": [
    {
     "name": "stderr",
     "output_type": "stream",
     "text": [
      "/anaconda3/lib/python3.7/site-packages/sklearn/ensemble/forest.py:246: FutureWarning: The default value of n_estimators will change from 10 in version 0.20 to 100 in 0.22.\n",
      "  \"10 in version 0.20 to 100 in 0.22.\", FutureWarning)\n",
      "/anaconda3/lib/python3.7/site-packages/sklearn/ensemble/forest.py:246: FutureWarning: The default value of n_estimators will change from 10 in version 0.20 to 100 in 0.22.\n",
      "  \"10 in version 0.20 to 100 in 0.22.\", FutureWarning)\n",
      "/anaconda3/lib/python3.7/site-packages/sklearn/ensemble/forest.py:246: FutureWarning: The default value of n_estimators will change from 10 in version 0.20 to 100 in 0.22.\n",
      "  \"10 in version 0.20 to 100 in 0.22.\", FutureWarning)\n",
      "/anaconda3/lib/python3.7/site-packages/sklearn/ensemble/forest.py:246: FutureWarning: The default value of n_estimators will change from 10 in version 0.20 to 100 in 0.22.\n",
      "  \"10 in version 0.20 to 100 in 0.22.\", FutureWarning)\n",
      "/anaconda3/lib/python3.7/site-packages/sklearn/ensemble/forest.py:246: FutureWarning: The default value of n_estimators will change from 10 in version 0.20 to 100 in 0.22.\n",
      "  \"10 in version 0.20 to 100 in 0.22.\", FutureWarning)\n"
     ]
    },
    {
     "data": {
      "text/plain": [
       "0.7163651799476595"
      ]
     },
     "execution_count": 86,
     "metadata": {},
     "output_type": "execute_result"
    }
   ],
   "source": [
    "cross_val_score(rfc(),X,y,cv=5).mean()"
   ]
  },
  {
   "cell_type": "markdown",
   "metadata": {},
   "source": [
    "The untuned random forest model returns an accuracy rate of 71.64%. \n",
    "\n",
    "Now we want to tune for the hyperparameters."
   ]
  },
  {
   "cell_type": "code",
   "execution_count": 87,
   "metadata": {},
   "outputs": [
    {
     "data": {
      "text/plain": [
       "0.7268477158320794"
      ]
     },
     "execution_count": 87,
     "metadata": {},
     "output_type": "execute_result"
    }
   ],
   "source": [
    "cross_val_score(rfc(n_estimators=100),X,np.ravel(y),cv=5).mean()"
   ]
  },
  {
   "cell_type": "code",
   "execution_count": 88,
   "metadata": {},
   "outputs": [
    {
     "data": {
      "text/plain": [
       "0.7289846777323545"
      ]
     },
     "execution_count": 88,
     "metadata": {},
     "output_type": "execute_result"
    }
   ],
   "source": [
    "cross_val_score(rfc(n_estimators=200),X,np.ravel(y),cv=5).mean()"
   ]
  },
  {
   "cell_type": "code",
   "execution_count": 90,
   "metadata": {},
   "outputs": [
    {
     "name": "stdout",
     "output_type": "stream",
     "text": [
      "10 0.7534222482587587\n",
      "11 0.7564931653116129\n",
      "12 0.7555584743676049\n",
      "13 0.7522867775250253\n",
      "14 0.7522200886881341\n",
      "15 0.747345720682356\n",
      "16 0.7481468109728487\n",
      "17 0.7444746694345932\n",
      "18 0.7406683920527516\n",
      "19 0.7375300951432157\n"
     ]
    }
   ],
   "source": [
    "for i in range(10,20):\n",
    "    print(i, cross_val_score(rfc(n_estimators=200, max_depth = i),X,np.ravel(y),cv=5).mean())"
   ]
  },
  {
   "cell_type": "code",
   "execution_count": 92,
   "metadata": {},
   "outputs": [
    {
     "name": "stdout",
     "output_type": "stream",
     "text": [
      "1 0.7454764280398343\n",
      "2 0.7506849089012623\n",
      "3 0.7547572056903481\n",
      "4 0.7562932104248082\n",
      "5 0.7552917861104967\n",
      "6 0.7527543793507654\n",
      "7 0.751753311780204\n",
      "8 0.7531550917680342\n",
      "9 0.7523538230312207\n"
     ]
    }
   ],
   "source": [
    "for i in range(1,10):\n",
    "    print(i, cross_val_score(rfc(n_estimators=200, max_depth = 11, max_features = i),X,np.ravel(y),cv=5).mean())"
   ]
  },
  {
   "cell_type": "markdown",
   "metadata": {},
   "source": [
    "After tuning the parameters, the model returns the best accuracy when n_estimators=200, max_depth=11, and max_features = 4. The accuracy is 0.7564931653116129."
   ]
  },
  {
   "cell_type": "markdown",
   "metadata": {},
   "source": [
    "<center><b><font size='5'color='red'>CONCLUSION</font></b></center>\n",
    "<br><br>"
   ]
  },
  {
   "cell_type": "markdown",
   "metadata": {},
   "source": [
    "By tuning several machine learning models, we eventually landed on a model (random forest) that has 75.65% accuracy rate in predicting whether or not a pet will be adopted."
   ]
  }
 ],
 "metadata": {
  "kernelspec": {
   "display_name": "Python 3",
   "language": "python",
   "name": "python3"
  },
  "language_info": {
   "codemirror_mode": {
    "name": "ipython",
    "version": 3
   },
   "file_extension": ".py",
   "mimetype": "text/x-python",
   "name": "python",
   "nbconvert_exporter": "python",
   "pygments_lexer": "ipython3",
   "version": "3.7.3"
  }
 },
 "nbformat": 4,
 "nbformat_minor": 2
}
